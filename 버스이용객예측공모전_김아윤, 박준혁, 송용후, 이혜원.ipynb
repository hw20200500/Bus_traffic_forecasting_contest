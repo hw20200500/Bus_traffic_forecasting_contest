{
 "cells": [
  {
   "cell_type": "markdown",
   "id": "bb9e2f1c",
   "metadata": {},
   "source": [
    "# 대전시 대중교통 통행수요 예측\n",
    "### : 대전 스마트카드 데이터를 활용하여 1시간 단위 발생 통행량을 예측"
   ]
  },
  {
   "cell_type": "markdown",
   "id": "4916a8d1",
   "metadata": {},
   "source": [
    "#### 팀장: 김아윤\n",
    "#### 팀원: 박준혁, 송용후, 이혜원"
   ]
  },
  {
   "cell_type": "code",
   "execution_count": 1,
   "id": "cc616f59",
   "metadata": {
    "scrolled": true
   },
   "outputs": [],
   "source": [
    "import pandas as pd\n",
    "import geopandas as gpd\n",
    "# import folium\n",
    "import matplotlib.pyplot as plt"
   ]
  },
  {
   "cell_type": "code",
   "execution_count": 2,
   "id": "a30982ec",
   "metadata": {},
   "outputs": [],
   "source": [
    "import pandas as pd\n",
    "from datetime import datetime\n",
    "import numpy as np\n",
    "from tqdm import tqdm\n",
    "from glob import glob\n",
    "import pickle"
   ]
  },
  {
   "cell_type": "markdown",
   "id": "5a53583c",
   "metadata": {},
   "source": [
    "### [원본 데이터 컬럼명]\n",
    "#### - GID: 격자번호\n",
    "#### - DATE: 일자\n",
    "#### - TIME: 시간(시)\n",
    "#### - RIDE_DEMAND: 승차 수요 (Target Variable)\n",
    "#### - ALIGHT_DEMAND: 하차 수요\n",
    "#### - (주의) 하차수요가 아닌 승차수요를 예측하는 모델을 제출하여야 함\n",
    "\n",
    "###\n",
    "### [추가한 컬럼]\n",
    "#### - DAY: 요일 - 주말과 평일의 승하차 데이터에 변화가 있다는 것을 감지하여 '요일' 칼럼을 추가하여 모델에 추가 학습시켰다.\n",
    "### 따라서 테스트 데이터, 학습 데이터 둘 다 'DAY' 칼럼이 추가됨!!"
   ]
  },
  {
   "cell_type": "code",
   "execution_count": 3,
   "id": "6089b15e",
   "metadata": {
    "scrolled": true
   },
   "outputs": [
    {
     "data": {
      "text/html": [
       "<div>\n",
       "<style scoped>\n",
       "    .dataframe tbody tr th:only-of-type {\n",
       "        vertical-align: middle;\n",
       "    }\n",
       "\n",
       "    .dataframe tbody tr th {\n",
       "        vertical-align: top;\n",
       "    }\n",
       "\n",
       "    .dataframe thead th {\n",
       "        text-align: right;\n",
       "    }\n",
       "</style>\n",
       "<table border=\"1\" class=\"dataframe\">\n",
       "  <thead>\n",
       "    <tr style=\"text-align: right;\">\n",
       "      <th></th>\n",
       "      <th>gid</th>\n",
       "      <th>DATE</th>\n",
       "      <th>TIME</th>\n",
       "      <th>RIDE_DEMAND</th>\n",
       "      <th>ALIGHT_DEMAND</th>\n",
       "    </tr>\n",
       "  </thead>\n",
       "  <tbody>\n",
       "    <tr>\n",
       "      <th>0</th>\n",
       "      <td>다마9599</td>\n",
       "      <td>2023-06-01</td>\n",
       "      <td>5</td>\n",
       "      <td>1</td>\n",
       "      <td>0</td>\n",
       "    </tr>\n",
       "    <tr>\n",
       "      <th>1</th>\n",
       "      <td>다마9599</td>\n",
       "      <td>2023-06-01</td>\n",
       "      <td>6</td>\n",
       "      <td>2</td>\n",
       "      <td>5</td>\n",
       "    </tr>\n",
       "    <tr>\n",
       "      <th>2</th>\n",
       "      <td>다마9599</td>\n",
       "      <td>2023-06-01</td>\n",
       "      <td>7</td>\n",
       "      <td>2</td>\n",
       "      <td>7</td>\n",
       "    </tr>\n",
       "    <tr>\n",
       "      <th>3</th>\n",
       "      <td>다마9599</td>\n",
       "      <td>2023-06-01</td>\n",
       "      <td>8</td>\n",
       "      <td>3</td>\n",
       "      <td>12</td>\n",
       "    </tr>\n",
       "    <tr>\n",
       "      <th>4</th>\n",
       "      <td>다마9599</td>\n",
       "      <td>2023-06-01</td>\n",
       "      <td>9</td>\n",
       "      <td>2</td>\n",
       "      <td>31</td>\n",
       "    </tr>\n",
       "    <tr>\n",
       "      <th>...</th>\n",
       "      <td>...</td>\n",
       "      <td>...</td>\n",
       "      <td>...</td>\n",
       "      <td>...</td>\n",
       "      <td>...</td>\n",
       "    </tr>\n",
       "    <tr>\n",
       "      <th>539485</th>\n",
       "      <td>라바0421</td>\n",
       "      <td>2023-08-24</td>\n",
       "      <td>21</td>\n",
       "      <td>0</td>\n",
       "      <td>1</td>\n",
       "    </tr>\n",
       "    <tr>\n",
       "      <th>539486</th>\n",
       "      <td>라바0421</td>\n",
       "      <td>2023-08-24</td>\n",
       "      <td>22</td>\n",
       "      <td>0</td>\n",
       "      <td>0</td>\n",
       "    </tr>\n",
       "    <tr>\n",
       "      <th>539487</th>\n",
       "      <td>라바0421</td>\n",
       "      <td>2023-08-24</td>\n",
       "      <td>23</td>\n",
       "      <td>0</td>\n",
       "      <td>0</td>\n",
       "    </tr>\n",
       "    <tr>\n",
       "      <th>539488</th>\n",
       "      <td>라바0421</td>\n",
       "      <td>2023-08-24</td>\n",
       "      <td>0</td>\n",
       "      <td>0</td>\n",
       "      <td>0</td>\n",
       "    </tr>\n",
       "    <tr>\n",
       "      <th>539489</th>\n",
       "      <td>라바0421</td>\n",
       "      <td>2023-08-24</td>\n",
       "      <td>1</td>\n",
       "      <td>0</td>\n",
       "      <td>0</td>\n",
       "    </tr>\n",
       "  </tbody>\n",
       "</table>\n",
       "<p>539490 rows × 5 columns</p>\n",
       "</div>"
      ],
      "text/plain": [
       "           gid        DATE  TIME  RIDE_DEMAND  ALIGHT_DEMAND\n",
       "0       다마9599  2023-06-01     5            1              0\n",
       "1       다마9599  2023-06-01     6            2              5\n",
       "2       다마9599  2023-06-01     7            2              7\n",
       "3       다마9599  2023-06-01     8            3             12\n",
       "4       다마9599  2023-06-01     9            2             31\n",
       "...        ...         ...   ...          ...            ...\n",
       "539485  라바0421  2023-08-24    21            0              1\n",
       "539486  라바0421  2023-08-24    22            0              0\n",
       "539487  라바0421  2023-08-24    23            0              0\n",
       "539488  라바0421  2023-08-24     0            0              0\n",
       "539489  라바0421  2023-08-24     1            0              0\n",
       "\n",
       "[539490 rows x 5 columns]"
      ]
     },
     "execution_count": 3,
     "metadata": {},
     "output_type": "execute_result"
    }
   ],
   "source": [
    "# 학습데이터\n",
    "data = pd.read_csv(r'.\\data\\train_data_modified.csv')\n",
    "data"
   ]
  },
  {
   "cell_type": "code",
   "execution_count": 4,
   "id": "0c538a96",
   "metadata": {},
   "outputs": [
    {
     "name": "stdout",
     "output_type": "stream",
     "text": [
      "<class 'pandas.core.frame.DataFrame'>\n",
      "RangeIndex: 539490 entries, 0 to 539489\n",
      "Data columns (total 5 columns):\n",
      " #   Column         Non-Null Count   Dtype \n",
      "---  ------         --------------   ----- \n",
      " 0   gid            539490 non-null  object\n",
      " 1   DATE           539490 non-null  object\n",
      " 2   TIME           539490 non-null  int64 \n",
      " 3   RIDE_DEMAND    539490 non-null  int64 \n",
      " 4   ALIGHT_DEMAND  539490 non-null  int64 \n",
      "dtypes: int64(3), object(2)\n",
      "memory usage: 20.6+ MB\n"
     ]
    }
   ],
   "source": [
    "data.info()"
   ]
  },
  {
   "cell_type": "code",
   "execution_count": 5,
   "id": "4b887fcb",
   "metadata": {},
   "outputs": [],
   "source": [
    "data['DATE'] = pd.to_datetime(data['DATE'])"
   ]
  },
  {
   "cell_type": "code",
   "execution_count": 6,
   "id": "3ca18226",
   "metadata": {},
   "outputs": [
    {
     "name": "stdout",
     "output_type": "stream",
     "text": [
      "<class 'pandas.core.frame.DataFrame'>\n",
      "RangeIndex: 539490 entries, 0 to 539489\n",
      "Data columns (total 5 columns):\n",
      " #   Column         Non-Null Count   Dtype         \n",
      "---  ------         --------------   -----         \n",
      " 0   gid            539490 non-null  object        \n",
      " 1   DATE           539490 non-null  datetime64[ns]\n",
      " 2   TIME           539490 non-null  int64         \n",
      " 3   RIDE_DEMAND    539490 non-null  int64         \n",
      " 4   ALIGHT_DEMAND  539490 non-null  int64         \n",
      "dtypes: datetime64[ns](1), int64(3), object(1)\n",
      "memory usage: 20.6+ MB\n"
     ]
    }
   ],
   "source": [
    "data.info()"
   ]
  },
  {
   "cell_type": "code",
   "execution_count": 7,
   "id": "27c2415f",
   "metadata": {},
   "outputs": [
    {
     "data": {
      "text/html": [
       "<div>\n",
       "<style scoped>\n",
       "    .dataframe tbody tr th:only-of-type {\n",
       "        vertical-align: middle;\n",
       "    }\n",
       "\n",
       "    .dataframe tbody tr th {\n",
       "        vertical-align: top;\n",
       "    }\n",
       "\n",
       "    .dataframe thead th {\n",
       "        text-align: right;\n",
       "    }\n",
       "</style>\n",
       "<table border=\"1\" class=\"dataframe\">\n",
       "  <thead>\n",
       "    <tr style=\"text-align: right;\">\n",
       "      <th></th>\n",
       "      <th>gid</th>\n",
       "      <th>DATE</th>\n",
       "      <th>TIME</th>\n",
       "      <th>RIDE_DEMAND</th>\n",
       "      <th>ALIGHT_DEMAND</th>\n",
       "      <th>DAY</th>\n",
       "    </tr>\n",
       "  </thead>\n",
       "  <tbody>\n",
       "    <tr>\n",
       "      <th>0</th>\n",
       "      <td>다마9599</td>\n",
       "      <td>2023-06-01</td>\n",
       "      <td>5</td>\n",
       "      <td>1</td>\n",
       "      <td>0</td>\n",
       "      <td>Thursday</td>\n",
       "    </tr>\n",
       "    <tr>\n",
       "      <th>1</th>\n",
       "      <td>다마9599</td>\n",
       "      <td>2023-06-01</td>\n",
       "      <td>6</td>\n",
       "      <td>2</td>\n",
       "      <td>5</td>\n",
       "      <td>Thursday</td>\n",
       "    </tr>\n",
       "    <tr>\n",
       "      <th>2</th>\n",
       "      <td>다마9599</td>\n",
       "      <td>2023-06-01</td>\n",
       "      <td>7</td>\n",
       "      <td>2</td>\n",
       "      <td>7</td>\n",
       "      <td>Thursday</td>\n",
       "    </tr>\n",
       "    <tr>\n",
       "      <th>3</th>\n",
       "      <td>다마9599</td>\n",
       "      <td>2023-06-01</td>\n",
       "      <td>8</td>\n",
       "      <td>3</td>\n",
       "      <td>12</td>\n",
       "      <td>Thursday</td>\n",
       "    </tr>\n",
       "    <tr>\n",
       "      <th>4</th>\n",
       "      <td>다마9599</td>\n",
       "      <td>2023-06-01</td>\n",
       "      <td>9</td>\n",
       "      <td>2</td>\n",
       "      <td>31</td>\n",
       "      <td>Thursday</td>\n",
       "    </tr>\n",
       "    <tr>\n",
       "      <th>...</th>\n",
       "      <td>...</td>\n",
       "      <td>...</td>\n",
       "      <td>...</td>\n",
       "      <td>...</td>\n",
       "      <td>...</td>\n",
       "      <td>...</td>\n",
       "    </tr>\n",
       "    <tr>\n",
       "      <th>539485</th>\n",
       "      <td>라바0421</td>\n",
       "      <td>2023-08-24</td>\n",
       "      <td>21</td>\n",
       "      <td>0</td>\n",
       "      <td>1</td>\n",
       "      <td>Thursday</td>\n",
       "    </tr>\n",
       "    <tr>\n",
       "      <th>539486</th>\n",
       "      <td>라바0421</td>\n",
       "      <td>2023-08-24</td>\n",
       "      <td>22</td>\n",
       "      <td>0</td>\n",
       "      <td>0</td>\n",
       "      <td>Thursday</td>\n",
       "    </tr>\n",
       "    <tr>\n",
       "      <th>539487</th>\n",
       "      <td>라바0421</td>\n",
       "      <td>2023-08-24</td>\n",
       "      <td>23</td>\n",
       "      <td>0</td>\n",
       "      <td>0</td>\n",
       "      <td>Thursday</td>\n",
       "    </tr>\n",
       "    <tr>\n",
       "      <th>539488</th>\n",
       "      <td>라바0421</td>\n",
       "      <td>2023-08-24</td>\n",
       "      <td>0</td>\n",
       "      <td>0</td>\n",
       "      <td>0</td>\n",
       "      <td>Thursday</td>\n",
       "    </tr>\n",
       "    <tr>\n",
       "      <th>539489</th>\n",
       "      <td>라바0421</td>\n",
       "      <td>2023-08-24</td>\n",
       "      <td>1</td>\n",
       "      <td>0</td>\n",
       "      <td>0</td>\n",
       "      <td>Thursday</td>\n",
       "    </tr>\n",
       "  </tbody>\n",
       "</table>\n",
       "<p>539490 rows × 6 columns</p>\n",
       "</div>"
      ],
      "text/plain": [
       "           gid       DATE  TIME  RIDE_DEMAND  ALIGHT_DEMAND       DAY\n",
       "0       다마9599 2023-06-01     5            1              0  Thursday\n",
       "1       다마9599 2023-06-01     6            2              5  Thursday\n",
       "2       다마9599 2023-06-01     7            2              7  Thursday\n",
       "3       다마9599 2023-06-01     8            3             12  Thursday\n",
       "4       다마9599 2023-06-01     9            2             31  Thursday\n",
       "...        ...        ...   ...          ...            ...       ...\n",
       "539485  라바0421 2023-08-24    21            0              1  Thursday\n",
       "539486  라바0421 2023-08-24    22            0              0  Thursday\n",
       "539487  라바0421 2023-08-24    23            0              0  Thursday\n",
       "539488  라바0421 2023-08-24     0            0              0  Thursday\n",
       "539489  라바0421 2023-08-24     1            0              0  Thursday\n",
       "\n",
       "[539490 rows x 6 columns]"
      ]
     },
     "execution_count": 7,
     "metadata": {},
     "output_type": "execute_result"
    }
   ],
   "source": [
    "data['DAY'] = data['DATE'].dt.day_name()\n",
    "data"
   ]
  },
  {
   "cell_type": "code",
   "execution_count": 8,
   "id": "831265da",
   "metadata": {
    "scrolled": true
   },
   "outputs": [
    {
     "data": {
      "text/html": [
       "<div>\n",
       "<style scoped>\n",
       "    .dataframe tbody tr th:only-of-type {\n",
       "        vertical-align: middle;\n",
       "    }\n",
       "\n",
       "    .dataframe tbody tr th {\n",
       "        vertical-align: top;\n",
       "    }\n",
       "\n",
       "    .dataframe thead th {\n",
       "        text-align: right;\n",
       "    }\n",
       "</style>\n",
       "<table border=\"1\" class=\"dataframe\">\n",
       "  <thead>\n",
       "    <tr style=\"text-align: right;\">\n",
       "      <th></th>\n",
       "      <th>gid</th>\n",
       "      <th>DATE</th>\n",
       "      <th>TIME</th>\n",
       "      <th>ALIGHT_DEMAND</th>\n",
       "    </tr>\n",
       "  </thead>\n",
       "  <tbody>\n",
       "    <tr>\n",
       "      <th>0</th>\n",
       "      <td>다마9599</td>\n",
       "      <td>2023-06-24</td>\n",
       "      <td>5</td>\n",
       "      <td>0</td>\n",
       "    </tr>\n",
       "    <tr>\n",
       "      <th>1</th>\n",
       "      <td>다마9599</td>\n",
       "      <td>2023-06-24</td>\n",
       "      <td>6</td>\n",
       "      <td>1</td>\n",
       "    </tr>\n",
       "    <tr>\n",
       "      <th>2</th>\n",
       "      <td>다마9599</td>\n",
       "      <td>2023-06-24</td>\n",
       "      <td>7</td>\n",
       "      <td>0</td>\n",
       "    </tr>\n",
       "    <tr>\n",
       "      <th>3</th>\n",
       "      <td>다마9599</td>\n",
       "      <td>2023-06-24</td>\n",
       "      <td>8</td>\n",
       "      <td>1</td>\n",
       "    </tr>\n",
       "    <tr>\n",
       "      <th>4</th>\n",
       "      <td>다마9599</td>\n",
       "      <td>2023-06-24</td>\n",
       "      <td>9</td>\n",
       "      <td>5</td>\n",
       "    </tr>\n",
       "    <tr>\n",
       "      <th>...</th>\n",
       "      <td>...</td>\n",
       "      <td>...</td>\n",
       "      <td>...</td>\n",
       "      <td>...</td>\n",
       "    </tr>\n",
       "    <tr>\n",
       "      <th>161842</th>\n",
       "      <td>라바0421</td>\n",
       "      <td>2023-08-31</td>\n",
       "      <td>21</td>\n",
       "      <td>1</td>\n",
       "    </tr>\n",
       "    <tr>\n",
       "      <th>161843</th>\n",
       "      <td>라바0421</td>\n",
       "      <td>2023-08-31</td>\n",
       "      <td>22</td>\n",
       "      <td>0</td>\n",
       "    </tr>\n",
       "    <tr>\n",
       "      <th>161844</th>\n",
       "      <td>라바0421</td>\n",
       "      <td>2023-08-31</td>\n",
       "      <td>23</td>\n",
       "      <td>0</td>\n",
       "    </tr>\n",
       "    <tr>\n",
       "      <th>161845</th>\n",
       "      <td>라바0421</td>\n",
       "      <td>2023-08-31</td>\n",
       "      <td>0</td>\n",
       "      <td>0</td>\n",
       "    </tr>\n",
       "    <tr>\n",
       "      <th>161846</th>\n",
       "      <td>라바0421</td>\n",
       "      <td>2023-08-31</td>\n",
       "      <td>1</td>\n",
       "      <td>0</td>\n",
       "    </tr>\n",
       "  </tbody>\n",
       "</table>\n",
       "<p>161847 rows × 4 columns</p>\n",
       "</div>"
      ],
      "text/plain": [
       "           gid        DATE  TIME  ALIGHT_DEMAND\n",
       "0       다마9599  2023-06-24     5              0\n",
       "1       다마9599  2023-06-24     6              1\n",
       "2       다마9599  2023-06-24     7              0\n",
       "3       다마9599  2023-06-24     8              1\n",
       "4       다마9599  2023-06-24     9              5\n",
       "...        ...         ...   ...            ...\n",
       "161842  라바0421  2023-08-31    21              1\n",
       "161843  라바0421  2023-08-31    22              0\n",
       "161844  라바0421  2023-08-31    23              0\n",
       "161845  라바0421  2023-08-31     0              0\n",
       "161846  라바0421  2023-08-31     1              0\n",
       "\n",
       "[161847 rows x 4 columns]"
      ]
     },
     "execution_count": 8,
     "metadata": {},
     "output_type": "execute_result"
    }
   ],
   "source": [
    "# 테스트데이터\n",
    "data_test = pd.read_csv(r'.\\data\\test_data_modified.csv')\n",
    "# data_test.astype({'gid':'str', 'DATE':'str', 'DAY':'str'})\n",
    "data_test"
   ]
  },
  {
   "cell_type": "code",
   "execution_count": 9,
   "id": "3f80226e",
   "metadata": {},
   "outputs": [
    {
     "data": {
      "text/html": [
       "<div>\n",
       "<style scoped>\n",
       "    .dataframe tbody tr th:only-of-type {\n",
       "        vertical-align: middle;\n",
       "    }\n",
       "\n",
       "    .dataframe tbody tr th {\n",
       "        vertical-align: top;\n",
       "    }\n",
       "\n",
       "    .dataframe thead th {\n",
       "        text-align: right;\n",
       "    }\n",
       "</style>\n",
       "<table border=\"1\" class=\"dataframe\">\n",
       "  <thead>\n",
       "    <tr style=\"text-align: right;\">\n",
       "      <th></th>\n",
       "      <th>gid</th>\n",
       "      <th>DATE</th>\n",
       "      <th>TIME</th>\n",
       "      <th>ALIGHT_DEMAND</th>\n",
       "      <th>DAY</th>\n",
       "    </tr>\n",
       "  </thead>\n",
       "  <tbody>\n",
       "    <tr>\n",
       "      <th>0</th>\n",
       "      <td>다마9599</td>\n",
       "      <td>2023-06-24</td>\n",
       "      <td>5</td>\n",
       "      <td>0</td>\n",
       "      <td>Saturday</td>\n",
       "    </tr>\n",
       "    <tr>\n",
       "      <th>1</th>\n",
       "      <td>다마9599</td>\n",
       "      <td>2023-06-24</td>\n",
       "      <td>6</td>\n",
       "      <td>1</td>\n",
       "      <td>Saturday</td>\n",
       "    </tr>\n",
       "    <tr>\n",
       "      <th>2</th>\n",
       "      <td>다마9599</td>\n",
       "      <td>2023-06-24</td>\n",
       "      <td>7</td>\n",
       "      <td>0</td>\n",
       "      <td>Saturday</td>\n",
       "    </tr>\n",
       "    <tr>\n",
       "      <th>3</th>\n",
       "      <td>다마9599</td>\n",
       "      <td>2023-06-24</td>\n",
       "      <td>8</td>\n",
       "      <td>1</td>\n",
       "      <td>Saturday</td>\n",
       "    </tr>\n",
       "    <tr>\n",
       "      <th>4</th>\n",
       "      <td>다마9599</td>\n",
       "      <td>2023-06-24</td>\n",
       "      <td>9</td>\n",
       "      <td>5</td>\n",
       "      <td>Saturday</td>\n",
       "    </tr>\n",
       "    <tr>\n",
       "      <th>...</th>\n",
       "      <td>...</td>\n",
       "      <td>...</td>\n",
       "      <td>...</td>\n",
       "      <td>...</td>\n",
       "      <td>...</td>\n",
       "    </tr>\n",
       "    <tr>\n",
       "      <th>161842</th>\n",
       "      <td>라바0421</td>\n",
       "      <td>2023-08-31</td>\n",
       "      <td>21</td>\n",
       "      <td>1</td>\n",
       "      <td>Thursday</td>\n",
       "    </tr>\n",
       "    <tr>\n",
       "      <th>161843</th>\n",
       "      <td>라바0421</td>\n",
       "      <td>2023-08-31</td>\n",
       "      <td>22</td>\n",
       "      <td>0</td>\n",
       "      <td>Thursday</td>\n",
       "    </tr>\n",
       "    <tr>\n",
       "      <th>161844</th>\n",
       "      <td>라바0421</td>\n",
       "      <td>2023-08-31</td>\n",
       "      <td>23</td>\n",
       "      <td>0</td>\n",
       "      <td>Thursday</td>\n",
       "    </tr>\n",
       "    <tr>\n",
       "      <th>161845</th>\n",
       "      <td>라바0421</td>\n",
       "      <td>2023-08-31</td>\n",
       "      <td>0</td>\n",
       "      <td>0</td>\n",
       "      <td>Thursday</td>\n",
       "    </tr>\n",
       "    <tr>\n",
       "      <th>161846</th>\n",
       "      <td>라바0421</td>\n",
       "      <td>2023-08-31</td>\n",
       "      <td>1</td>\n",
       "      <td>0</td>\n",
       "      <td>Thursday</td>\n",
       "    </tr>\n",
       "  </tbody>\n",
       "</table>\n",
       "<p>161847 rows × 5 columns</p>\n",
       "</div>"
      ],
      "text/plain": [
       "           gid       DATE  TIME  ALIGHT_DEMAND       DAY\n",
       "0       다마9599 2023-06-24     5              0  Saturday\n",
       "1       다마9599 2023-06-24     6              1  Saturday\n",
       "2       다마9599 2023-06-24     7              0  Saturday\n",
       "3       다마9599 2023-06-24     8              1  Saturday\n",
       "4       다마9599 2023-06-24     9              5  Saturday\n",
       "...        ...        ...   ...            ...       ...\n",
       "161842  라바0421 2023-08-31    21              1  Thursday\n",
       "161843  라바0421 2023-08-31    22              0  Thursday\n",
       "161844  라바0421 2023-08-31    23              0  Thursday\n",
       "161845  라바0421 2023-08-31     0              0  Thursday\n",
       "161846  라바0421 2023-08-31     1              0  Thursday\n",
       "\n",
       "[161847 rows x 5 columns]"
      ]
     },
     "execution_count": 9,
     "metadata": {},
     "output_type": "execute_result"
    }
   ],
   "source": [
    "data_test['DATE'] = pd.to_datetime(data_test['DATE'])\n",
    "data_test['DAY'] = data_test['DATE'].dt.day_name()\n",
    "data_test"
   ]
  },
  {
   "cell_type": "markdown",
   "id": "d7d688bd",
   "metadata": {},
   "source": [
    "## 격자데이터 확인 및 시각화"
   ]
  },
  {
   "cell_type": "code",
   "execution_count": 12,
   "id": "ea4423e4",
   "metadata": {
    "scrolled": true
   },
   "outputs": [
    {
     "data": {
      "text/html": [
       "<div>\n",
       "<style scoped>\n",
       "    .dataframe tbody tr th:only-of-type {\n",
       "        vertical-align: middle;\n",
       "    }\n",
       "\n",
       "    .dataframe tbody tr th {\n",
       "        vertical-align: top;\n",
       "    }\n",
       "\n",
       "    .dataframe thead th {\n",
       "        text-align: right;\n",
       "    }\n",
       "</style>\n",
       "<table border=\"1\" class=\"dataframe\">\n",
       "  <thead>\n",
       "    <tr style=\"text-align: right;\">\n",
       "      <th></th>\n",
       "      <th>gid</th>\n",
       "      <th>lbl</th>\n",
       "      <th>val</th>\n",
       "      <th>geometry</th>\n",
       "    </tr>\n",
       "  </thead>\n",
       "  <tbody>\n",
       "    <tr>\n",
       "      <th>0</th>\n",
       "      <td>다바8516</td>\n",
       "      <td>16173.00</td>\n",
       "      <td>16173.0</td>\n",
       "      <td>POLYGON ((985000.000 1816000.000, 985000.000 1...</td>\n",
       "    </tr>\n",
       "    <tr>\n",
       "      <th>1</th>\n",
       "      <td>라바0120</td>\n",
       "      <td>31.00</td>\n",
       "      <td>31.0</td>\n",
       "      <td>POLYGON ((1001000.000 1820000.000, 1001000.000...</td>\n",
       "    </tr>\n",
       "    <tr>\n",
       "      <th>2</th>\n",
       "      <td>다바9614</td>\n",
       "      <td>14729.00</td>\n",
       "      <td>14729.0</td>\n",
       "      <td>POLYGON ((996000.000 1814000.000, 996000.000 1...</td>\n",
       "    </tr>\n",
       "    <tr>\n",
       "      <th>3</th>\n",
       "      <td>다바8728</td>\n",
       "      <td>N/A</td>\n",
       "      <td>0.0</td>\n",
       "      <td>POLYGON ((987000.000 1828000.000, 987000.000 1...</td>\n",
       "    </tr>\n",
       "    <tr>\n",
       "      <th>4</th>\n",
       "      <td>다바9716</td>\n",
       "      <td>79.00</td>\n",
       "      <td>79.0</td>\n",
       "      <td>POLYGON ((997000.000 1816000.000, 997000.000 1...</td>\n",
       "    </tr>\n",
       "    <tr>\n",
       "      <th>...</th>\n",
       "      <td>...</td>\n",
       "      <td>...</td>\n",
       "      <td>...</td>\n",
       "      <td>...</td>\n",
       "    </tr>\n",
       "    <tr>\n",
       "      <th>627</th>\n",
       "      <td>다바8005</td>\n",
       "      <td>None</td>\n",
       "      <td>NaN</td>\n",
       "      <td>POLYGON ((980000.000 1805000.000, 980000.000 1...</td>\n",
       "    </tr>\n",
       "    <tr>\n",
       "      <th>628</th>\n",
       "      <td>다바9508</td>\n",
       "      <td>None</td>\n",
       "      <td>NaN</td>\n",
       "      <td>POLYGON ((995000.000 1808000.000, 995000.000 1...</td>\n",
       "    </tr>\n",
       "    <tr>\n",
       "      <th>629</th>\n",
       "      <td>다바8828</td>\n",
       "      <td>None</td>\n",
       "      <td>NaN</td>\n",
       "      <td>POLYGON ((988000.000 1828000.000, 988000.000 1...</td>\n",
       "    </tr>\n",
       "    <tr>\n",
       "      <th>630</th>\n",
       "      <td>다바8627</td>\n",
       "      <td>None</td>\n",
       "      <td>NaN</td>\n",
       "      <td>POLYGON ((986000.000 1827000.000, 986000.000 1...</td>\n",
       "    </tr>\n",
       "    <tr>\n",
       "      <th>631</th>\n",
       "      <td>다바8525</td>\n",
       "      <td>None</td>\n",
       "      <td>NaN</td>\n",
       "      <td>POLYGON ((985000.000 1825000.000, 985000.000 1...</td>\n",
       "    </tr>\n",
       "  </tbody>\n",
       "</table>\n",
       "<p>632 rows × 4 columns</p>\n",
       "</div>"
      ],
      "text/plain": [
       "        gid       lbl      val  \\\n",
       "0    다바8516  16173.00  16173.0   \n",
       "1    라바0120     31.00     31.0   \n",
       "2    다바9614  14729.00  14729.0   \n",
       "3    다바8728       N/A      0.0   \n",
       "4    다바9716     79.00     79.0   \n",
       "..      ...       ...      ...   \n",
       "627  다바8005      None      NaN   \n",
       "628  다바9508      None      NaN   \n",
       "629  다바8828      None      NaN   \n",
       "630  다바8627      None      NaN   \n",
       "631  다바8525      None      NaN   \n",
       "\n",
       "                                              geometry  \n",
       "0    POLYGON ((985000.000 1816000.000, 985000.000 1...  \n",
       "1    POLYGON ((1001000.000 1820000.000, 1001000.000...  \n",
       "2    POLYGON ((996000.000 1814000.000, 996000.000 1...  \n",
       "3    POLYGON ((987000.000 1828000.000, 987000.000 1...  \n",
       "4    POLYGON ((997000.000 1816000.000, 997000.000 1...  \n",
       "..                                                 ...  \n",
       "627  POLYGON ((980000.000 1805000.000, 980000.000 1...  \n",
       "628  POLYGON ((995000.000 1808000.000, 995000.000 1...  \n",
       "629  POLYGON ((988000.000 1828000.000, 988000.000 1...  \n",
       "630  POLYGON ((986000.000 1827000.000, 986000.000 1...  \n",
       "631  POLYGON ((985000.000 1825000.000, 985000.000 1...  \n",
       "\n",
       "[632 rows x 4 columns]"
      ]
     },
     "execution_count": 12,
     "metadata": {},
     "output_type": "execute_result"
    }
   ],
   "source": [
    "# 격자데이터\n",
    "shp_file = r\".\\data\\nlsp_020001001.shp\"\n",
    "sig = gpd.read_file(shp_file, encoding='UTF-8')\n",
    "sig"
   ]
  },
  {
   "cell_type": "code",
   "execution_count": 17,
   "id": "8dd7fdca",
   "metadata": {},
   "outputs": [],
   "source": [
    "plt.rcParams['font.family'] = 'Gulim'  "
   ]
  },
  {
   "cell_type": "code",
   "execution_count": 18,
   "id": "f4736d1a",
   "metadata": {
    "scrolled": false
   },
   "outputs": [
    {
     "data": {
      "image/png": "[encoded data removed]",
      "text/plain": [
       "<Figure size 640x480 with 1 Axes>"
      ]
     },
     "metadata": {},
     "output_type": "display_data"
    }
   ],
   "source": [
    "# 격자데이터 시각화\n",
    "ax = sig.convex_hull.plot(color='green', edgecolor='w')\n",
    "ax.set_title('shp polygon 확인')\n",
    "ax.set_axis_off()\n",
    "plt.show()"
   ]
  },
  {
   "cell_type": "markdown",
   "id": "bc11fd70",
   "metadata": {},
   "source": [
    "# Catboost 활용한 데이터 모델\n",
    "##\n",
    "## [최종 모델의 하이퍼파라미터]\n",
    "### - iterations = 800\n",
    "### - depth = 10\n",
    "### - learning_rate = 0.2\n",
    "### - l2_leaf_reg = 1"
   ]
  },
  {
   "cell_type": "code",
   "execution_count": 10,
   "id": "344994cb",
   "metadata": {},
   "outputs": [],
   "source": [
    "from sklearn.model_selection import train_test_split\n",
    "from sklearn.metrics import mean_squared_error\n",
    "from sklearn.metrics import r2_score\n",
    "import warnings \n",
    "from sklearn.ensemble import RandomForestRegressor\n",
    "from sklearn.model_selection import ParameterGrid\n",
    "\n",
    "from sklearn.model_selection import train_test_split\n",
    "import catboost as cb\n",
    "import matplotlib.pyplot as plt\n",
    "from catboost import CatBoostClassifier\n",
    "plt.rcParams[\"font.family\"] = 'NanumGothic'\n",
    "plt.rcParams['axes.unicode_minus'] = False"
   ]
  },
  {
   "cell_type": "markdown",
   "id": "904399bc",
   "metadata": {},
   "source": [
    "## 최적의 하이퍼파라미터 찾기 위한 연습용 모델 코드"
   ]
  },
  {
   "cell_type": "markdown",
   "id": "f24fa13e",
   "metadata": {},
   "source": [
    "### valid 데이터 분류 (최적의 하이퍼파라미터를 구할 때 사용할 예정)\n",
    "\n",
    "- valid, test, train 데이터를 random으로 돌리지 않고 일일이 날짜별로 나눠서 저장하는 이유: \n",
    "  - 'test_data_modified' 데이터와 최대한 비슷한 조건으로 하기 위해\n",
    "  - 만일 random으로 돌리면 동일한 장소, 날짜에 대한 데이터이지만 시간만 다른 값들이 test, valid, train 데이터에 분포되는 경우를 미리 방지하고자 함."
   ]
  },
  {
   "cell_type": "code",
   "execution_count": 11,
   "id": "a9fd6679",
   "metadata": {
    "scrolled": true
   },
   "outputs": [
    {
     "data": {
      "text/html": [
       "<div>\n",
       "<style scoped>\n",
       "    .dataframe tbody tr th:only-of-type {\n",
       "        vertical-align: middle;\n",
       "    }\n",
       "\n",
       "    .dataframe tbody tr th {\n",
       "        vertical-align: top;\n",
       "    }\n",
       "\n",
       "    .dataframe thead th {\n",
       "        text-align: right;\n",
       "    }\n",
       "</style>\n",
       "<table border=\"1\" class=\"dataframe\">\n",
       "  <thead>\n",
       "    <tr style=\"text-align: right;\">\n",
       "      <th></th>\n",
       "      <th>gid</th>\n",
       "      <th>DATE</th>\n",
       "      <th>TIME</th>\n",
       "      <th>RIDE_DEMAND</th>\n",
       "      <th>ALIGHT_DEMAND</th>\n",
       "      <th>DAY</th>\n",
       "    </tr>\n",
       "  </thead>\n",
       "  <tbody>\n",
       "    <tr>\n",
       "      <th>0</th>\n",
       "      <td>다마9599</td>\n",
       "      <td>2023-06-01</td>\n",
       "      <td>5</td>\n",
       "      <td>1</td>\n",
       "      <td>0</td>\n",
       "      <td>Thursday</td>\n",
       "    </tr>\n",
       "    <tr>\n",
       "      <th>1</th>\n",
       "      <td>다마9599</td>\n",
       "      <td>2023-06-01</td>\n",
       "      <td>6</td>\n",
       "      <td>2</td>\n",
       "      <td>5</td>\n",
       "      <td>Thursday</td>\n",
       "    </tr>\n",
       "    <tr>\n",
       "      <th>2</th>\n",
       "      <td>다마9599</td>\n",
       "      <td>2023-06-01</td>\n",
       "      <td>7</td>\n",
       "      <td>2</td>\n",
       "      <td>7</td>\n",
       "      <td>Thursday</td>\n",
       "    </tr>\n",
       "    <tr>\n",
       "      <th>3</th>\n",
       "      <td>다마9599</td>\n",
       "      <td>2023-06-01</td>\n",
       "      <td>8</td>\n",
       "      <td>3</td>\n",
       "      <td>12</td>\n",
       "      <td>Thursday</td>\n",
       "    </tr>\n",
       "    <tr>\n",
       "      <th>4</th>\n",
       "      <td>다마9599</td>\n",
       "      <td>2023-06-01</td>\n",
       "      <td>9</td>\n",
       "      <td>2</td>\n",
       "      <td>31</td>\n",
       "      <td>Thursday</td>\n",
       "    </tr>\n",
       "    <tr>\n",
       "      <th>...</th>\n",
       "      <td>...</td>\n",
       "      <td>...</td>\n",
       "      <td>...</td>\n",
       "      <td>...</td>\n",
       "      <td>...</td>\n",
       "      <td>...</td>\n",
       "    </tr>\n",
       "    <tr>\n",
       "      <th>539401</th>\n",
       "      <td>라바0421</td>\n",
       "      <td>2023-08-20</td>\n",
       "      <td>21</td>\n",
       "      <td>0</td>\n",
       "      <td>0</td>\n",
       "      <td>Sunday</td>\n",
       "    </tr>\n",
       "    <tr>\n",
       "      <th>539402</th>\n",
       "      <td>라바0421</td>\n",
       "      <td>2023-08-20</td>\n",
       "      <td>22</td>\n",
       "      <td>0</td>\n",
       "      <td>0</td>\n",
       "      <td>Sunday</td>\n",
       "    </tr>\n",
       "    <tr>\n",
       "      <th>539403</th>\n",
       "      <td>라바0421</td>\n",
       "      <td>2023-08-20</td>\n",
       "      <td>23</td>\n",
       "      <td>0</td>\n",
       "      <td>0</td>\n",
       "      <td>Sunday</td>\n",
       "    </tr>\n",
       "    <tr>\n",
       "      <th>539404</th>\n",
       "      <td>라바0421</td>\n",
       "      <td>2023-08-20</td>\n",
       "      <td>0</td>\n",
       "      <td>0</td>\n",
       "      <td>0</td>\n",
       "      <td>Sunday</td>\n",
       "    </tr>\n",
       "    <tr>\n",
       "      <th>539405</th>\n",
       "      <td>라바0421</td>\n",
       "      <td>2023-08-20</td>\n",
       "      <td>1</td>\n",
       "      <td>0</td>\n",
       "      <td>0</td>\n",
       "      <td>Sunday</td>\n",
       "    </tr>\n",
       "  </tbody>\n",
       "</table>\n",
       "<p>23121 rows × 6 columns</p>\n",
       "</div>"
      ],
      "text/plain": [
       "           gid       DATE  TIME  RIDE_DEMAND  ALIGHT_DEMAND       DAY\n",
       "0       다마9599 2023-06-01     5            1              0  Thursday\n",
       "1       다마9599 2023-06-01     6            2              5  Thursday\n",
       "2       다마9599 2023-06-01     7            2              7  Thursday\n",
       "3       다마9599 2023-06-01     8            3             12  Thursday\n",
       "4       다마9599 2023-06-01     9            2             31  Thursday\n",
       "...        ...        ...   ...          ...            ...       ...\n",
       "539401  라바0421 2023-08-20    21            0              0    Sunday\n",
       "539402  라바0421 2023-08-20    22            0              0    Sunday\n",
       "539403  라바0421 2023-08-20    23            0              0    Sunday\n",
       "539404  라바0421 2023-08-20     0            0              0    Sunday\n",
       "539405  라바0421 2023-08-20     1            0              0    Sunday\n",
       "\n",
       "[23121 rows x 6 columns]"
      ]
     },
     "execution_count": 11,
     "metadata": {},
     "output_type": "execute_result"
    }
   ],
   "source": [
    "valid_data8 = data[data['DATE']=='2023-08-20']\n",
    "valid_data7 = data[data['DATE']=='2023-07-19']\n",
    "valid_data6 = data[data['DATE']=='2023-06-01']\n",
    "\n",
    "valid_data = pd.concat([valid_data6, valid_data7, valid_data8])\n",
    "valid_data"
   ]
  },
  {
   "cell_type": "code",
   "execution_count": 12,
   "id": "0fc9f244",
   "metadata": {},
   "outputs": [
    {
     "data": {
      "text/plain": [
       "array(['Thursday', 'Wednesday', 'Sunday'], dtype=object)"
      ]
     },
     "execution_count": 12,
     "metadata": {},
     "output_type": "execute_result"
    }
   ],
   "source": [
    "valid_data['DAY'].unique()"
   ]
  },
  {
   "cell_type": "markdown",
   "id": "a43c2b07",
   "metadata": {},
   "source": [
    "### 임시 test 데이터 분류 (최적의 하이퍼파라미터를 구할 때 사용할 예정)\n",
    "#### : 각각 일~토요일에 해당하는 6, 7, 8월 일부 데이터를 추출"
   ]
  },
  {
   "cell_type": "code",
   "execution_count": 13,
   "id": "e1a5877d",
   "metadata": {},
   "outputs": [
    {
     "data": {
      "text/html": [
       "<div>\n",
       "<style scoped>\n",
       "    .dataframe tbody tr th:only-of-type {\n",
       "        vertical-align: middle;\n",
       "    }\n",
       "\n",
       "    .dataframe tbody tr th {\n",
       "        vertical-align: top;\n",
       "    }\n",
       "\n",
       "    .dataframe thead th {\n",
       "        text-align: right;\n",
       "    }\n",
       "</style>\n",
       "<table border=\"1\" class=\"dataframe\">\n",
       "  <thead>\n",
       "    <tr style=\"text-align: right;\">\n",
       "      <th></th>\n",
       "      <th>gid</th>\n",
       "      <th>DATE</th>\n",
       "      <th>TIME</th>\n",
       "      <th>RIDE_DEMAND</th>\n",
       "      <th>ALIGHT_DEMAND</th>\n",
       "      <th>DAY</th>\n",
       "    </tr>\n",
       "  </thead>\n",
       "  <tbody>\n",
       "    <tr>\n",
       "      <th>378</th>\n",
       "      <td>다마9599</td>\n",
       "      <td>2023-06-20</td>\n",
       "      <td>5</td>\n",
       "      <td>1</td>\n",
       "      <td>0</td>\n",
       "      <td>Tuesday</td>\n",
       "    </tr>\n",
       "    <tr>\n",
       "      <th>379</th>\n",
       "      <td>다마9599</td>\n",
       "      <td>2023-06-20</td>\n",
       "      <td>6</td>\n",
       "      <td>2</td>\n",
       "      <td>4</td>\n",
       "      <td>Tuesday</td>\n",
       "    </tr>\n",
       "    <tr>\n",
       "      <th>380</th>\n",
       "      <td>다마9599</td>\n",
       "      <td>2023-06-20</td>\n",
       "      <td>7</td>\n",
       "      <td>1</td>\n",
       "      <td>7</td>\n",
       "      <td>Tuesday</td>\n",
       "    </tr>\n",
       "    <tr>\n",
       "      <th>381</th>\n",
       "      <td>다마9599</td>\n",
       "      <td>2023-06-20</td>\n",
       "      <td>8</td>\n",
       "      <td>1</td>\n",
       "      <td>14</td>\n",
       "      <td>Tuesday</td>\n",
       "    </tr>\n",
       "    <tr>\n",
       "      <th>382</th>\n",
       "      <td>다마9599</td>\n",
       "      <td>2023-06-20</td>\n",
       "      <td>9</td>\n",
       "      <td>5</td>\n",
       "      <td>52</td>\n",
       "      <td>Tuesday</td>\n",
       "    </tr>\n",
       "    <tr>\n",
       "      <th>...</th>\n",
       "      <td>...</td>\n",
       "      <td>...</td>\n",
       "      <td>...</td>\n",
       "      <td>...</td>\n",
       "      <td>...</td>\n",
       "      <td>...</td>\n",
       "    </tr>\n",
       "    <tr>\n",
       "      <th>539233</th>\n",
       "      <td>라바0421</td>\n",
       "      <td>2023-08-12</td>\n",
       "      <td>21</td>\n",
       "      <td>0</td>\n",
       "      <td>0</td>\n",
       "      <td>Saturday</td>\n",
       "    </tr>\n",
       "    <tr>\n",
       "      <th>539234</th>\n",
       "      <td>라바0421</td>\n",
       "      <td>2023-08-12</td>\n",
       "      <td>22</td>\n",
       "      <td>0</td>\n",
       "      <td>0</td>\n",
       "      <td>Saturday</td>\n",
       "    </tr>\n",
       "    <tr>\n",
       "      <th>539235</th>\n",
       "      <td>라바0421</td>\n",
       "      <td>2023-08-12</td>\n",
       "      <td>23</td>\n",
       "      <td>0</td>\n",
       "      <td>0</td>\n",
       "      <td>Saturday</td>\n",
       "    </tr>\n",
       "    <tr>\n",
       "      <th>539236</th>\n",
       "      <td>라바0421</td>\n",
       "      <td>2023-08-12</td>\n",
       "      <td>0</td>\n",
       "      <td>0</td>\n",
       "      <td>0</td>\n",
       "      <td>Saturday</td>\n",
       "    </tr>\n",
       "    <tr>\n",
       "      <th>539237</th>\n",
       "      <td>라바0421</td>\n",
       "      <td>2023-08-12</td>\n",
       "      <td>1</td>\n",
       "      <td>0</td>\n",
       "      <td>0</td>\n",
       "      <td>Saturday</td>\n",
       "    </tr>\n",
       "  </tbody>\n",
       "</table>\n",
       "<p>46242 rows × 6 columns</p>\n",
       "</div>"
      ],
      "text/plain": [
       "           gid       DATE  TIME  RIDE_DEMAND  ALIGHT_DEMAND       DAY\n",
       "378     다마9599 2023-06-20     5            1              0   Tuesday\n",
       "379     다마9599 2023-06-20     6            2              4   Tuesday\n",
       "380     다마9599 2023-06-20     7            1              7   Tuesday\n",
       "381     다마9599 2023-06-20     8            1             14   Tuesday\n",
       "382     다마9599 2023-06-20     9            5             52   Tuesday\n",
       "...        ...        ...   ...          ...            ...       ...\n",
       "539233  라바0421 2023-08-12    21            0              0  Saturday\n",
       "539234  라바0421 2023-08-12    22            0              0  Saturday\n",
       "539235  라바0421 2023-08-12    23            0              0  Saturday\n",
       "539236  라바0421 2023-08-12     0            0              0  Saturday\n",
       "539237  라바0421 2023-08-12     1            0              0  Saturday\n",
       "\n",
       "[46242 rows x 6 columns]"
      ]
     },
     "execution_count": 13,
     "metadata": {},
     "output_type": "execute_result"
    }
   ],
   "source": [
    "test_dataS = data[data['DATE']=='2023-06-19']\n",
    "test_dataM = data[data['DATE']=='2023-06-20']\n",
    "test_dataTu = data[data['DATE']=='2023-07-05']\n",
    "test_dataWe = data[data['DATE']=='2023-07-06']\n",
    "test_dataTh = data[data['DATE']=='2023-07-13']\n",
    "test_dataFr = data[data['DATE']=='2023-08-11']\n",
    "test_dataSa = data[data['DATE']=='2023-08-12']\n",
    "\n",
    "test_data = pd.concat([test_dataS, test_dataM, test_dataTu, test_dataWe, test_dataTh, test_dataFr, test_dataSa])\n",
    "test_data"
   ]
  },
  {
   "cell_type": "markdown",
   "id": "401c6893",
   "metadata": {},
   "source": [
    "### 임시 훈련 데이터 분류 (최적의 하이퍼파라미터를 구할 때 사용할 예정)"
   ]
  },
  {
   "cell_type": "code",
   "execution_count": 14,
   "id": "f418bf7d",
   "metadata": {
    "scrolled": true
   },
   "outputs": [
    {
     "name": "stderr",
     "output_type": "stream",
     "text": [
      "C:\\Users\\user\\AppData\\Local\\Temp\\ipykernel_9032\\146979134.py:3: UserWarning: Boolean Series key will be reindexed to match DataFrame index.\n",
      "  train_data = train_data[data['DATE']!=valid_data['DATE'].unique()[1]]\n",
      "C:\\Users\\user\\AppData\\Local\\Temp\\ipykernel_9032\\146979134.py:4: UserWarning: Boolean Series key will be reindexed to match DataFrame index.\n",
      "  train_data = train_data[data['DATE']!=valid_data['DATE'].unique()[2]]\n"
     ]
    }
   ],
   "source": [
    "#valid data 빼기\n",
    "train_data = data[data['DATE']!=valid_data['DATE'].unique()[0]]\n",
    "train_data = train_data[data['DATE']!=valid_data['DATE'].unique()[1]]\n",
    "train_data = train_data[data['DATE']!=valid_data['DATE'].unique()[2]]\n",
    "\n",
    "#test_data 빼기\n",
    "for i in test_data['DATE'].unique():\n",
    "    train_data = train_data[train_data['DATE']!=i]"
   ]
  },
  {
   "cell_type": "code",
   "execution_count": 15,
   "id": "a168bc3e",
   "metadata": {},
   "outputs": [
    {
     "data": {
      "text/html": [
       "<div>\n",
       "<style scoped>\n",
       "    .dataframe tbody tr th:only-of-type {\n",
       "        vertical-align: middle;\n",
       "    }\n",
       "\n",
       "    .dataframe tbody tr th {\n",
       "        vertical-align: top;\n",
       "    }\n",
       "\n",
       "    .dataframe thead th {\n",
       "        text-align: right;\n",
       "    }\n",
       "</style>\n",
       "<table border=\"1\" class=\"dataframe\">\n",
       "  <thead>\n",
       "    <tr style=\"text-align: right;\">\n",
       "      <th></th>\n",
       "      <th>gid</th>\n",
       "      <th>DATE</th>\n",
       "      <th>TIME</th>\n",
       "      <th>RIDE_DEMAND</th>\n",
       "      <th>ALIGHT_DEMAND</th>\n",
       "      <th>DAY</th>\n",
       "    </tr>\n",
       "  </thead>\n",
       "  <tbody>\n",
       "    <tr>\n",
       "      <th>21</th>\n",
       "      <td>다마9599</td>\n",
       "      <td>2023-06-02</td>\n",
       "      <td>5</td>\n",
       "      <td>4</td>\n",
       "      <td>0</td>\n",
       "      <td>Friday</td>\n",
       "    </tr>\n",
       "    <tr>\n",
       "      <th>22</th>\n",
       "      <td>다마9599</td>\n",
       "      <td>2023-06-02</td>\n",
       "      <td>6</td>\n",
       "      <td>7</td>\n",
       "      <td>3</td>\n",
       "      <td>Friday</td>\n",
       "    </tr>\n",
       "    <tr>\n",
       "      <th>23</th>\n",
       "      <td>다마9599</td>\n",
       "      <td>2023-06-02</td>\n",
       "      <td>7</td>\n",
       "      <td>6</td>\n",
       "      <td>4</td>\n",
       "      <td>Friday</td>\n",
       "    </tr>\n",
       "    <tr>\n",
       "      <th>24</th>\n",
       "      <td>다마9599</td>\n",
       "      <td>2023-06-02</td>\n",
       "      <td>8</td>\n",
       "      <td>11</td>\n",
       "      <td>6</td>\n",
       "      <td>Friday</td>\n",
       "    </tr>\n",
       "    <tr>\n",
       "      <th>25</th>\n",
       "      <td>다마9599</td>\n",
       "      <td>2023-06-02</td>\n",
       "      <td>9</td>\n",
       "      <td>5</td>\n",
       "      <td>12</td>\n",
       "      <td>Friday</td>\n",
       "    </tr>\n",
       "    <tr>\n",
       "      <th>...</th>\n",
       "      <td>...</td>\n",
       "      <td>...</td>\n",
       "      <td>...</td>\n",
       "      <td>...</td>\n",
       "      <td>...</td>\n",
       "      <td>...</td>\n",
       "    </tr>\n",
       "    <tr>\n",
       "      <th>539485</th>\n",
       "      <td>라바0421</td>\n",
       "      <td>2023-08-24</td>\n",
       "      <td>21</td>\n",
       "      <td>0</td>\n",
       "      <td>1</td>\n",
       "      <td>Thursday</td>\n",
       "    </tr>\n",
       "    <tr>\n",
       "      <th>539486</th>\n",
       "      <td>라바0421</td>\n",
       "      <td>2023-08-24</td>\n",
       "      <td>22</td>\n",
       "      <td>0</td>\n",
       "      <td>0</td>\n",
       "      <td>Thursday</td>\n",
       "    </tr>\n",
       "    <tr>\n",
       "      <th>539487</th>\n",
       "      <td>라바0421</td>\n",
       "      <td>2023-08-24</td>\n",
       "      <td>23</td>\n",
       "      <td>0</td>\n",
       "      <td>0</td>\n",
       "      <td>Thursday</td>\n",
       "    </tr>\n",
       "    <tr>\n",
       "      <th>539488</th>\n",
       "      <td>라바0421</td>\n",
       "      <td>2023-08-24</td>\n",
       "      <td>0</td>\n",
       "      <td>0</td>\n",
       "      <td>0</td>\n",
       "      <td>Thursday</td>\n",
       "    </tr>\n",
       "    <tr>\n",
       "      <th>539489</th>\n",
       "      <td>라바0421</td>\n",
       "      <td>2023-08-24</td>\n",
       "      <td>1</td>\n",
       "      <td>0</td>\n",
       "      <td>0</td>\n",
       "      <td>Thursday</td>\n",
       "    </tr>\n",
       "  </tbody>\n",
       "</table>\n",
       "<p>470127 rows × 6 columns</p>\n",
       "</div>"
      ],
      "text/plain": [
       "           gid       DATE  TIME  RIDE_DEMAND  ALIGHT_DEMAND       DAY\n",
       "21      다마9599 2023-06-02     5            4              0    Friday\n",
       "22      다마9599 2023-06-02     6            7              3    Friday\n",
       "23      다마9599 2023-06-02     7            6              4    Friday\n",
       "24      다마9599 2023-06-02     8           11              6    Friday\n",
       "25      다마9599 2023-06-02     9            5             12    Friday\n",
       "...        ...        ...   ...          ...            ...       ...\n",
       "539485  라바0421 2023-08-24    21            0              1  Thursday\n",
       "539486  라바0421 2023-08-24    22            0              0  Thursday\n",
       "539487  라바0421 2023-08-24    23            0              0  Thursday\n",
       "539488  라바0421 2023-08-24     0            0              0  Thursday\n",
       "539489  라바0421 2023-08-24     1            0              0  Thursday\n",
       "\n",
       "[470127 rows x 6 columns]"
      ]
     },
     "execution_count": 15,
     "metadata": {},
     "output_type": "execute_result"
    }
   ],
   "source": [
    "train_data"
   ]
  },
  {
   "cell_type": "code",
   "execution_count": 16,
   "id": "22532c00",
   "metadata": {},
   "outputs": [],
   "source": [
    "# 독립 변수(X)와 종속 변수(y) 설정\n",
    "warnings.filterwarnings(\"ignore\")\n",
    "\n",
    "x_train = train_data[['gid', 'TIME', 'DAY','ALIGHT_DEMAND']]\n",
    "y_train = train_data['RIDE_DEMAND']"
   ]
  },
  {
   "cell_type": "code",
   "execution_count": 17,
   "id": "390bff86",
   "metadata": {},
   "outputs": [],
   "source": [
    "x_test = test_data[['gid', 'TIME', 'DAY','ALIGHT_DEMAND']]\n",
    "y_test = test_data['RIDE_DEMAND']\n",
    "\n",
    "x_valid = valid_data[['gid', 'TIME', 'DAY','ALIGHT_DEMAND']]\n",
    "y_valid = valid_data['RIDE_DEMAND']\n",
    "\n"
   ]
  },
  {
   "cell_type": "code",
   "execution_count": 18,
   "id": "932299f0",
   "metadata": {
    "scrolled": true
   },
   "outputs": [
    {
     "name": "stdout",
     "output_type": "stream",
     "text": [
      "0:\tlearn: 88.6249215\ttest: 96.5007789\tbest: 96.5007789 (0)\ttotal: 555ms\tremaining: 7m 23s\n",
      "10:\tlearn: 38.0871890\ttest: 42.3621557\tbest: 42.3621557 (10)\ttotal: 4.55s\tremaining: 5m 26s\n",
      "20:\tlearn: 28.4706166\ttest: 31.9665367\tbest: 31.9665367 (20)\ttotal: 8.35s\tremaining: 5m 9s\n",
      "30:\tlearn: 25.6040266\ttest: 28.9558712\tbest: 28.9558712 (30)\ttotal: 12.5s\tremaining: 5m 10s\n",
      "40:\tlearn: 23.6408653\ttest: 26.9277867\tbest: 26.9277867 (40)\ttotal: 16.1s\tremaining: 4m 58s\n",
      "50:\tlearn: 22.3135857\ttest: 25.6410888\tbest: 25.6410888 (50)\ttotal: 19.6s\tremaining: 4m 47s\n",
      "60:\tlearn: 21.1927625\ttest: 24.5340459\tbest: 24.5340459 (60)\ttotal: 23.4s\tremaining: 4m 42s\n",
      "70:\tlearn: 20.3784673\ttest: 23.6714854\tbest: 23.6714854 (70)\ttotal: 27.4s\tremaining: 4m 40s\n",
      "80:\tlearn: 19.5777394\ttest: 22.9503795\tbest: 22.9503795 (80)\ttotal: 31.7s\tremaining: 4m 41s\n",
      "90:\tlearn: 19.0396156\ttest: 22.3558947\tbest: 22.3558947 (90)\ttotal: 35.5s\tremaining: 4m 36s\n",
      "100:\tlearn: 18.6590900\ttest: 21.9572656\tbest: 21.9572656 (100)\ttotal: 39.4s\tremaining: 4m 32s\n",
      "110:\tlearn: 18.1951290\ttest: 21.4975172\tbest: 21.4975172 (110)\ttotal: 43.3s\tremaining: 4m 28s\n",
      "120:\tlearn: 17.8583372\ttest: 21.1765409\tbest: 21.1765409 (120)\ttotal: 46.7s\tremaining: 4m 22s\n",
      "130:\tlearn: 17.6402173\ttest: 21.0034768\tbest: 21.0034768 (130)\ttotal: 50.2s\tremaining: 4m 16s\n",
      "140:\tlearn: 17.2789791\ttest: 20.6631808\tbest: 20.6631808 (140)\ttotal: 53.9s\tremaining: 4m 12s\n",
      "150:\tlearn: 16.9917456\ttest: 20.4216521\tbest: 20.4216521 (150)\ttotal: 57.9s\tremaining: 4m 8s\n",
      "160:\tlearn: 16.7994416\ttest: 20.2579797\tbest: 20.2579797 (160)\ttotal: 1m 1s\tremaining: 4m 4s\n",
      "170:\tlearn: 16.6164889\ttest: 20.0854144\tbest: 20.0854144 (170)\ttotal: 1m 5s\tremaining: 4m\n",
      "180:\tlearn: 16.2849092\ttest: 19.7739532\tbest: 19.7739532 (180)\ttotal: 1m 9s\tremaining: 3m 57s\n",
      "190:\tlearn: 16.1146084\ttest: 19.6404376\tbest: 19.6404376 (190)\ttotal: 1m 13s\tremaining: 3m 52s\n",
      "200:\tlearn: 15.9579126\ttest: 19.5396296\tbest: 19.5396296 (200)\ttotal: 1m 16s\tremaining: 3m 48s\n",
      "210:\tlearn: 15.8486630\ttest: 19.4696923\tbest: 19.4696923 (210)\ttotal: 1m 20s\tremaining: 3m 44s\n",
      "220:\tlearn: 15.7168367\ttest: 19.3781486\tbest: 19.3781486 (220)\ttotal: 1m 23s\tremaining: 3m 39s\n",
      "230:\tlearn: 15.5887755\ttest: 19.2771941\tbest: 19.2771941 (230)\ttotal: 1m 27s\tremaining: 3m 36s\n",
      "240:\tlearn: 15.4573836\ttest: 19.1920759\tbest: 19.1920759 (240)\ttotal: 1m 31s\tremaining: 3m 32s\n",
      "250:\tlearn: 15.3528522\ttest: 19.0681452\tbest: 19.0673151 (248)\ttotal: 1m 35s\tremaining: 3m 28s\n",
      "260:\tlearn: 15.2505090\ttest: 18.9925317\tbest: 18.9925317 (260)\ttotal: 1m 38s\tremaining: 3m 23s\n",
      "270:\tlearn: 15.1601619\ttest: 18.9384634\tbest: 18.9384634 (270)\ttotal: 1m 41s\tremaining: 3m 19s\n",
      "280:\tlearn: 15.0512512\ttest: 18.8579799\tbest: 18.8558489 (279)\ttotal: 1m 45s\tremaining: 3m 14s\n",
      "290:\tlearn: 14.9165310\ttest: 18.7420993\tbest: 18.7420993 (290)\ttotal: 1m 49s\tremaining: 3m 10s\n",
      "300:\tlearn: 14.8092588\ttest: 18.6456529\tbest: 18.6456529 (300)\ttotal: 1m 53s\tremaining: 3m 7s\n",
      "310:\tlearn: 14.7475458\ttest: 18.6088171\tbest: 18.6080715 (309)\ttotal: 1m 56s\tremaining: 3m 3s\n",
      "320:\tlearn: 14.6443118\ttest: 18.5426458\tbest: 18.5426458 (320)\ttotal: 2m\tremaining: 2m 59s\n",
      "330:\tlearn: 14.5448903\ttest: 18.4654469\tbest: 18.4654469 (330)\ttotal: 2m 4s\tremaining: 2m 56s\n",
      "340:\tlearn: 14.4653116\ttest: 18.4085502\tbest: 18.4085502 (340)\ttotal: 2m 7s\tremaining: 2m 52s\n",
      "350:\tlearn: 14.3618985\ttest: 18.3301111\tbest: 18.3278384 (349)\ttotal: 2m 11s\tremaining: 2m 48s\n",
      "360:\tlearn: 14.2775251\ttest: 18.2859838\tbest: 18.2859838 (360)\ttotal: 2m 15s\tremaining: 2m 44s\n",
      "370:\tlearn: 14.1434647\ttest: 18.1790676\tbest: 18.1790676 (370)\ttotal: 2m 19s\tremaining: 2m 41s\n",
      "380:\tlearn: 14.0753569\ttest: 18.1368804\tbest: 18.1368804 (380)\ttotal: 2m 22s\tremaining: 2m 37s\n",
      "390:\tlearn: 14.0133814\ttest: 18.0834398\tbest: 18.0834398 (390)\ttotal: 2m 26s\tremaining: 2m 33s\n",
      "400:\tlearn: 13.9525921\ttest: 18.0503326\tbest: 18.0503326 (400)\ttotal: 2m 30s\tremaining: 2m 29s\n",
      "410:\tlearn: 13.8698121\ttest: 17.9869291\tbest: 17.9869282 (409)\ttotal: 2m 34s\tremaining: 2m 26s\n",
      "420:\tlearn: 13.8217179\ttest: 17.9620988\tbest: 17.9620988 (420)\ttotal: 2m 38s\tremaining: 2m 22s\n",
      "430:\tlearn: 13.7504776\ttest: 17.9105552\tbest: 17.9105552 (430)\ttotal: 2m 41s\tremaining: 2m 18s\n",
      "440:\tlearn: 13.7161101\ttest: 17.8916572\tbest: 17.8913030 (439)\ttotal: 2m 44s\tremaining: 2m 14s\n",
      "450:\tlearn: 13.6649052\ttest: 17.8645979\tbest: 17.8645979 (450)\ttotal: 2m 48s\tremaining: 2m 10s\n",
      "460:\tlearn: 13.5745213\ttest: 17.8250696\tbest: 17.8204612 (459)\ttotal: 2m 52s\tremaining: 2m 6s\n",
      "470:\tlearn: 13.4962809\ttest: 17.7735895\tbest: 17.7735895 (470)\ttotal: 2m 56s\tremaining: 2m 3s\n",
      "480:\tlearn: 13.4491881\ttest: 17.7412777\tbest: 17.7384055 (477)\ttotal: 2m 59s\tremaining: 1m 59s\n",
      "490:\tlearn: 13.3760136\ttest: 17.7019683\tbest: 17.7017794 (489)\ttotal: 3m 3s\tremaining: 1m 55s\n",
      "500:\tlearn: 13.2970402\ttest: 17.6632987\tbest: 17.6632987 (500)\ttotal: 3m 6s\tremaining: 1m 51s\n",
      "510:\tlearn: 13.2508930\ttest: 17.6462145\tbest: 17.6458546 (509)\ttotal: 3m 9s\tremaining: 1m 47s\n",
      "520:\tlearn: 13.1839109\ttest: 17.6089447\tbest: 17.6076236 (519)\ttotal: 3m 13s\tremaining: 1m 43s\n",
      "530:\tlearn: 13.1215612\ttest: 17.5599588\tbest: 17.5575743 (528)\ttotal: 3m 17s\tremaining: 1m 40s\n",
      "540:\tlearn: 13.0507801\ttest: 17.5359822\tbest: 17.5359822 (540)\ttotal: 3m 20s\tremaining: 1m 36s\n",
      "550:\tlearn: 13.0083180\ttest: 17.5122520\tbest: 17.5122520 (550)\ttotal: 3m 24s\tremaining: 1m 32s\n",
      "560:\tlearn: 12.9615222\ttest: 17.4857367\tbest: 17.4857367 (560)\ttotal: 3m 28s\tremaining: 1m 28s\n",
      "570:\tlearn: 12.9033085\ttest: 17.4126194\tbest: 17.4126194 (570)\ttotal: 3m 32s\tremaining: 1m 25s\n",
      "580:\tlearn: 12.8659844\ttest: 17.4016668\tbest: 17.3989588 (577)\ttotal: 3m 36s\tremaining: 1m 21s\n",
      "590:\tlearn: 12.7889169\ttest: 17.3334968\tbest: 17.3311410 (589)\ttotal: 3m 40s\tremaining: 1m 17s\n",
      "600:\tlearn: 12.7472904\ttest: 17.3190351\tbest: 17.3190351 (600)\ttotal: 3m 43s\tremaining: 1m 14s\n",
      "610:\tlearn: 12.6724932\ttest: 17.2470270\tbest: 17.2469800 (609)\ttotal: 3m 47s\tremaining: 1m 10s\n",
      "620:\tlearn: 12.6375112\ttest: 17.2143258\tbest: 17.2143258 (620)\ttotal: 3m 51s\tremaining: 1m 6s\n",
      "630:\tlearn: 12.5867847\ttest: 17.2120451\tbest: 17.2115736 (628)\ttotal: 3m 54s\tremaining: 1m 2s\n",
      "640:\tlearn: 12.5459783\ttest: 17.1962604\tbest: 17.1962604 (640)\ttotal: 3m 58s\tremaining: 59.1s\n",
      "650:\tlearn: 12.4954538\ttest: 17.1752551\tbest: 17.1752551 (650)\ttotal: 4m 1s\tremaining: 55.4s\n",
      "660:\tlearn: 12.4454293\ttest: 17.1389478\tbest: 17.1389478 (660)\ttotal: 4m 5s\tremaining: 51.5s\n",
      "670:\tlearn: 12.3919055\ttest: 17.1306681\tbest: 17.1272023 (669)\ttotal: 4m 8s\tremaining: 47.8s\n",
      "680:\tlearn: 12.3552852\ttest: 17.1166111\tbest: 17.1165845 (679)\ttotal: 4m 12s\tremaining: 44.1s\n",
      "690:\tlearn: 12.3027179\ttest: 17.0869328\tbest: 17.0854181 (689)\ttotal: 4m 15s\tremaining: 40.2s\n",
      "700:\tlearn: 12.2787099\ttest: 17.0732459\tbest: 17.0732459 (700)\ttotal: 4m 18s\tremaining: 36.5s\n",
      "710:\tlearn: 12.2343728\ttest: 17.0504157\tbest: 17.0504157 (710)\ttotal: 4m 21s\tremaining: 32.8s\n",
      "720:\tlearn: 12.1945926\ttest: 17.0437423\tbest: 17.0437423 (720)\ttotal: 4m 25s\tremaining: 29.1s\n",
      "730:\tlearn: 12.1569385\ttest: 17.0362375\tbest: 17.0328325 (727)\ttotal: 4m 28s\tremaining: 25.4s\n",
      "740:\tlearn: 12.0990045\ttest: 16.9956995\tbest: 16.9956995 (740)\ttotal: 4m 32s\tremaining: 21.7s\n",
      "750:\tlearn: 12.0756093\ttest: 16.9966899\tbest: 16.9913026 (745)\ttotal: 4m 36s\tremaining: 18s\n",
      "760:\tlearn: 12.0216681\ttest: 16.9652200\tbest: 16.9652200 (760)\ttotal: 4m 39s\tremaining: 14.3s\n",
      "770:\tlearn: 11.9714688\ttest: 16.9352931\tbest: 16.9352931 (770)\ttotal: 4m 42s\tremaining: 10.6s\n",
      "780:\tlearn: 11.9371136\ttest: 16.9149085\tbest: 16.9149085 (780)\ttotal: 4m 46s\tremaining: 6.97s\n",
      "790:\tlearn: 11.9108925\ttest: 16.8981333\tbest: 16.8981333 (790)\ttotal: 4m 50s\tremaining: 3.3s\n",
      "799:\tlearn: 11.8686578\ttest: 16.8782974\tbest: 16.8782974 (799)\ttotal: 4m 53s\tremaining: 0us\n",
      "\n",
      "bestTest = 16.8782974\n",
      "bestIteration = 799\n",
      "\n",
      "=== 최종 성능 테스트 ===\n",
      "RMSE: 15.92\n",
      "Test Accuracy (R-squared): 0.98 (97.91%)\n"
     ]
    }
   ],
   "source": [
    "features = [0,1,2]\n",
    "\n",
    "train_dataset = cb.Pool(x_train, y_train, cat_features = features) \n",
    "test_dataset = cb.Pool(x_test, y_test, cat_features = features)\n",
    "\n",
    "model = cb.CatBoostRegressor(iterations=800, depth=10, learning_rate=0.2, loss_function= 'RMSE', l2_leaf_reg = 1, task_type=\"CPU\")\n",
    "\n",
    "model.fit(train_dataset, eval_set=(x_test, y_test), verbose_eval=10)\n",
    "\n",
    "pred = model.predict(x_valid) \n",
    "rmse = (np.sqrt(mean_squared_error(y_valid, pred))) \n",
    "r2 = r2_score(y_valid, pred)\n",
    "accuracy_test = r2*100\n",
    "\n",
    "print(\"=== 최종 성능 테스트 ===\")\n",
    "print('RMSE: {:.2f}'.format(rmse)) \n",
    "print(f'Test Accuracy (R-squared): {r2:.2f} ({accuracy_test:.2f}%)')"
   ]
  },
  {
   "cell_type": "markdown",
   "id": "a31cb3b4",
   "metadata": {},
   "source": [
    "## 모델의 손실 함수 그래프"
   ]
  },
  {
   "cell_type": "code",
   "execution_count": 305,
   "id": "95f1c670",
   "metadata": {},
   "outputs": [],
   "source": [
    "import matplotlib.pyplot as plt\n",
    "from catboost import CatBoostRegressor, Pool, cv"
   ]
  },
  {
   "cell_type": "code",
   "execution_count": 308,
   "id": "c34aa6b6",
   "metadata": {
    "scrolled": false
   },
   "outputs": [
    {
     "data": {
      "image/png": "[encoded data removed]",
      "text/plain": [
       "<Figure size 640x480 with 1 Axes>"
      ]
     },
     "metadata": {},
     "output_type": "display_data"
    }
   ],
   "source": [
    "# 손실 함수 그래프 그리기\n",
    "iterations = range(1, len(model.evals_result_['validation']['RMSE']) + 1)\n",
    "plt.plot(iterations, model.evals_result_['learn']['RMSE'], label='Training')\n",
    "plt.plot(iterations, model.evals_result_['validation']['RMSE'], label='Validation')\n",
    "plt.xlabel('Iterations')\n",
    "plt.ylabel('RMSE')\n",
    "plt.title('CatBoost Loss Function')\n",
    "plt.legend()\n",
    "plt.savefig('모델손실함수그래프.png')    \n",
    "plt.show()"
   ]
  },
  {
   "cell_type": "markdown",
   "id": "19eea44c",
   "metadata": {},
   "source": [
    "## 최적의 하이퍼파라미터 모델의 검증 결과 시각화"
   ]
  },
  {
   "cell_type": "code",
   "execution_count": 309,
   "id": "9e7cbfc0",
   "metadata": {},
   "outputs": [],
   "source": [
    "import plotly.express as px"
   ]
  },
  {
   "cell_type": "code",
   "execution_count": 312,
   "id": "959a19c7",
   "metadata": {},
   "outputs": [],
   "source": [
    "x_valid['Pred_RIDE_DEMAND'] = model.predict(x_valid)\n",
    "x_valid['RIDE_DEMAND'] = y_valid"
   ]
  },
  {
   "cell_type": "code",
   "execution_count": 315,
   "id": "bd6c28c4",
   "metadata": {},
   "outputs": [
    {
     "data": {
      "text/html": [
       "<div>\n",
       "<style scoped>\n",
       "    .dataframe tbody tr th:only-of-type {\n",
       "        vertical-align: middle;\n",
       "    }\n",
       "\n",
       "    .dataframe tbody tr th {\n",
       "        vertical-align: top;\n",
       "    }\n",
       "\n",
       "    .dataframe thead th {\n",
       "        text-align: right;\n",
       "    }\n",
       "</style>\n",
       "<table border=\"1\" class=\"dataframe\">\n",
       "  <thead>\n",
       "    <tr style=\"text-align: right;\">\n",
       "      <th></th>\n",
       "      <th>gid</th>\n",
       "      <th>TIME</th>\n",
       "      <th>DAY</th>\n",
       "      <th>ALIGHT_DEMAND</th>\n",
       "      <th>RIDE_DEMAND</th>\n",
       "      <th>Pred_RIDE_DEMAND</th>\n",
       "    </tr>\n",
       "  </thead>\n",
       "  <tbody>\n",
       "    <tr>\n",
       "      <th>0</th>\n",
       "      <td>다마9599</td>\n",
       "      <td>5</td>\n",
       "      <td>Thursday</td>\n",
       "      <td>0</td>\n",
       "      <td>1</td>\n",
       "      <td>0.225652</td>\n",
       "    </tr>\n",
       "    <tr>\n",
       "      <th>1</th>\n",
       "      <td>다마9599</td>\n",
       "      <td>6</td>\n",
       "      <td>Thursday</td>\n",
       "      <td>5</td>\n",
       "      <td>2</td>\n",
       "      <td>2.136182</td>\n",
       "    </tr>\n",
       "    <tr>\n",
       "      <th>2</th>\n",
       "      <td>다마9599</td>\n",
       "      <td>7</td>\n",
       "      <td>Thursday</td>\n",
       "      <td>7</td>\n",
       "      <td>2</td>\n",
       "      <td>7.424163</td>\n",
       "    </tr>\n",
       "    <tr>\n",
       "      <th>3</th>\n",
       "      <td>다마9599</td>\n",
       "      <td>8</td>\n",
       "      <td>Thursday</td>\n",
       "      <td>12</td>\n",
       "      <td>3</td>\n",
       "      <td>6.386557</td>\n",
       "    </tr>\n",
       "    <tr>\n",
       "      <th>4</th>\n",
       "      <td>다마9599</td>\n",
       "      <td>9</td>\n",
       "      <td>Thursday</td>\n",
       "      <td>31</td>\n",
       "      <td>2</td>\n",
       "      <td>7.039255</td>\n",
       "    </tr>\n",
       "    <tr>\n",
       "      <th>...</th>\n",
       "      <td>...</td>\n",
       "      <td>...</td>\n",
       "      <td>...</td>\n",
       "      <td>...</td>\n",
       "      <td>...</td>\n",
       "      <td>...</td>\n",
       "    </tr>\n",
       "    <tr>\n",
       "      <th>539401</th>\n",
       "      <td>라바0421</td>\n",
       "      <td>21</td>\n",
       "      <td>Sunday</td>\n",
       "      <td>0</td>\n",
       "      <td>0</td>\n",
       "      <td>0.172525</td>\n",
       "    </tr>\n",
       "    <tr>\n",
       "      <th>539402</th>\n",
       "      <td>라바0421</td>\n",
       "      <td>22</td>\n",
       "      <td>Sunday</td>\n",
       "      <td>0</td>\n",
       "      <td>0</td>\n",
       "      <td>0.031716</td>\n",
       "    </tr>\n",
       "    <tr>\n",
       "      <th>539403</th>\n",
       "      <td>라바0421</td>\n",
       "      <td>23</td>\n",
       "      <td>Sunday</td>\n",
       "      <td>0</td>\n",
       "      <td>0</td>\n",
       "      <td>-0.014726</td>\n",
       "    </tr>\n",
       "    <tr>\n",
       "      <th>539404</th>\n",
       "      <td>라바0421</td>\n",
       "      <td>0</td>\n",
       "      <td>Sunday</td>\n",
       "      <td>0</td>\n",
       "      <td>0</td>\n",
       "      <td>-0.018773</td>\n",
       "    </tr>\n",
       "    <tr>\n",
       "      <th>539405</th>\n",
       "      <td>라바0421</td>\n",
       "      <td>1</td>\n",
       "      <td>Sunday</td>\n",
       "      <td>0</td>\n",
       "      <td>0</td>\n",
       "      <td>-0.018773</td>\n",
       "    </tr>\n",
       "  </tbody>\n",
       "</table>\n",
       "<p>23121 rows × 6 columns</p>\n",
       "</div>"
      ],
      "text/plain": [
       "           gid  TIME       DAY  ALIGHT_DEMAND  RIDE_DEMAND  Pred_RIDE_DEMAND\n",
       "0       다마9599     5  Thursday              0            1          0.225652\n",
       "1       다마9599     6  Thursday              5            2          2.136182\n",
       "2       다마9599     7  Thursday              7            2          7.424163\n",
       "3       다마9599     8  Thursday             12            3          6.386557\n",
       "4       다마9599     9  Thursday             31            2          7.039255\n",
       "...        ...   ...       ...            ...          ...               ...\n",
       "539401  라바0421    21    Sunday              0            0          0.172525\n",
       "539402  라바0421    22    Sunday              0            0          0.031716\n",
       "539403  라바0421    23    Sunday              0            0         -0.014726\n",
       "539404  라바0421     0    Sunday              0            0         -0.018773\n",
       "539405  라바0421     1    Sunday              0            0         -0.018773\n",
       "\n",
       "[23121 rows x 6 columns]"
      ]
     },
     "execution_count": 315,
     "metadata": {},
     "output_type": "execute_result"
    }
   ],
   "source": [
    "x_valid"
   ]
  },
  {
   "cell_type": "code",
   "execution_count": 322,
   "id": "b6d21095",
   "metadata": {},
   "outputs": [],
   "source": [
    "x_valid_th6 = x_valid[x_valid['DAY']=='Thursday']\n",
    "x_valid_su8 = x_valid[x_valid['DAY']=='Sunday']\n",
    "x_valid_we7 = x_valid[x_valid['DAY']=='Wednesday']"
   ]
  },
  {
   "cell_type": "code",
   "execution_count": 324,
   "id": "ad701ea9",
   "metadata": {},
   "outputs": [
    {
     "data": {
      "application/vnd.plotly.v1+json": {
       "config": {
        "plotlyServerURL": "https://plot.ly"
       },
       "data": [
        {
         "hovertemplate": "variable=RIDE_DEMAND<br>x=%{x}<br>value=%{y}<extra></extra>",
         "legendgroup": "RIDE_DEMAND",
         "line": {
          "color": "#636efa",
          "dash": "solid"
         },
         "marker": {
          "symbol": "circle"
         },
         "mode": "lines",
         "name": "RIDE_DEMAND",
         "orientation": "v",
         "showlegend": true,
         "type": "scatter",
         "x": [
          5,
          6,
          7,
          8,
          9,
          10,
          11,
          12,
          13,
          14,
          15,
          16,
          17,
          18,
          19,
          20,
          21,
          22,
          23,
          0,
          1
         ],
         "xaxis": "x",
         "y": [
          20,
          74,
          161,
          194,
          141,
          105,
          85,
          89,
          112,
          85,
          76,
          91,
          135,
          152,
          89,
          76,
          67,
          44,
          2,
          0,
          0
         ],
         "yaxis": "y"
        },
        {
         "hovertemplate": "variable=Pred_RIDE_DEMAND<br>x=%{x}<br>value=%{y}<extra></extra>",
         "legendgroup": "Pred_RIDE_DEMAND",
         "line": {
          "color": "#EF553B",
          "dash": "solid"
         },
         "marker": {
          "symbol": "circle"
         },
         "mode": "lines",
         "name": "Pred_RIDE_DEMAND",
         "orientation": "v",
         "showlegend": true,
         "type": "scatter",
         "x": [
          5,
          6,
          7,
          8,
          9,
          10,
          11,
          12,
          13,
          14,
          15,
          16,
          17,
          18,
          19,
          20,
          21,
          22,
          23,
          0,
          1
         ],
         "xaxis": "x",
         "y": [
          20.151600305948467,
          71.65272673904755,
          171.18771009655467,
          168.6057571415464,
          131.67338818953857,
          101.08169989382495,
          85.47066968954971,
          100.54693039213728,
          100.48697303368246,
          80.40457455874721,
          113.86907796623086,
          139.13734786539925,
          166.94189389067677,
          136.337440604015,
          90.05796615554203,
          70.47783224495853,
          64.5342540281629,
          50.64105550909743,
          4.378694430963144,
          -1.1352019533444206,
          -1.1352019533444206
         ],
         "yaxis": "y"
        }
       ],
       "layout": {
        "legend": {
         "title": {
          "text": "variable"
         },
         "tracegroupgap": 0
        },
        "margin": {
         "b": 0,
         "l": 0,
         "pad": 10,
         "r": 0,
         "t": 60
        },
        "template": {
         "data": {
          "bar": [
           {
            "error_x": {
             "color": "#f2f5fa"
            },
            "error_y": {
             "color": "#f2f5fa"
            },
            "marker": {
             "line": {
              "color": "rgb(17,17,17)",
              "width": 0.5
             },
             "pattern": {
              "fillmode": "overlay",
              "size": 10,
              "solidity": 0.2
             }
            },
            "type": "bar"
           }
          ],
          "barpolar": [
           {
            "marker": {
             "line": {
              "color": "rgb(17,17,17)",
              "width": 0.5
             },
             "pattern": {
              "fillmode": "overlay",
              "size": 10,
              "solidity": 0.2
             }
            },
            "type": "barpolar"
           }
          ],
          "carpet": [
           {
            "aaxis": {
             "endlinecolor": "#A2B1C6",
             "gridcolor": "#506784",
             "linecolor": "#506784",
             "minorgridcolor": "#506784",
             "startlinecolor": "#A2B1C6"
            },
            "baxis": {
             "endlinecolor": "#A2B1C6",
             "gridcolor": "#506784",
             "linecolor": "#506784",
             "minorgridcolor": "#506784",
             "startlinecolor": "#A2B1C6"
            },
            "type": "carpet"
           }
          ],
          "choropleth": [
           {
            "colorbar": {
             "outlinewidth": 0,
             "ticks": ""
            },
            "type": "choropleth"
           }
          ],
          "contour": [
           {
            "colorbar": {
             "outlinewidth": 0,
             "ticks": ""
            },
            "colorscale": [
             [
              0,
              "#0d0887"
             ],
             [
              0.1111111111111111,
              "#46039f"
             ],
             [
              0.2222222222222222,
              "#7201a8"
             ],
             [
              0.3333333333333333,
              "#9c179e"
             ],
             [
              0.4444444444444444,
              "#bd3786"
             ],
             [
              0.5555555555555556,
              "#d8576b"
             ],
             [
              0.6666666666666666,
              "#ed7953"
             ],
             [
              0.7777777777777778,
              "#fb9f3a"
             ],
             [
              0.8888888888888888,
              "#fdca26"
             ],
             [
              1,
              "#f0f921"
             ]
            ],
            "type": "contour"
           }
          ],
          "contourcarpet": [
           {
            "colorbar": {
             "outlinewidth": 0,
             "ticks": ""
            },
            "type": "contourcarpet"
           }
          ],
          "heatmap": [
           {
            "colorbar": {
             "outlinewidth": 0,
             "ticks": ""
            },
            "colorscale": [
             [
              0,
              "#0d0887"
             ],
             [
              0.1111111111111111,
              "#46039f"
             ],
             [
              0.2222222222222222,
              "#7201a8"
             ],
             [
              0.3333333333333333,
              "#9c179e"
             ],
             [
              0.4444444444444444,
              "#bd3786"
             ],
             [
              0.5555555555555556,
              "#d8576b"
             ],
             [
              0.6666666666666666,
              "#ed7953"
             ],
             [
              0.7777777777777778,
              "#fb9f3a"
             ],
             [
              0.8888888888888888,
              "#fdca26"
             ],
             [
              1,
              "#f0f921"
             ]
            ],
            "type": "heatmap"
           }
          ],
          "heatmapgl": [
           {
            "colorbar": {
             "outlinewidth": 0,
             "ticks": ""
            },
            "colorscale": [
             [
              0,
              "#0d0887"
             ],
             [
              0.1111111111111111,
              "#46039f"
             ],
             [
              0.2222222222222222,
              "#7201a8"
             ],
             [
              0.3333333333333333,
              "#9c179e"
             ],
             [
              0.4444444444444444,
              "#bd3786"
             ],
             [
              0.5555555555555556,
              "#d8576b"
             ],
             [
              0.6666666666666666,
              "#ed7953"
             ],
             [
              0.7777777777777778,
              "#fb9f3a"
             ],
             [
              0.8888888888888888,
              "#fdca26"
             ],
             [
              1,
              "#f0f921"
             ]
            ],
            "type": "heatmapgl"
           }
          ],
          "histogram": [
           {
            "marker": {
             "pattern": {
              "fillmode": "overlay",
              "size": 10,
              "solidity": 0.2
             }
            },
            "type": "histogram"
           }
          ],
          "histogram2d": [
           {
            "colorbar": {
             "outlinewidth": 0,
             "ticks": ""
            },
            "colorscale": [
             [
              0,
              "#0d0887"
             ],
             [
              0.1111111111111111,
              "#46039f"
             ],
             [
              0.2222222222222222,
              "#7201a8"
             ],
             [
              0.3333333333333333,
              "#9c179e"
             ],
             [
              0.4444444444444444,
              "#bd3786"
             ],
             [
              0.5555555555555556,
              "#d8576b"
             ],
             [
              0.6666666666666666,
              "#ed7953"
             ],
             [
              0.7777777777777778,
              "#fb9f3a"
             ],
             [
              0.8888888888888888,
              "#fdca26"
             ],
             [
              1,
              "#f0f921"
             ]
            ],
            "type": "histogram2d"
           }
          ],
          "histogram2dcontour": [
           {
            "colorbar": {
             "outlinewidth": 0,
             "ticks": ""
            },
            "colorscale": [
             [
              0,
              "#0d0887"
             ],
             [
              0.1111111111111111,
              "#46039f"
             ],
             [
              0.2222222222222222,
              "#7201a8"
             ],
             [
              0.3333333333333333,
              "#9c179e"
             ],
             [
              0.4444444444444444,
              "#bd3786"
             ],
             [
              0.5555555555555556,
              "#d8576b"
             ],
             [
              0.6666666666666666,
              "#ed7953"
             ],
             [
              0.7777777777777778,
              "#fb9f3a"
             ],
             [
              0.8888888888888888,
              "#fdca26"
             ],
             [
              1,
              "#f0f921"
             ]
            ],
            "type": "histogram2dcontour"
           }
          ],
          "mesh3d": [
           {
            "colorbar": {
             "outlinewidth": 0,
             "ticks": ""
            },
            "type": "mesh3d"
           }
          ],
          "parcoords": [
           {
            "line": {
             "colorbar": {
              "outlinewidth": 0,
              "ticks": ""
             }
            },
            "type": "parcoords"
           }
          ],
          "pie": [
           {
            "automargin": true,
            "type": "pie"
           }
          ],
          "scatter": [
           {
            "marker": {
             "line": {
              "color": "#283442"
             }
            },
            "type": "scatter"
           }
          ],
          "scatter3d": [
           {
            "line": {
             "colorbar": {
              "outlinewidth": 0,
              "ticks": ""
             }
            },
            "marker": {
             "colorbar": {
              "outlinewidth": 0,
              "ticks": ""
             }
            },
            "type": "scatter3d"
           }
          ],
          "scattercarpet": [
           {
            "marker": {
             "colorbar": {
              "outlinewidth": 0,
              "ticks": ""
             }
            },
            "type": "scattercarpet"
           }
          ],
          "scattergeo": [
           {
            "marker": {
             "colorbar": {
              "outlinewidth": 0,
              "ticks": ""
             }
            },
            "type": "scattergeo"
           }
          ],
          "scattergl": [
           {
            "marker": {
             "line": {
              "color": "#283442"
             }
            },
            "type": "scattergl"
           }
          ],
          "scattermapbox": [
           {
            "marker": {
             "colorbar": {
              "outlinewidth": 0,
              "ticks": ""
             }
            },
            "type": "scattermapbox"
           }
          ],
          "scatterpolar": [
           {
            "marker": {
             "colorbar": {
              "outlinewidth": 0,
              "ticks": ""
             }
            },
            "type": "scatterpolar"
           }
          ],
          "scatterpolargl": [
           {
            "marker": {
             "colorbar": {
              "outlinewidth": 0,
              "ticks": ""
             }
            },
            "type": "scatterpolargl"
           }
          ],
          "scatterternary": [
           {
            "marker": {
             "colorbar": {
              "outlinewidth": 0,
              "ticks": ""
             }
            },
            "type": "scatterternary"
           }
          ],
          "surface": [
           {
            "colorbar": {
             "outlinewidth": 0,
             "ticks": ""
            },
            "colorscale": [
             [
              0,
              "#0d0887"
             ],
             [
              0.1111111111111111,
              "#46039f"
             ],
             [
              0.2222222222222222,
              "#7201a8"
             ],
             [
              0.3333333333333333,
              "#9c179e"
             ],
             [
              0.4444444444444444,
              "#bd3786"
             ],
             [
              0.5555555555555556,
              "#d8576b"
             ],
             [
              0.6666666666666666,
              "#ed7953"
             ],
             [
              0.7777777777777778,
              "#fb9f3a"
             ],
             [
              0.8888888888888888,
              "#fdca26"
             ],
             [
              1,
              "#f0f921"
             ]
            ],
            "type": "surface"
           }
          ],
          "table": [
           {
            "cells": {
             "fill": {
              "color": "#506784"
             },
             "line": {
              "color": "rgb(17,17,17)"
             }
            },
            "header": {
             "fill": {
              "color": "#2a3f5f"
             },
             "line": {
              "color": "rgb(17,17,17)"
             }
            },
            "type": "table"
           }
          ]
         },
         "layout": {
          "annotationdefaults": {
           "arrowcolor": "#f2f5fa",
           "arrowhead": 0,
           "arrowwidth": 1
          },
          "autotypenumbers": "strict",
          "coloraxis": {
           "colorbar": {
            "outlinewidth": 0,
            "ticks": ""
           }
          },
          "colorscale": {
           "diverging": [
            [
             0,
             "#8e0152"
            ],
            [
             0.1,
             "#c51b7d"
            ],
            [
             0.2,
             "#de77ae"
            ],
            [
             0.3,
             "#f1b6da"
            ],
            [
             0.4,
             "#fde0ef"
            ],
            [
             0.5,
             "#f7f7f7"
            ],
            [
             0.6,
             "#e6f5d0"
            ],
            [
             0.7,
             "#b8e186"
            ],
            [
             0.8,
             "#7fbc41"
            ],
            [
             0.9,
             "#4d9221"
            ],
            [
             1,
             "#276419"
            ]
           ],
           "sequential": [
            [
             0,
             "#0d0887"
            ],
            [
             0.1111111111111111,
             "#46039f"
            ],
            [
             0.2222222222222222,
             "#7201a8"
            ],
            [
             0.3333333333333333,
             "#9c179e"
            ],
            [
             0.4444444444444444,
             "#bd3786"
            ],
            [
             0.5555555555555556,
             "#d8576b"
            ],
            [
             0.6666666666666666,
             "#ed7953"
            ],
            [
             0.7777777777777778,
             "#fb9f3a"
            ],
            [
             0.8888888888888888,
             "#fdca26"
            ],
            [
             1,
             "#f0f921"
            ]
           ],
           "sequentialminus": [
            [
             0,
             "#0d0887"
            ],
            [
             0.1111111111111111,
             "#46039f"
            ],
            [
             0.2222222222222222,
             "#7201a8"
            ],
            [
             0.3333333333333333,
             "#9c179e"
            ],
            [
             0.4444444444444444,
             "#bd3786"
            ],
            [
             0.5555555555555556,
             "#d8576b"
            ],
            [
             0.6666666666666666,
             "#ed7953"
            ],
            [
             0.7777777777777778,
             "#fb9f3a"
            ],
            [
             0.8888888888888888,
             "#fdca26"
            ],
            [
             1,
             "#f0f921"
            ]
           ]
          },
          "colorway": [
           "#636efa",
           "#EF553B",
           "#00cc96",
           "#ab63fa",
           "#FFA15A",
           "#19d3f3",
           "#FF6692",
           "#B6E880",
           "#FF97FF",
           "#FECB52"
          ],
          "font": {
           "color": "#f2f5fa"
          },
          "geo": {
           "bgcolor": "rgb(17,17,17)",
           "lakecolor": "rgb(17,17,17)",
           "landcolor": "rgb(17,17,17)",
           "showlakes": true,
           "showland": true,
           "subunitcolor": "#506784"
          },
          "hoverlabel": {
           "align": "left"
          },
          "hovermode": "closest",
          "mapbox": {
           "style": "dark"
          },
          "paper_bgcolor": "rgb(17,17,17)",
          "plot_bgcolor": "rgb(17,17,17)",
          "polar": {
           "angularaxis": {
            "gridcolor": "#506784",
            "linecolor": "#506784",
            "ticks": ""
           },
           "bgcolor": "rgb(17,17,17)",
           "radialaxis": {
            "gridcolor": "#506784",
            "linecolor": "#506784",
            "ticks": ""
           }
          },
          "scene": {
           "xaxis": {
            "backgroundcolor": "rgb(17,17,17)",
            "gridcolor": "#506784",
            "gridwidth": 2,
            "linecolor": "#506784",
            "showbackground": true,
            "ticks": "",
            "zerolinecolor": "#C8D4E3"
           },
           "yaxis": {
            "backgroundcolor": "rgb(17,17,17)",
            "gridcolor": "#506784",
            "gridwidth": 2,
            "linecolor": "#506784",
            "showbackground": true,
            "ticks": "",
            "zerolinecolor": "#C8D4E3"
           },
           "zaxis": {
            "backgroundcolor": "rgb(17,17,17)",
            "gridcolor": "#506784",
            "gridwidth": 2,
            "linecolor": "#506784",
            "showbackground": true,
            "ticks": "",
            "zerolinecolor": "#C8D4E3"
           }
          },
          "shapedefaults": {
           "line": {
            "color": "#f2f5fa"
           }
          },
          "sliderdefaults": {
           "bgcolor": "#C8D4E3",
           "bordercolor": "rgb(17,17,17)",
           "borderwidth": 1,
           "tickwidth": 0
          },
          "ternary": {
           "aaxis": {
            "gridcolor": "#506784",
            "linecolor": "#506784",
            "ticks": ""
           },
           "baxis": {
            "gridcolor": "#506784",
            "linecolor": "#506784",
            "ticks": ""
           },
           "bgcolor": "rgb(17,17,17)",
           "caxis": {
            "gridcolor": "#506784",
            "linecolor": "#506784",
            "ticks": ""
           }
          },
          "title": {
           "x": 0.05
          },
          "updatemenudefaults": {
           "bgcolor": "#506784",
           "borderwidth": 0
          },
          "xaxis": {
           "automargin": true,
           "gridcolor": "#283442",
           "linecolor": "#506784",
           "ticks": "",
           "title": {
            "standoff": 15
           },
           "zerolinecolor": "#283442",
           "zerolinewidth": 2
          },
          "yaxis": {
           "automargin": true,
           "gridcolor": "#283442",
           "linecolor": "#506784",
           "ticks": "",
           "title": {
            "standoff": 15
           },
           "zerolinecolor": "#283442",
           "zerolinewidth": 2
          }
         }
        },
        "title": {
         "text": "6월 [다바8712] 지역 목요일 버스 승차인원"
        },
        "width": 800,
        "xaxis": {
         "anchor": "y",
         "domain": [
          0,
          1
         ],
         "showticklabels": false,
         "title": {
          "text": "x"
         },
         "visible": false
        },
        "yaxis": {
         "anchor": "x",
         "domain": [
          0,
          1
         ],
         "title": {
          "text": "RIDE_DEMAND"
         }
        }
       }
      },
      "text/html": [
       "<div>                            <div id=\"8bb45d97-b2c6-403c-8ea0-6ca89dbf9e82\" class=\"plotly-graph-div\" style=\"height:525px; width:800px;\"></div>            <script type=\"text/javascript\">                require([\"plotly\"], function(Plotly) {                    window.PLOTLYENV=window.PLOTLYENV || {};                                    if (document.getElementById(\"8bb45d97-b2c6-403c-8ea0-6ca89dbf9e82\")) {                    Plotly.newPlot(                        \"8bb45d97-b2c6-403c-8ea0-6ca89dbf9e82\",                        [{\"hovertemplate\":\"variable=RIDE_DEMAND\\u003cbr\\u003ex=%{x}\\u003cbr\\u003evalue=%{y}\\u003cextra\\u003e\\u003c\\u002fextra\\u003e\",\"legendgroup\":\"RIDE_DEMAND\",\"line\":{\"color\":\"#636efa\",\"dash\":\"solid\"},\"marker\":{\"symbol\":\"circle\"},\"mode\":\"lines\",\"name\":\"RIDE_DEMAND\",\"orientation\":\"v\",\"showlegend\":true,\"x\":[5,6,7,8,9,10,11,12,13,14,15,16,17,18,19,20,21,22,23,0,1],\"xaxis\":\"x\",\"y\":[20.0,74.0,161.0,194.0,141.0,105.0,85.0,89.0,112.0,85.0,76.0,91.0,135.0,152.0,89.0,76.0,67.0,44.0,2.0,0.0,0.0],\"yaxis\":\"y\",\"type\":\"scatter\"},{\"hovertemplate\":\"variable=Pred_RIDE_DEMAND\\u003cbr\\u003ex=%{x}\\u003cbr\\u003evalue=%{y}\\u003cextra\\u003e\\u003c\\u002fextra\\u003e\",\"legendgroup\":\"Pred_RIDE_DEMAND\",\"line\":{\"color\":\"#EF553B\",\"dash\":\"solid\"},\"marker\":{\"symbol\":\"circle\"},\"mode\":\"lines\",\"name\":\"Pred_RIDE_DEMAND\",\"orientation\":\"v\",\"showlegend\":true,\"x\":[5,6,7,8,9,10,11,12,13,14,15,16,17,18,19,20,21,22,23,0,1],\"xaxis\":\"x\",\"y\":[20.151600305948467,71.65272673904755,171.18771009655467,168.6057571415464,131.67338818953857,101.08169989382495,85.47066968954971,100.54693039213728,100.48697303368246,80.40457455874721,113.86907796623086,139.13734786539925,166.94189389067677,136.337440604015,90.05796615554203,70.47783224495853,64.5342540281629,50.64105550909743,4.378694430963144,-1.1352019533444206,-1.1352019533444206],\"yaxis\":\"y\",\"type\":\"scatter\"}],                        {\"template\":{\"data\":{\"barpolar\":[{\"marker\":{\"line\":{\"color\":\"rgb(17,17,17)\",\"width\":0.5},\"pattern\":{\"fillmode\":\"overlay\",\"size\":10,\"solidity\":0.2}},\"type\":\"barpolar\"}],\"bar\":[{\"error_x\":{\"color\":\"#f2f5fa\"},\"error_y\":{\"color\":\"#f2f5fa\"},\"marker\":{\"line\":{\"color\":\"rgb(17,17,17)\",\"width\":0.5},\"pattern\":{\"fillmode\":\"overlay\",\"size\":10,\"solidity\":0.2}},\"type\":\"bar\"}],\"carpet\":[{\"aaxis\":{\"endlinecolor\":\"#A2B1C6\",\"gridcolor\":\"#506784\",\"linecolor\":\"#506784\",\"minorgridcolor\":\"#506784\",\"startlinecolor\":\"#A2B1C6\"},\"baxis\":{\"endlinecolor\":\"#A2B1C6\",\"gridcolor\":\"#506784\",\"linecolor\":\"#506784\",\"minorgridcolor\":\"#506784\",\"startlinecolor\":\"#A2B1C6\"},\"type\":\"carpet\"}],\"choropleth\":[{\"colorbar\":{\"outlinewidth\":0,\"ticks\":\"\"},\"type\":\"choropleth\"}],\"contourcarpet\":[{\"colorbar\":{\"outlinewidth\":0,\"ticks\":\"\"},\"type\":\"contourcarpet\"}],\"contour\":[{\"colorbar\":{\"outlinewidth\":0,\"ticks\":\"\"},\"colorscale\":[[0.0,\"#0d0887\"],[0.1111111111111111,\"#46039f\"],[0.2222222222222222,\"#7201a8\"],[0.3333333333333333,\"#9c179e\"],[0.4444444444444444,\"#bd3786\"],[0.5555555555555556,\"#d8576b\"],[0.6666666666666666,\"#ed7953\"],[0.7777777777777778,\"#fb9f3a\"],[0.8888888888888888,\"#fdca26\"],[1.0,\"#f0f921\"]],\"type\":\"contour\"}],\"heatmapgl\":[{\"colorbar\":{\"outlinewidth\":0,\"ticks\":\"\"},\"colorscale\":[[0.0,\"#0d0887\"],[0.1111111111111111,\"#46039f\"],[0.2222222222222222,\"#7201a8\"],[0.3333333333333333,\"#9c179e\"],[0.4444444444444444,\"#bd3786\"],[0.5555555555555556,\"#d8576b\"],[0.6666666666666666,\"#ed7953\"],[0.7777777777777778,\"#fb9f3a\"],[0.8888888888888888,\"#fdca26\"],[1.0,\"#f0f921\"]],\"type\":\"heatmapgl\"}],\"heatmap\":[{\"colorbar\":{\"outlinewidth\":0,\"ticks\":\"\"},\"colorscale\":[[0.0,\"#0d0887\"],[0.1111111111111111,\"#46039f\"],[0.2222222222222222,\"#7201a8\"],[0.3333333333333333,\"#9c179e\"],[0.4444444444444444,\"#bd3786\"],[0.5555555555555556,\"#d8576b\"],[0.6666666666666666,\"#ed7953\"],[0.7777777777777778,\"#fb9f3a\"],[0.8888888888888888,\"#fdca26\"],[1.0,\"#f0f921\"]],\"type\":\"heatmap\"}],\"histogram2dcontour\":[{\"colorbar\":{\"outlinewidth\":0,\"ticks\":\"\"},\"colorscale\":[[0.0,\"#0d0887\"],[0.1111111111111111,\"#46039f\"],[0.2222222222222222,\"#7201a8\"],[0.3333333333333333,\"#9c179e\"],[0.4444444444444444,\"#bd3786\"],[0.5555555555555556,\"#d8576b\"],[0.6666666666666666,\"#ed7953\"],[0.7777777777777778,\"#fb9f3a\"],[0.8888888888888888,\"#fdca26\"],[1.0,\"#f0f921\"]],\"type\":\"histogram2dcontour\"}],\"histogram2d\":[{\"colorbar\":{\"outlinewidth\":0,\"ticks\":\"\"},\"colorscale\":[[0.0,\"#0d0887\"],[0.1111111111111111,\"#46039f\"],[0.2222222222222222,\"#7201a8\"],[0.3333333333333333,\"#9c179e\"],[0.4444444444444444,\"#bd3786\"],[0.5555555555555556,\"#d8576b\"],[0.6666666666666666,\"#ed7953\"],[0.7777777777777778,\"#fb9f3a\"],[0.8888888888888888,\"#fdca26\"],[1.0,\"#f0f921\"]],\"type\":\"histogram2d\"}],\"histogram\":[{\"marker\":{\"pattern\":{\"fillmode\":\"overlay\",\"size\":10,\"solidity\":0.2}},\"type\":\"histogram\"}],\"mesh3d\":[{\"colorbar\":{\"outlinewidth\":0,\"ticks\":\"\"},\"type\":\"mesh3d\"}],\"parcoords\":[{\"line\":{\"colorbar\":{\"outlinewidth\":0,\"ticks\":\"\"}},\"type\":\"parcoords\"}],\"pie\":[{\"automargin\":true,\"type\":\"pie\"}],\"scatter3d\":[{\"line\":{\"colorbar\":{\"outlinewidth\":0,\"ticks\":\"\"}},\"marker\":{\"colorbar\":{\"outlinewidth\":0,\"ticks\":\"\"}},\"type\":\"scatter3d\"}],\"scattercarpet\":[{\"marker\":{\"colorbar\":{\"outlinewidth\":0,\"ticks\":\"\"}},\"type\":\"scattercarpet\"}],\"scattergeo\":[{\"marker\":{\"colorbar\":{\"outlinewidth\":0,\"ticks\":\"\"}},\"type\":\"scattergeo\"}],\"scattergl\":[{\"marker\":{\"line\":{\"color\":\"#283442\"}},\"type\":\"scattergl\"}],\"scattermapbox\":[{\"marker\":{\"colorbar\":{\"outlinewidth\":0,\"ticks\":\"\"}},\"type\":\"scattermapbox\"}],\"scatterpolargl\":[{\"marker\":{\"colorbar\":{\"outlinewidth\":0,\"ticks\":\"\"}},\"type\":\"scatterpolargl\"}],\"scatterpolar\":[{\"marker\":{\"colorbar\":{\"outlinewidth\":0,\"ticks\":\"\"}},\"type\":\"scatterpolar\"}],\"scatter\":[{\"marker\":{\"line\":{\"color\":\"#283442\"}},\"type\":\"scatter\"}],\"scatterternary\":[{\"marker\":{\"colorbar\":{\"outlinewidth\":0,\"ticks\":\"\"}},\"type\":\"scatterternary\"}],\"surface\":[{\"colorbar\":{\"outlinewidth\":0,\"ticks\":\"\"},\"colorscale\":[[0.0,\"#0d0887\"],[0.1111111111111111,\"#46039f\"],[0.2222222222222222,\"#7201a8\"],[0.3333333333333333,\"#9c179e\"],[0.4444444444444444,\"#bd3786\"],[0.5555555555555556,\"#d8576b\"],[0.6666666666666666,\"#ed7953\"],[0.7777777777777778,\"#fb9f3a\"],[0.8888888888888888,\"#fdca26\"],[1.0,\"#f0f921\"]],\"type\":\"surface\"}],\"table\":[{\"cells\":{\"fill\":{\"color\":\"#506784\"},\"line\":{\"color\":\"rgb(17,17,17)\"}},\"header\":{\"fill\":{\"color\":\"#2a3f5f\"},\"line\":{\"color\":\"rgb(17,17,17)\"}},\"type\":\"table\"}]},\"layout\":{\"annotationdefaults\":{\"arrowcolor\":\"#f2f5fa\",\"arrowhead\":0,\"arrowwidth\":1},\"autotypenumbers\":\"strict\",\"coloraxis\":{\"colorbar\":{\"outlinewidth\":0,\"ticks\":\"\"}},\"colorscale\":{\"diverging\":[[0,\"#8e0152\"],[0.1,\"#c51b7d\"],[0.2,\"#de77ae\"],[0.3,\"#f1b6da\"],[0.4,\"#fde0ef\"],[0.5,\"#f7f7f7\"],[0.6,\"#e6f5d0\"],[0.7,\"#b8e186\"],[0.8,\"#7fbc41\"],[0.9,\"#4d9221\"],[1,\"#276419\"]],\"sequential\":[[0.0,\"#0d0887\"],[0.1111111111111111,\"#46039f\"],[0.2222222222222222,\"#7201a8\"],[0.3333333333333333,\"#9c179e\"],[0.4444444444444444,\"#bd3786\"],[0.5555555555555556,\"#d8576b\"],[0.6666666666666666,\"#ed7953\"],[0.7777777777777778,\"#fb9f3a\"],[0.8888888888888888,\"#fdca26\"],[1.0,\"#f0f921\"]],\"sequentialminus\":[[0.0,\"#0d0887\"],[0.1111111111111111,\"#46039f\"],[0.2222222222222222,\"#7201a8\"],[0.3333333333333333,\"#9c179e\"],[0.4444444444444444,\"#bd3786\"],[0.5555555555555556,\"#d8576b\"],[0.6666666666666666,\"#ed7953\"],[0.7777777777777778,\"#fb9f3a\"],[0.8888888888888888,\"#fdca26\"],[1.0,\"#f0f921\"]]},\"colorway\":[\"#636efa\",\"#EF553B\",\"#00cc96\",\"#ab63fa\",\"#FFA15A\",\"#19d3f3\",\"#FF6692\",\"#B6E880\",\"#FF97FF\",\"#FECB52\"],\"font\":{\"color\":\"#f2f5fa\"},\"geo\":{\"bgcolor\":\"rgb(17,17,17)\",\"lakecolor\":\"rgb(17,17,17)\",\"landcolor\":\"rgb(17,17,17)\",\"showlakes\":true,\"showland\":true,\"subunitcolor\":\"#506784\"},\"hoverlabel\":{\"align\":\"left\"},\"hovermode\":\"closest\",\"mapbox\":{\"style\":\"dark\"},\"paper_bgcolor\":\"rgb(17,17,17)\",\"plot_bgcolor\":\"rgb(17,17,17)\",\"polar\":{\"angularaxis\":{\"gridcolor\":\"#506784\",\"linecolor\":\"#506784\",\"ticks\":\"\"},\"bgcolor\":\"rgb(17,17,17)\",\"radialaxis\":{\"gridcolor\":\"#506784\",\"linecolor\":\"#506784\",\"ticks\":\"\"}},\"scene\":{\"xaxis\":{\"backgroundcolor\":\"rgb(17,17,17)\",\"gridcolor\":\"#506784\",\"gridwidth\":2,\"linecolor\":\"#506784\",\"showbackground\":true,\"ticks\":\"\",\"zerolinecolor\":\"#C8D4E3\"},\"yaxis\":{\"backgroundcolor\":\"rgb(17,17,17)\",\"gridcolor\":\"#506784\",\"gridwidth\":2,\"linecolor\":\"#506784\",\"showbackground\":true,\"ticks\":\"\",\"zerolinecolor\":\"#C8D4E3\"},\"zaxis\":{\"backgroundcolor\":\"rgb(17,17,17)\",\"gridcolor\":\"#506784\",\"gridwidth\":2,\"linecolor\":\"#506784\",\"showbackground\":true,\"ticks\":\"\",\"zerolinecolor\":\"#C8D4E3\"}},\"shapedefaults\":{\"line\":{\"color\":\"#f2f5fa\"}},\"sliderdefaults\":{\"bgcolor\":\"#C8D4E3\",\"bordercolor\":\"rgb(17,17,17)\",\"borderwidth\":1,\"tickwidth\":0},\"ternary\":{\"aaxis\":{\"gridcolor\":\"#506784\",\"linecolor\":\"#506784\",\"ticks\":\"\"},\"baxis\":{\"gridcolor\":\"#506784\",\"linecolor\":\"#506784\",\"ticks\":\"\"},\"bgcolor\":\"rgb(17,17,17)\",\"caxis\":{\"gridcolor\":\"#506784\",\"linecolor\":\"#506784\",\"ticks\":\"\"}},\"title\":{\"x\":0.05},\"updatemenudefaults\":{\"bgcolor\":\"#506784\",\"borderwidth\":0},\"xaxis\":{\"automargin\":true,\"gridcolor\":\"#283442\",\"linecolor\":\"#506784\",\"ticks\":\"\",\"title\":{\"standoff\":15},\"zerolinecolor\":\"#283442\",\"zerolinewidth\":2},\"yaxis\":{\"automargin\":true,\"gridcolor\":\"#283442\",\"linecolor\":\"#506784\",\"ticks\":\"\",\"title\":{\"standoff\":15},\"zerolinecolor\":\"#283442\",\"zerolinewidth\":2}}},\"xaxis\":{\"anchor\":\"y\",\"domain\":[0.0,1.0],\"title\":{\"text\":\"x\"},\"showticklabels\":false,\"visible\":false},\"yaxis\":{\"anchor\":\"x\",\"domain\":[0.0,1.0],\"title\":{\"text\":\"RIDE_DEMAND\"}},\"legend\":{\"title\":{\"text\":\"variable\"},\"tracegroupgap\":0},\"margin\":{\"t\":60,\"l\":0,\"r\":0,\"b\":0,\"pad\":10},\"title\":{\"text\":\"6\\uc6d4 [\\ub2e4\\ubc148712] \\uc9c0\\uc5ed \\ubaa9\\uc694\\uc77c \\ubc84\\uc2a4 \\uc2b9\\ucc28\\uc778\\uc6d0\"},\"width\":800},                        {\"responsive\": true}                    ).then(function(){\n",
       "                            \n",
       "var gd = document.getElementById('8bb45d97-b2c6-403c-8ea0-6ca89dbf9e82');\n",
       "var x = new MutationObserver(function (mutations, observer) {{\n",
       "        var display = window.getComputedStyle(gd).display;\n",
       "        if (!display || display === 'none') {{\n",
       "            console.log([gd, 'removed!']);\n",
       "            Plotly.purge(gd);\n",
       "            observer.disconnect();\n",
       "        }}\n",
       "}});\n",
       "\n",
       "// Listen for the removal of the full notebook cells\n",
       "var notebookContainer = gd.closest('#notebook-container');\n",
       "if (notebookContainer) {{\n",
       "    x.observe(notebookContainer, {childList: true});\n",
       "}}\n",
       "\n",
       "// Listen for the clearing of the current output cell\n",
       "var outputEl = gd.closest('.output');\n",
       "if (outputEl) {{\n",
       "    x.observe(outputEl, {childList: true});\n",
       "}}\n",
       "\n",
       "                        })                };                });            </script>        </div>"
      ]
     },
     "metadata": {},
     "output_type": "display_data"
    }
   ],
   "source": [
    "gid = text=x_valid_th6['gid'].unique()[120]\n",
    "text='6월 ['+gid+ '] 지역 목요일 버스 승차인원'\n",
    "\n",
    "result_fig = px.line(x_valid_th6[x_valid['gid']==gid], x=x_valid_th6[x_valid['gid']==x_valid_th6['gid'].unique()[0]]['TIME'], y=[\"RIDE_DEMAND\", \"Pred_RIDE_DEMAND\"])\n",
    "result_fig.update_layout(\n",
    "    title = text,\n",
    "    margin={\"l\":0,\"r\":0,\"b\":0,\"pad\":10},\n",
    "    template=\"plotly_dark\",\n",
    "    width= 800\n",
    ")\n",
    "result_fig.update_xaxes(\n",
    "    matches=None, showticklabels=False, visible=False\n",
    ")\n",
    "\n",
    "\n",
    "result_fig.update_yaxes(\n",
    "    title = 'RIDE_DEMAND'\n",
    ")"
   ]
  },
  {
   "cell_type": "code",
   "execution_count": 330,
   "id": "4b489075",
   "metadata": {},
   "outputs": [
    {
     "data": {
      "application/vnd.plotly.v1+json": {
       "config": {
        "plotlyServerURL": "https://plot.ly"
       },
       "data": [
        {
         "hovertemplate": "variable=RIDE_DEMAND<br>x=%{x}<br>value=%{y}<extra></extra>",
         "legendgroup": "RIDE_DEMAND",
         "line": {
          "color": "#636efa",
          "dash": "solid"
         },
         "marker": {
          "symbol": "circle"
         },
         "mode": "lines",
         "name": "RIDE_DEMAND",
         "orientation": "v",
         "showlegend": true,
         "type": "scatter",
         "x": [
          5,
          6,
          7,
          8,
          9,
          10,
          11,
          12,
          13,
          14,
          15,
          16,
          17,
          18,
          19,
          20,
          21,
          22,
          23,
          0,
          1
         ],
         "xaxis": "x",
         "y": [
          19,
          74,
          145,
          190,
          121,
          120,
          119,
          111,
          99,
          95,
          106,
          122,
          135,
          130,
          87,
          62,
          67,
          41,
          3,
          0,
          0
         ],
         "yaxis": "y"
        },
        {
         "hovertemplate": "variable=Pred_RIDE_DEMAND<br>x=%{x}<br>value=%{y}<extra></extra>",
         "legendgroup": "Pred_RIDE_DEMAND",
         "line": {
          "color": "#EF553B",
          "dash": "solid"
         },
         "marker": {
          "symbol": "circle"
         },
         "mode": "lines",
         "name": "Pred_RIDE_DEMAND",
         "orientation": "v",
         "showlegend": true,
         "type": "scatter",
         "x": [
          5,
          6,
          7,
          8,
          9,
          10,
          11,
          12,
          13,
          14,
          15,
          16,
          17,
          18,
          19,
          20,
          21,
          22,
          23,
          0,
          1
         ],
         "xaxis": "x",
         "y": [
          20.700827351001294,
          77.22125546856569,
          172.49534272824818,
          187.37330118717784,
          121.89429742671912,
          105.58791330834379,
          99.38653916615232,
          108.68672595892944,
          101.37783843274492,
          93.62081575075553,
          108.27370384702938,
          133.5053945246645,
          141.9224342202043,
          135.44330357760032,
          73.62982003803941,
          64.0759236689604,
          61.08556015904979,
          52.875031294885495,
          1.3641332361806064,
          -0.7596360780647871,
          -0.7596360780647871
         ],
         "yaxis": "y"
        }
       ],
       "layout": {
        "legend": {
         "title": {
          "text": "variable"
         },
         "tracegroupgap": 0
        },
        "margin": {
         "b": 0,
         "l": 0,
         "pad": 10,
         "r": 0,
         "t": 60
        },
        "template": {
         "data": {
          "bar": [
           {
            "error_x": {
             "color": "#f2f5fa"
            },
            "error_y": {
             "color": "#f2f5fa"
            },
            "marker": {
             "line": {
              "color": "rgb(17,17,17)",
              "width": 0.5
             },
             "pattern": {
              "fillmode": "overlay",
              "size": 10,
              "solidity": 0.2
             }
            },
            "type": "bar"
           }
          ],
          "barpolar": [
           {
            "marker": {
             "line": {
              "color": "rgb(17,17,17)",
              "width": 0.5
             },
             "pattern": {
              "fillmode": "overlay",
              "size": 10,
              "solidity": 0.2
             }
            },
            "type": "barpolar"
           }
          ],
          "carpet": [
           {
            "aaxis": {
             "endlinecolor": "#A2B1C6",
             "gridcolor": "#506784",
             "linecolor": "#506784",
             "minorgridcolor": "#506784",
             "startlinecolor": "#A2B1C6"
            },
            "baxis": {
             "endlinecolor": "#A2B1C6",
             "gridcolor": "#506784",
             "linecolor": "#506784",
             "minorgridcolor": "#506784",
             "startlinecolor": "#A2B1C6"
            },
            "type": "carpet"
           }
          ],
          "choropleth": [
           {
            "colorbar": {
             "outlinewidth": 0,
             "ticks": ""
            },
            "type": "choropleth"
           }
          ],
          "contour": [
           {
            "colorbar": {
             "outlinewidth": 0,
             "ticks": ""
            },
            "colorscale": [
             [
              0,
              "#0d0887"
             ],
             [
              0.1111111111111111,
              "#46039f"
             ],
             [
              0.2222222222222222,
              "#7201a8"
             ],
             [
              0.3333333333333333,
              "#9c179e"
             ],
             [
              0.4444444444444444,
              "#bd3786"
             ],
             [
              0.5555555555555556,
              "#d8576b"
             ],
             [
              0.6666666666666666,
              "#ed7953"
             ],
             [
              0.7777777777777778,
              "#fb9f3a"
             ],
             [
              0.8888888888888888,
              "#fdca26"
             ],
             [
              1,
              "#f0f921"
             ]
            ],
            "type": "contour"
           }
          ],
          "contourcarpet": [
           {
            "colorbar": {
             "outlinewidth": 0,
             "ticks": ""
            },
            "type": "contourcarpet"
           }
          ],
          "heatmap": [
           {
            "colorbar": {
             "outlinewidth": 0,
             "ticks": ""
            },
            "colorscale": [
             [
              0,
              "#0d0887"
             ],
             [
              0.1111111111111111,
              "#46039f"
             ],
             [
              0.2222222222222222,
              "#7201a8"
             ],
             [
              0.3333333333333333,
              "#9c179e"
             ],
             [
              0.4444444444444444,
              "#bd3786"
             ],
             [
              0.5555555555555556,
              "#d8576b"
             ],
             [
              0.6666666666666666,
              "#ed7953"
             ],
             [
              0.7777777777777778,
              "#fb9f3a"
             ],
             [
              0.8888888888888888,
              "#fdca26"
             ],
             [
              1,
              "#f0f921"
             ]
            ],
            "type": "heatmap"
           }
          ],
          "heatmapgl": [
           {
            "colorbar": {
             "outlinewidth": 0,
             "ticks": ""
            },
            "colorscale": [
             [
              0,
              "#0d0887"
             ],
             [
              0.1111111111111111,
              "#46039f"
             ],
             [
              0.2222222222222222,
              "#7201a8"
             ],
             [
              0.3333333333333333,
              "#9c179e"
             ],
             [
              0.4444444444444444,
              "#bd3786"
             ],
             [
              0.5555555555555556,
              "#d8576b"
             ],
             [
              0.6666666666666666,
              "#ed7953"
             ],
             [
              0.7777777777777778,
              "#fb9f3a"
             ],
             [
              0.8888888888888888,
              "#fdca26"
             ],
             [
              1,
              "#f0f921"
             ]
            ],
            "type": "heatmapgl"
           }
          ],
          "histogram": [
           {
            "marker": {
             "pattern": {
              "fillmode": "overlay",
              "size": 10,
              "solidity": 0.2
             }
            },
            "type": "histogram"
           }
          ],
          "histogram2d": [
           {
            "colorbar": {
             "outlinewidth": 0,
             "ticks": ""
            },
            "colorscale": [
             [
              0,
              "#0d0887"
             ],
             [
              0.1111111111111111,
              "#46039f"
             ],
             [
              0.2222222222222222,
              "#7201a8"
             ],
             [
              0.3333333333333333,
              "#9c179e"
             ],
             [
              0.4444444444444444,
              "#bd3786"
             ],
             [
              0.5555555555555556,
              "#d8576b"
             ],
             [
              0.6666666666666666,
              "#ed7953"
             ],
             [
              0.7777777777777778,
              "#fb9f3a"
             ],
             [
              0.8888888888888888,
              "#fdca26"
             ],
             [
              1,
              "#f0f921"
             ]
            ],
            "type": "histogram2d"
           }
          ],
          "histogram2dcontour": [
           {
            "colorbar": {
             "outlinewidth": 0,
             "ticks": ""
            },
            "colorscale": [
             [
              0,
              "#0d0887"
             ],
             [
              0.1111111111111111,
              "#46039f"
             ],
             [
              0.2222222222222222,
              "#7201a8"
             ],
             [
              0.3333333333333333,
              "#9c179e"
             ],
             [
              0.4444444444444444,
              "#bd3786"
             ],
             [
              0.5555555555555556,
              "#d8576b"
             ],
             [
              0.6666666666666666,
              "#ed7953"
             ],
             [
              0.7777777777777778,
              "#fb9f3a"
             ],
             [
              0.8888888888888888,
              "#fdca26"
             ],
             [
              1,
              "#f0f921"
             ]
            ],
            "type": "histogram2dcontour"
           }
          ],
          "mesh3d": [
           {
            "colorbar": {
             "outlinewidth": 0,
             "ticks": ""
            },
            "type": "mesh3d"
           }
          ],
          "parcoords": [
           {
            "line": {
             "colorbar": {
              "outlinewidth": 0,
              "ticks": ""
             }
            },
            "type": "parcoords"
           }
          ],
          "pie": [
           {
            "automargin": true,
            "type": "pie"
           }
          ],
          "scatter": [
           {
            "marker": {
             "line": {
              "color": "#283442"
             }
            },
            "type": "scatter"
           }
          ],
          "scatter3d": [
           {
            "line": {
             "colorbar": {
              "outlinewidth": 0,
              "ticks": ""
             }
            },
            "marker": {
             "colorbar": {
              "outlinewidth": 0,
              "ticks": ""
             }
            },
            "type": "scatter3d"
           }
          ],
          "scattercarpet": [
           {
            "marker": {
             "colorbar": {
              "outlinewidth": 0,
              "ticks": ""
             }
            },
            "type": "scattercarpet"
           }
          ],
          "scattergeo": [
           {
            "marker": {
             "colorbar": {
              "outlinewidth": 0,
              "ticks": ""
             }
            },
            "type": "scattergeo"
           }
          ],
          "scattergl": [
           {
            "marker": {
             "line": {
              "color": "#283442"
             }
            },
            "type": "scattergl"
           }
          ],
          "scattermapbox": [
           {
            "marker": {
             "colorbar": {
              "outlinewidth": 0,
              "ticks": ""
             }
            },
            "type": "scattermapbox"
           }
          ],
          "scatterpolar": [
           {
            "marker": {
             "colorbar": {
              "outlinewidth": 0,
              "ticks": ""
             }
            },
            "type": "scatterpolar"
           }
          ],
          "scatterpolargl": [
           {
            "marker": {
             "colorbar": {
              "outlinewidth": 0,
              "ticks": ""
             }
            },
            "type": "scatterpolargl"
           }
          ],
          "scatterternary": [
           {
            "marker": {
             "colorbar": {
              "outlinewidth": 0,
              "ticks": ""
             }
            },
            "type": "scatterternary"
           }
          ],
          "surface": [
           {
            "colorbar": {
             "outlinewidth": 0,
             "ticks": ""
            },
            "colorscale": [
             [
              0,
              "#0d0887"
             ],
             [
              0.1111111111111111,
              "#46039f"
             ],
             [
              0.2222222222222222,
              "#7201a8"
             ],
             [
              0.3333333333333333,
              "#9c179e"
             ],
             [
              0.4444444444444444,
              "#bd3786"
             ],
             [
              0.5555555555555556,
              "#d8576b"
             ],
             [
              0.6666666666666666,
              "#ed7953"
             ],
             [
              0.7777777777777778,
              "#fb9f3a"
             ],
             [
              0.8888888888888888,
              "#fdca26"
             ],
             [
              1,
              "#f0f921"
             ]
            ],
            "type": "surface"
           }
          ],
          "table": [
           {
            "cells": {
             "fill": {
              "color": "#506784"
             },
             "line": {
              "color": "rgb(17,17,17)"
             }
            },
            "header": {
             "fill": {
              "color": "#2a3f5f"
             },
             "line": {
              "color": "rgb(17,17,17)"
             }
            },
            "type": "table"
           }
          ]
         },
         "layout": {
          "annotationdefaults": {
           "arrowcolor": "#f2f5fa",
           "arrowhead": 0,
           "arrowwidth": 1
          },
          "autotypenumbers": "strict",
          "coloraxis": {
           "colorbar": {
            "outlinewidth": 0,
            "ticks": ""
           }
          },
          "colorscale": {
           "diverging": [
            [
             0,
             "#8e0152"
            ],
            [
             0.1,
             "#c51b7d"
            ],
            [
             0.2,
             "#de77ae"
            ],
            [
             0.3,
             "#f1b6da"
            ],
            [
             0.4,
             "#fde0ef"
            ],
            [
             0.5,
             "#f7f7f7"
            ],
            [
             0.6,
             "#e6f5d0"
            ],
            [
             0.7,
             "#b8e186"
            ],
            [
             0.8,
             "#7fbc41"
            ],
            [
             0.9,
             "#4d9221"
            ],
            [
             1,
             "#276419"
            ]
           ],
           "sequential": [
            [
             0,
             "#0d0887"
            ],
            [
             0.1111111111111111,
             "#46039f"
            ],
            [
             0.2222222222222222,
             "#7201a8"
            ],
            [
             0.3333333333333333,
             "#9c179e"
            ],
            [
             0.4444444444444444,
             "#bd3786"
            ],
            [
             0.5555555555555556,
             "#d8576b"
            ],
            [
             0.6666666666666666,
             "#ed7953"
            ],
            [
             0.7777777777777778,
             "#fb9f3a"
            ],
            [
             0.8888888888888888,
             "#fdca26"
            ],
            [
             1,
             "#f0f921"
            ]
           ],
           "sequentialminus": [
            [
             0,
             "#0d0887"
            ],
            [
             0.1111111111111111,
             "#46039f"
            ],
            [
             0.2222222222222222,
             "#7201a8"
            ],
            [
             0.3333333333333333,
             "#9c179e"
            ],
            [
             0.4444444444444444,
             "#bd3786"
            ],
            [
             0.5555555555555556,
             "#d8576b"
            ],
            [
             0.6666666666666666,
             "#ed7953"
            ],
            [
             0.7777777777777778,
             "#fb9f3a"
            ],
            [
             0.8888888888888888,
             "#fdca26"
            ],
            [
             1,
             "#f0f921"
            ]
           ]
          },
          "colorway": [
           "#636efa",
           "#EF553B",
           "#00cc96",
           "#ab63fa",
           "#FFA15A",
           "#19d3f3",
           "#FF6692",
           "#B6E880",
           "#FF97FF",
           "#FECB52"
          ],
          "font": {
           "color": "#f2f5fa"
          },
          "geo": {
           "bgcolor": "rgb(17,17,17)",
           "lakecolor": "rgb(17,17,17)",
           "landcolor": "rgb(17,17,17)",
           "showlakes": true,
           "showland": true,
           "subunitcolor": "#506784"
          },
          "hoverlabel": {
           "align": "left"
          },
          "hovermode": "closest",
          "mapbox": {
           "style": "dark"
          },
          "paper_bgcolor": "rgb(17,17,17)",
          "plot_bgcolor": "rgb(17,17,17)",
          "polar": {
           "angularaxis": {
            "gridcolor": "#506784",
            "linecolor": "#506784",
            "ticks": ""
           },
           "bgcolor": "rgb(17,17,17)",
           "radialaxis": {
            "gridcolor": "#506784",
            "linecolor": "#506784",
            "ticks": ""
           }
          },
          "scene": {
           "xaxis": {
            "backgroundcolor": "rgb(17,17,17)",
            "gridcolor": "#506784",
            "gridwidth": 2,
            "linecolor": "#506784",
            "showbackground": true,
            "ticks": "",
            "zerolinecolor": "#C8D4E3"
           },
           "yaxis": {
            "backgroundcolor": "rgb(17,17,17)",
            "gridcolor": "#506784",
            "gridwidth": 2,
            "linecolor": "#506784",
            "showbackground": true,
            "ticks": "",
            "zerolinecolor": "#C8D4E3"
           },
           "zaxis": {
            "backgroundcolor": "rgb(17,17,17)",
            "gridcolor": "#506784",
            "gridwidth": 2,
            "linecolor": "#506784",
            "showbackground": true,
            "ticks": "",
            "zerolinecolor": "#C8D4E3"
           }
          },
          "shapedefaults": {
           "line": {
            "color": "#f2f5fa"
           }
          },
          "sliderdefaults": {
           "bgcolor": "#C8D4E3",
           "bordercolor": "rgb(17,17,17)",
           "borderwidth": 1,
           "tickwidth": 0
          },
          "ternary": {
           "aaxis": {
            "gridcolor": "#506784",
            "linecolor": "#506784",
            "ticks": ""
           },
           "baxis": {
            "gridcolor": "#506784",
            "linecolor": "#506784",
            "ticks": ""
           },
           "bgcolor": "rgb(17,17,17)",
           "caxis": {
            "gridcolor": "#506784",
            "linecolor": "#506784",
            "ticks": ""
           }
          },
          "title": {
           "x": 0.05
          },
          "updatemenudefaults": {
           "bgcolor": "#506784",
           "borderwidth": 0
          },
          "xaxis": {
           "automargin": true,
           "gridcolor": "#283442",
           "linecolor": "#506784",
           "ticks": "",
           "title": {
            "standoff": 15
           },
           "zerolinecolor": "#283442",
           "zerolinewidth": 2
          },
          "yaxis": {
           "automargin": true,
           "gridcolor": "#283442",
           "linecolor": "#506784",
           "ticks": "",
           "title": {
            "standoff": 15
           },
           "zerolinecolor": "#283442",
           "zerolinewidth": 2
          }
         }
        },
        "title": {
         "text": "7월 [다바8712] 지역 수요일 버스 승차인원"
        },
        "width": 800,
        "xaxis": {
         "anchor": "y",
         "domain": [
          0,
          1
         ],
         "showticklabels": false,
         "title": {
          "text": "x"
         },
         "visible": false
        },
        "yaxis": {
         "anchor": "x",
         "domain": [
          0,
          1
         ],
         "title": {
          "text": "RIDE_DEMAND"
         }
        }
       }
      },
      "text/html": [
       "<div>                            <div id=\"15d431be-4d19-49a5-9fdc-0a9e24a8d394\" class=\"plotly-graph-div\" style=\"height:525px; width:800px;\"></div>            <script type=\"text/javascript\">                require([\"plotly\"], function(Plotly) {                    window.PLOTLYENV=window.PLOTLYENV || {};                                    if (document.getElementById(\"15d431be-4d19-49a5-9fdc-0a9e24a8d394\")) {                    Plotly.newPlot(                        \"15d431be-4d19-49a5-9fdc-0a9e24a8d394\",                        [{\"hovertemplate\":\"variable=RIDE_DEMAND\\u003cbr\\u003ex=%{x}\\u003cbr\\u003evalue=%{y}\\u003cextra\\u003e\\u003c\\u002fextra\\u003e\",\"legendgroup\":\"RIDE_DEMAND\",\"line\":{\"color\":\"#636efa\",\"dash\":\"solid\"},\"marker\":{\"symbol\":\"circle\"},\"mode\":\"lines\",\"name\":\"RIDE_DEMAND\",\"orientation\":\"v\",\"showlegend\":true,\"x\":[5,6,7,8,9,10,11,12,13,14,15,16,17,18,19,20,21,22,23,0,1],\"xaxis\":\"x\",\"y\":[19.0,74.0,145.0,190.0,121.0,120.0,119.0,111.0,99.0,95.0,106.0,122.0,135.0,130.0,87.0,62.0,67.0,41.0,3.0,0.0,0.0],\"yaxis\":\"y\",\"type\":\"scatter\"},{\"hovertemplate\":\"variable=Pred_RIDE_DEMAND\\u003cbr\\u003ex=%{x}\\u003cbr\\u003evalue=%{y}\\u003cextra\\u003e\\u003c\\u002fextra\\u003e\",\"legendgroup\":\"Pred_RIDE_DEMAND\",\"line\":{\"color\":\"#EF553B\",\"dash\":\"solid\"},\"marker\":{\"symbol\":\"circle\"},\"mode\":\"lines\",\"name\":\"Pred_RIDE_DEMAND\",\"orientation\":\"v\",\"showlegend\":true,\"x\":[5,6,7,8,9,10,11,12,13,14,15,16,17,18,19,20,21,22,23,0,1],\"xaxis\":\"x\",\"y\":[20.700827351001294,77.22125546856569,172.49534272824818,187.37330118717784,121.89429742671912,105.58791330834379,99.38653916615232,108.68672595892944,101.37783843274492,93.62081575075553,108.27370384702938,133.5053945246645,141.9224342202043,135.44330357760032,73.62982003803941,64.0759236689604,61.08556015904979,52.875031294885495,1.3641332361806064,-0.7596360780647871,-0.7596360780647871],\"yaxis\":\"y\",\"type\":\"scatter\"}],                        {\"template\":{\"data\":{\"barpolar\":[{\"marker\":{\"line\":{\"color\":\"rgb(17,17,17)\",\"width\":0.5},\"pattern\":{\"fillmode\":\"overlay\",\"size\":10,\"solidity\":0.2}},\"type\":\"barpolar\"}],\"bar\":[{\"error_x\":{\"color\":\"#f2f5fa\"},\"error_y\":{\"color\":\"#f2f5fa\"},\"marker\":{\"line\":{\"color\":\"rgb(17,17,17)\",\"width\":0.5},\"pattern\":{\"fillmode\":\"overlay\",\"size\":10,\"solidity\":0.2}},\"type\":\"bar\"}],\"carpet\":[{\"aaxis\":{\"endlinecolor\":\"#A2B1C6\",\"gridcolor\":\"#506784\",\"linecolor\":\"#506784\",\"minorgridcolor\":\"#506784\",\"startlinecolor\":\"#A2B1C6\"},\"baxis\":{\"endlinecolor\":\"#A2B1C6\",\"gridcolor\":\"#506784\",\"linecolor\":\"#506784\",\"minorgridcolor\":\"#506784\",\"startlinecolor\":\"#A2B1C6\"},\"type\":\"carpet\"}],\"choropleth\":[{\"colorbar\":{\"outlinewidth\":0,\"ticks\":\"\"},\"type\":\"choropleth\"}],\"contourcarpet\":[{\"colorbar\":{\"outlinewidth\":0,\"ticks\":\"\"},\"type\":\"contourcarpet\"}],\"contour\":[{\"colorbar\":{\"outlinewidth\":0,\"ticks\":\"\"},\"colorscale\":[[0.0,\"#0d0887\"],[0.1111111111111111,\"#46039f\"],[0.2222222222222222,\"#7201a8\"],[0.3333333333333333,\"#9c179e\"],[0.4444444444444444,\"#bd3786\"],[0.5555555555555556,\"#d8576b\"],[0.6666666666666666,\"#ed7953\"],[0.7777777777777778,\"#fb9f3a\"],[0.8888888888888888,\"#fdca26\"],[1.0,\"#f0f921\"]],\"type\":\"contour\"}],\"heatmapgl\":[{\"colorbar\":{\"outlinewidth\":0,\"ticks\":\"\"},\"colorscale\":[[0.0,\"#0d0887\"],[0.1111111111111111,\"#46039f\"],[0.2222222222222222,\"#7201a8\"],[0.3333333333333333,\"#9c179e\"],[0.4444444444444444,\"#bd3786\"],[0.5555555555555556,\"#d8576b\"],[0.6666666666666666,\"#ed7953\"],[0.7777777777777778,\"#fb9f3a\"],[0.8888888888888888,\"#fdca26\"],[1.0,\"#f0f921\"]],\"type\":\"heatmapgl\"}],\"heatmap\":[{\"colorbar\":{\"outlinewidth\":0,\"ticks\":\"\"},\"colorscale\":[[0.0,\"#0d0887\"],[0.1111111111111111,\"#46039f\"],[0.2222222222222222,\"#7201a8\"],[0.3333333333333333,\"#9c179e\"],[0.4444444444444444,\"#bd3786\"],[0.5555555555555556,\"#d8576b\"],[0.6666666666666666,\"#ed7953\"],[0.7777777777777778,\"#fb9f3a\"],[0.8888888888888888,\"#fdca26\"],[1.0,\"#f0f921\"]],\"type\":\"heatmap\"}],\"histogram2dcontour\":[{\"colorbar\":{\"outlinewidth\":0,\"ticks\":\"\"},\"colorscale\":[[0.0,\"#0d0887\"],[0.1111111111111111,\"#46039f\"],[0.2222222222222222,\"#7201a8\"],[0.3333333333333333,\"#9c179e\"],[0.4444444444444444,\"#bd3786\"],[0.5555555555555556,\"#d8576b\"],[0.6666666666666666,\"#ed7953\"],[0.7777777777777778,\"#fb9f3a\"],[0.8888888888888888,\"#fdca26\"],[1.0,\"#f0f921\"]],\"type\":\"histogram2dcontour\"}],\"histogram2d\":[{\"colorbar\":{\"outlinewidth\":0,\"ticks\":\"\"},\"colorscale\":[[0.0,\"#0d0887\"],[0.1111111111111111,\"#46039f\"],[0.2222222222222222,\"#7201a8\"],[0.3333333333333333,\"#9c179e\"],[0.4444444444444444,\"#bd3786\"],[0.5555555555555556,\"#d8576b\"],[0.6666666666666666,\"#ed7953\"],[0.7777777777777778,\"#fb9f3a\"],[0.8888888888888888,\"#fdca26\"],[1.0,\"#f0f921\"]],\"type\":\"histogram2d\"}],\"histogram\":[{\"marker\":{\"pattern\":{\"fillmode\":\"overlay\",\"size\":10,\"solidity\":0.2}},\"type\":\"histogram\"}],\"mesh3d\":[{\"colorbar\":{\"outlinewidth\":0,\"ticks\":\"\"},\"type\":\"mesh3d\"}],\"parcoords\":[{\"line\":{\"colorbar\":{\"outlinewidth\":0,\"ticks\":\"\"}},\"type\":\"parcoords\"}],\"pie\":[{\"automargin\":true,\"type\":\"pie\"}],\"scatter3d\":[{\"line\":{\"colorbar\":{\"outlinewidth\":0,\"ticks\":\"\"}},\"marker\":{\"colorbar\":{\"outlinewidth\":0,\"ticks\":\"\"}},\"type\":\"scatter3d\"}],\"scattercarpet\":[{\"marker\":{\"colorbar\":{\"outlinewidth\":0,\"ticks\":\"\"}},\"type\":\"scattercarpet\"}],\"scattergeo\":[{\"marker\":{\"colorbar\":{\"outlinewidth\":0,\"ticks\":\"\"}},\"type\":\"scattergeo\"}],\"scattergl\":[{\"marker\":{\"line\":{\"color\":\"#283442\"}},\"type\":\"scattergl\"}],\"scattermapbox\":[{\"marker\":{\"colorbar\":{\"outlinewidth\":0,\"ticks\":\"\"}},\"type\":\"scattermapbox\"}],\"scatterpolargl\":[{\"marker\":{\"colorbar\":{\"outlinewidth\":0,\"ticks\":\"\"}},\"type\":\"scatterpolargl\"}],\"scatterpolar\":[{\"marker\":{\"colorbar\":{\"outlinewidth\":0,\"ticks\":\"\"}},\"type\":\"scatterpolar\"}],\"scatter\":[{\"marker\":{\"line\":{\"color\":\"#283442\"}},\"type\":\"scatter\"}],\"scatterternary\":[{\"marker\":{\"colorbar\":{\"outlinewidth\":0,\"ticks\":\"\"}},\"type\":\"scatterternary\"}],\"surface\":[{\"colorbar\":{\"outlinewidth\":0,\"ticks\":\"\"},\"colorscale\":[[0.0,\"#0d0887\"],[0.1111111111111111,\"#46039f\"],[0.2222222222222222,\"#7201a8\"],[0.3333333333333333,\"#9c179e\"],[0.4444444444444444,\"#bd3786\"],[0.5555555555555556,\"#d8576b\"],[0.6666666666666666,\"#ed7953\"],[0.7777777777777778,\"#fb9f3a\"],[0.8888888888888888,\"#fdca26\"],[1.0,\"#f0f921\"]],\"type\":\"surface\"}],\"table\":[{\"cells\":{\"fill\":{\"color\":\"#506784\"},\"line\":{\"color\":\"rgb(17,17,17)\"}},\"header\":{\"fill\":{\"color\":\"#2a3f5f\"},\"line\":{\"color\":\"rgb(17,17,17)\"}},\"type\":\"table\"}]},\"layout\":{\"annotationdefaults\":{\"arrowcolor\":\"#f2f5fa\",\"arrowhead\":0,\"arrowwidth\":1},\"autotypenumbers\":\"strict\",\"coloraxis\":{\"colorbar\":{\"outlinewidth\":0,\"ticks\":\"\"}},\"colorscale\":{\"diverging\":[[0,\"#8e0152\"],[0.1,\"#c51b7d\"],[0.2,\"#de77ae\"],[0.3,\"#f1b6da\"],[0.4,\"#fde0ef\"],[0.5,\"#f7f7f7\"],[0.6,\"#e6f5d0\"],[0.7,\"#b8e186\"],[0.8,\"#7fbc41\"],[0.9,\"#4d9221\"],[1,\"#276419\"]],\"sequential\":[[0.0,\"#0d0887\"],[0.1111111111111111,\"#46039f\"],[0.2222222222222222,\"#7201a8\"],[0.3333333333333333,\"#9c179e\"],[0.4444444444444444,\"#bd3786\"],[0.5555555555555556,\"#d8576b\"],[0.6666666666666666,\"#ed7953\"],[0.7777777777777778,\"#fb9f3a\"],[0.8888888888888888,\"#fdca26\"],[1.0,\"#f0f921\"]],\"sequentialminus\":[[0.0,\"#0d0887\"],[0.1111111111111111,\"#46039f\"],[0.2222222222222222,\"#7201a8\"],[0.3333333333333333,\"#9c179e\"],[0.4444444444444444,\"#bd3786\"],[0.5555555555555556,\"#d8576b\"],[0.6666666666666666,\"#ed7953\"],[0.7777777777777778,\"#fb9f3a\"],[0.8888888888888888,\"#fdca26\"],[1.0,\"#f0f921\"]]},\"colorway\":[\"#636efa\",\"#EF553B\",\"#00cc96\",\"#ab63fa\",\"#FFA15A\",\"#19d3f3\",\"#FF6692\",\"#B6E880\",\"#FF97FF\",\"#FECB52\"],\"font\":{\"color\":\"#f2f5fa\"},\"geo\":{\"bgcolor\":\"rgb(17,17,17)\",\"lakecolor\":\"rgb(17,17,17)\",\"landcolor\":\"rgb(17,17,17)\",\"showlakes\":true,\"showland\":true,\"subunitcolor\":\"#506784\"},\"hoverlabel\":{\"align\":\"left\"},\"hovermode\":\"closest\",\"mapbox\":{\"style\":\"dark\"},\"paper_bgcolor\":\"rgb(17,17,17)\",\"plot_bgcolor\":\"rgb(17,17,17)\",\"polar\":{\"angularaxis\":{\"gridcolor\":\"#506784\",\"linecolor\":\"#506784\",\"ticks\":\"\"},\"bgcolor\":\"rgb(17,17,17)\",\"radialaxis\":{\"gridcolor\":\"#506784\",\"linecolor\":\"#506784\",\"ticks\":\"\"}},\"scene\":{\"xaxis\":{\"backgroundcolor\":\"rgb(17,17,17)\",\"gridcolor\":\"#506784\",\"gridwidth\":2,\"linecolor\":\"#506784\",\"showbackground\":true,\"ticks\":\"\",\"zerolinecolor\":\"#C8D4E3\"},\"yaxis\":{\"backgroundcolor\":\"rgb(17,17,17)\",\"gridcolor\":\"#506784\",\"gridwidth\":2,\"linecolor\":\"#506784\",\"showbackground\":true,\"ticks\":\"\",\"zerolinecolor\":\"#C8D4E3\"},\"zaxis\":{\"backgroundcolor\":\"rgb(17,17,17)\",\"gridcolor\":\"#506784\",\"gridwidth\":2,\"linecolor\":\"#506784\",\"showbackground\":true,\"ticks\":\"\",\"zerolinecolor\":\"#C8D4E3\"}},\"shapedefaults\":{\"line\":{\"color\":\"#f2f5fa\"}},\"sliderdefaults\":{\"bgcolor\":\"#C8D4E3\",\"bordercolor\":\"rgb(17,17,17)\",\"borderwidth\":1,\"tickwidth\":0},\"ternary\":{\"aaxis\":{\"gridcolor\":\"#506784\",\"linecolor\":\"#506784\",\"ticks\":\"\"},\"baxis\":{\"gridcolor\":\"#506784\",\"linecolor\":\"#506784\",\"ticks\":\"\"},\"bgcolor\":\"rgb(17,17,17)\",\"caxis\":{\"gridcolor\":\"#506784\",\"linecolor\":\"#506784\",\"ticks\":\"\"}},\"title\":{\"x\":0.05},\"updatemenudefaults\":{\"bgcolor\":\"#506784\",\"borderwidth\":0},\"xaxis\":{\"automargin\":true,\"gridcolor\":\"#283442\",\"linecolor\":\"#506784\",\"ticks\":\"\",\"title\":{\"standoff\":15},\"zerolinecolor\":\"#283442\",\"zerolinewidth\":2},\"yaxis\":{\"automargin\":true,\"gridcolor\":\"#283442\",\"linecolor\":\"#506784\",\"ticks\":\"\",\"title\":{\"standoff\":15},\"zerolinecolor\":\"#283442\",\"zerolinewidth\":2}}},\"xaxis\":{\"anchor\":\"y\",\"domain\":[0.0,1.0],\"title\":{\"text\":\"x\"},\"showticklabels\":false,\"visible\":false},\"yaxis\":{\"anchor\":\"x\",\"domain\":[0.0,1.0],\"title\":{\"text\":\"RIDE_DEMAND\"}},\"legend\":{\"title\":{\"text\":\"variable\"},\"tracegroupgap\":0},\"margin\":{\"t\":60,\"l\":0,\"r\":0,\"b\":0,\"pad\":10},\"title\":{\"text\":\"7\\uc6d4 [\\ub2e4\\ubc148712] \\uc9c0\\uc5ed \\uc218\\uc694\\uc77c \\ubc84\\uc2a4 \\uc2b9\\ucc28\\uc778\\uc6d0\"},\"width\":800},                        {\"responsive\": true}                    ).then(function(){\n",
       "                            \n",
       "var gd = document.getElementById('15d431be-4d19-49a5-9fdc-0a9e24a8d394');\n",
       "var x = new MutationObserver(function (mutations, observer) {{\n",
       "        var display = window.getComputedStyle(gd).display;\n",
       "        if (!display || display === 'none') {{\n",
       "            console.log([gd, 'removed!']);\n",
       "            Plotly.purge(gd);\n",
       "            observer.disconnect();\n",
       "        }}\n",
       "}});\n",
       "\n",
       "// Listen for the removal of the full notebook cells\n",
       "var notebookContainer = gd.closest('#notebook-container');\n",
       "if (notebookContainer) {{\n",
       "    x.observe(notebookContainer, {childList: true});\n",
       "}}\n",
       "\n",
       "// Listen for the clearing of the current output cell\n",
       "var outputEl = gd.closest('.output');\n",
       "if (outputEl) {{\n",
       "    x.observe(outputEl, {childList: true});\n",
       "}}\n",
       "\n",
       "                        })                };                });            </script>        </div>"
      ]
     },
     "metadata": {},
     "output_type": "display_data"
    }
   ],
   "source": [
    "gid = text=x_valid_we7['gid'].unique()[120]\n",
    "text='7월 ['+gid+ '] 지역 수요일 버스 승차인원'\n",
    "\n",
    "result_fig = px.line(x_valid_we7[x_valid['gid']==gid], x=x_valid_we7[x_valid['gid']==x_valid_we7['gid'].unique()[0]]['TIME'], y=[\"RIDE_DEMAND\", \"Pred_RIDE_DEMAND\"])\n",
    "result_fig.update_layout(\n",
    "    title = text,\n",
    "    margin={\"l\":0,\"r\":0,\"b\":0,\"pad\":10},\n",
    "    template=\"plotly_dark\",\n",
    "    width= 800\n",
    ")\n",
    "result_fig.update_xaxes(\n",
    "    matches=None, showticklabels=False, visible=False\n",
    ")\n",
    "\n",
    "\n",
    "result_fig.update_yaxes(\n",
    "    title = 'RIDE_DEMAND'\n",
    ")"
   ]
  },
  {
   "cell_type": "code",
   "execution_count": 328,
   "id": "5442e1ad",
   "metadata": {
    "scrolled": false
   },
   "outputs": [
    {
     "data": {
      "application/vnd.plotly.v1+json": {
       "config": {
        "plotlyServerURL": "https://plot.ly"
       },
       "data": [
        {
         "hovertemplate": "variable=RIDE_DEMAND<br>x=%{x}<br>value=%{y}<extra></extra>",
         "legendgroup": "RIDE_DEMAND",
         "line": {
          "color": "#636efa",
          "dash": "solid"
         },
         "marker": {
          "symbol": "circle"
         },
         "mode": "lines",
         "name": "RIDE_DEMAND",
         "orientation": "v",
         "showlegend": true,
         "type": "scatter",
         "x": [
          5,
          6,
          7,
          8,
          9,
          10,
          11,
          12,
          13,
          14,
          15,
          16,
          17,
          18,
          19,
          20,
          21,
          22,
          23,
          0,
          1
         ],
         "xaxis": "x",
         "y": [
          12,
          41,
          43,
          60,
          71,
          74,
          61,
          66,
          84,
          62,
          79,
          82,
          63,
          54,
          45,
          42,
          38,
          23,
          5,
          0,
          0
         ],
         "yaxis": "y"
        },
        {
         "hovertemplate": "variable=Pred_RIDE_DEMAND<br>x=%{x}<br>value=%{y}<extra></extra>",
         "legendgroup": "Pred_RIDE_DEMAND",
         "line": {
          "color": "#EF553B",
          "dash": "solid"
         },
         "marker": {
          "symbol": "circle"
         },
         "mode": "lines",
         "name": "Pred_RIDE_DEMAND",
         "orientation": "v",
         "showlegend": true,
         "type": "scatter",
         "x": [
          5,
          6,
          7,
          8,
          9,
          10,
          11,
          12,
          13,
          14,
          15,
          16,
          17,
          18,
          19,
          20,
          21,
          22,
          23,
          0,
          1
         ],
         "xaxis": "x",
         "y": [
          7.52984890896462,
          32.570003478645916,
          38.08843451053781,
          61.558999381964554,
          66.34298110132089,
          65.47863457756459,
          69.40685236155417,
          66.87792332329947,
          76.42206294006849,
          67.0297366350311,
          77.07455895272227,
          70.05612714744113,
          68.88066611032488,
          61.29087226428911,
          48.14411665949163,
          65.71790475274274,
          49.747384579454625,
          43.0380055042627,
          -0.34652740831739237,
          -1.2365302267325333,
          -1.2365302267325333
         ],
         "yaxis": "y"
        }
       ],
       "layout": {
        "legend": {
         "title": {
          "text": "variable"
         },
         "tracegroupgap": 0
        },
        "margin": {
         "b": 0,
         "l": 0,
         "pad": 10,
         "r": 0,
         "t": 60
        },
        "template": {
         "data": {
          "bar": [
           {
            "error_x": {
             "color": "#f2f5fa"
            },
            "error_y": {
             "color": "#f2f5fa"
            },
            "marker": {
             "line": {
              "color": "rgb(17,17,17)",
              "width": 0.5
             },
             "pattern": {
              "fillmode": "overlay",
              "size": 10,
              "solidity": 0.2
             }
            },
            "type": "bar"
           }
          ],
          "barpolar": [
           {
            "marker": {
             "line": {
              "color": "rgb(17,17,17)",
              "width": 0.5
             },
             "pattern": {
              "fillmode": "overlay",
              "size": 10,
              "solidity": 0.2
             }
            },
            "type": "barpolar"
           }
          ],
          "carpet": [
           {
            "aaxis": {
             "endlinecolor": "#A2B1C6",
             "gridcolor": "#506784",
             "linecolor": "#506784",
             "minorgridcolor": "#506784",
             "startlinecolor": "#A2B1C6"
            },
            "baxis": {
             "endlinecolor": "#A2B1C6",
             "gridcolor": "#506784",
             "linecolor": "#506784",
             "minorgridcolor": "#506784",
             "startlinecolor": "#A2B1C6"
            },
            "type": "carpet"
           }
          ],
          "choropleth": [
           {
            "colorbar": {
             "outlinewidth": 0,
             "ticks": ""
            },
            "type": "choropleth"
           }
          ],
          "contour": [
           {
            "colorbar": {
             "outlinewidth": 0,
             "ticks": ""
            },
            "colorscale": [
             [
              0,
              "#0d0887"
             ],
             [
              0.1111111111111111,
              "#46039f"
             ],
             [
              0.2222222222222222,
              "#7201a8"
             ],
             [
              0.3333333333333333,
              "#9c179e"
             ],
             [
              0.4444444444444444,
              "#bd3786"
             ],
             [
              0.5555555555555556,
              "#d8576b"
             ],
             [
              0.6666666666666666,
              "#ed7953"
             ],
             [
              0.7777777777777778,
              "#fb9f3a"
             ],
             [
              0.8888888888888888,
              "#fdca26"
             ],
             [
              1,
              "#f0f921"
             ]
            ],
            "type": "contour"
           }
          ],
          "contourcarpet": [
           {
            "colorbar": {
             "outlinewidth": 0,
             "ticks": ""
            },
            "type": "contourcarpet"
           }
          ],
          "heatmap": [
           {
            "colorbar": {
             "outlinewidth": 0,
             "ticks": ""
            },
            "colorscale": [
             [
              0,
              "#0d0887"
             ],
             [
              0.1111111111111111,
              "#46039f"
             ],
             [
              0.2222222222222222,
              "#7201a8"
             ],
             [
              0.3333333333333333,
              "#9c179e"
             ],
             [
              0.4444444444444444,
              "#bd3786"
             ],
             [
              0.5555555555555556,
              "#d8576b"
             ],
             [
              0.6666666666666666,
              "#ed7953"
             ],
             [
              0.7777777777777778,
              "#fb9f3a"
             ],
             [
              0.8888888888888888,
              "#fdca26"
             ],
             [
              1,
              "#f0f921"
             ]
            ],
            "type": "heatmap"
           }
          ],
          "heatmapgl": [
           {
            "colorbar": {
             "outlinewidth": 0,
             "ticks": ""
            },
            "colorscale": [
             [
              0,
              "#0d0887"
             ],
             [
              0.1111111111111111,
              "#46039f"
             ],
             [
              0.2222222222222222,
              "#7201a8"
             ],
             [
              0.3333333333333333,
              "#9c179e"
             ],
             [
              0.4444444444444444,
              "#bd3786"
             ],
             [
              0.5555555555555556,
              "#d8576b"
             ],
             [
              0.6666666666666666,
              "#ed7953"
             ],
             [
              0.7777777777777778,
              "#fb9f3a"
             ],
             [
              0.8888888888888888,
              "#fdca26"
             ],
             [
              1,
              "#f0f921"
             ]
            ],
            "type": "heatmapgl"
           }
          ],
          "histogram": [
           {
            "marker": {
             "pattern": {
              "fillmode": "overlay",
              "size": 10,
              "solidity": 0.2
             }
            },
            "type": "histogram"
           }
          ],
          "histogram2d": [
           {
            "colorbar": {
             "outlinewidth": 0,
             "ticks": ""
            },
            "colorscale": [
             [
              0,
              "#0d0887"
             ],
             [
              0.1111111111111111,
              "#46039f"
             ],
             [
              0.2222222222222222,
              "#7201a8"
             ],
             [
              0.3333333333333333,
              "#9c179e"
             ],
             [
              0.4444444444444444,
              "#bd3786"
             ],
             [
              0.5555555555555556,
              "#d8576b"
             ],
             [
              0.6666666666666666,
              "#ed7953"
             ],
             [
              0.7777777777777778,
              "#fb9f3a"
             ],
             [
              0.8888888888888888,
              "#fdca26"
             ],
             [
              1,
              "#f0f921"
             ]
            ],
            "type": "histogram2d"
           }
          ],
          "histogram2dcontour": [
           {
            "colorbar": {
             "outlinewidth": 0,
             "ticks": ""
            },
            "colorscale": [
             [
              0,
              "#0d0887"
             ],
             [
              0.1111111111111111,
              "#46039f"
             ],
             [
              0.2222222222222222,
              "#7201a8"
             ],
             [
              0.3333333333333333,
              "#9c179e"
             ],
             [
              0.4444444444444444,
              "#bd3786"
             ],
             [
              0.5555555555555556,
              "#d8576b"
             ],
             [
              0.6666666666666666,
              "#ed7953"
             ],
             [
              0.7777777777777778,
              "#fb9f3a"
             ],
             [
              0.8888888888888888,
              "#fdca26"
             ],
             [
              1,
              "#f0f921"
             ]
            ],
            "type": "histogram2dcontour"
           }
          ],
          "mesh3d": [
           {
            "colorbar": {
             "outlinewidth": 0,
             "ticks": ""
            },
            "type": "mesh3d"
           }
          ],
          "parcoords": [
           {
            "line": {
             "colorbar": {
              "outlinewidth": 0,
              "ticks": ""
             }
            },
            "type": "parcoords"
           }
          ],
          "pie": [
           {
            "automargin": true,
            "type": "pie"
           }
          ],
          "scatter": [
           {
            "marker": {
             "line": {
              "color": "#283442"
             }
            },
            "type": "scatter"
           }
          ],
          "scatter3d": [
           {
            "line": {
             "colorbar": {
              "outlinewidth": 0,
              "ticks": ""
             }
            },
            "marker": {
             "colorbar": {
              "outlinewidth": 0,
              "ticks": ""
             }
            },
            "type": "scatter3d"
           }
          ],
          "scattercarpet": [
           {
            "marker": {
             "colorbar": {
              "outlinewidth": 0,
              "ticks": ""
             }
            },
            "type": "scattercarpet"
           }
          ],
          "scattergeo": [
           {
            "marker": {
             "colorbar": {
              "outlinewidth": 0,
              "ticks": ""
             }
            },
            "type": "scattergeo"
           }
          ],
          "scattergl": [
           {
            "marker": {
             "line": {
              "color": "#283442"
             }
            },
            "type": "scattergl"
           }
          ],
          "scattermapbox": [
           {
            "marker": {
             "colorbar": {
              "outlinewidth": 0,
              "ticks": ""
             }
            },
            "type": "scattermapbox"
           }
          ],
          "scatterpolar": [
           {
            "marker": {
             "colorbar": {
              "outlinewidth": 0,
              "ticks": ""
             }
            },
            "type": "scatterpolar"
           }
          ],
          "scatterpolargl": [
           {
            "marker": {
             "colorbar": {
              "outlinewidth": 0,
              "ticks": ""
             }
            },
            "type": "scatterpolargl"
           }
          ],
          "scatterternary": [
           {
            "marker": {
             "colorbar": {
              "outlinewidth": 0,
              "ticks": ""
             }
            },
            "type": "scatterternary"
           }
          ],
          "surface": [
           {
            "colorbar": {
             "outlinewidth": 0,
             "ticks": ""
            },
            "colorscale": [
             [
              0,
              "#0d0887"
             ],
             [
              0.1111111111111111,
              "#46039f"
             ],
             [
              0.2222222222222222,
              "#7201a8"
             ],
             [
              0.3333333333333333,
              "#9c179e"
             ],
             [
              0.4444444444444444,
              "#bd3786"
             ],
             [
              0.5555555555555556,
              "#d8576b"
             ],
             [
              0.6666666666666666,
              "#ed7953"
             ],
             [
              0.7777777777777778,
              "#fb9f3a"
             ],
             [
              0.8888888888888888,
              "#fdca26"
             ],
             [
              1,
              "#f0f921"
             ]
            ],
            "type": "surface"
           }
          ],
          "table": [
           {
            "cells": {
             "fill": {
              "color": "#506784"
             },
             "line": {
              "color": "rgb(17,17,17)"
             }
            },
            "header": {
             "fill": {
              "color": "#2a3f5f"
             },
             "line": {
              "color": "rgb(17,17,17)"
             }
            },
            "type": "table"
           }
          ]
         },
         "layout": {
          "annotationdefaults": {
           "arrowcolor": "#f2f5fa",
           "arrowhead": 0,
           "arrowwidth": 1
          },
          "autotypenumbers": "strict",
          "coloraxis": {
           "colorbar": {
            "outlinewidth": 0,
            "ticks": ""
           }
          },
          "colorscale": {
           "diverging": [
            [
             0,
             "#8e0152"
            ],
            [
             0.1,
             "#c51b7d"
            ],
            [
             0.2,
             "#de77ae"
            ],
            [
             0.3,
             "#f1b6da"
            ],
            [
             0.4,
             "#fde0ef"
            ],
            [
             0.5,
             "#f7f7f7"
            ],
            [
             0.6,
             "#e6f5d0"
            ],
            [
             0.7,
             "#b8e186"
            ],
            [
             0.8,
             "#7fbc41"
            ],
            [
             0.9,
             "#4d9221"
            ],
            [
             1,
             "#276419"
            ]
           ],
           "sequential": [
            [
             0,
             "#0d0887"
            ],
            [
             0.1111111111111111,
             "#46039f"
            ],
            [
             0.2222222222222222,
             "#7201a8"
            ],
            [
             0.3333333333333333,
             "#9c179e"
            ],
            [
             0.4444444444444444,
             "#bd3786"
            ],
            [
             0.5555555555555556,
             "#d8576b"
            ],
            [
             0.6666666666666666,
             "#ed7953"
            ],
            [
             0.7777777777777778,
             "#fb9f3a"
            ],
            [
             0.8888888888888888,
             "#fdca26"
            ],
            [
             1,
             "#f0f921"
            ]
           ],
           "sequentialminus": [
            [
             0,
             "#0d0887"
            ],
            [
             0.1111111111111111,
             "#46039f"
            ],
            [
             0.2222222222222222,
             "#7201a8"
            ],
            [
             0.3333333333333333,
             "#9c179e"
            ],
            [
             0.4444444444444444,
             "#bd3786"
            ],
            [
             0.5555555555555556,
             "#d8576b"
            ],
            [
             0.6666666666666666,
             "#ed7953"
            ],
            [
             0.7777777777777778,
             "#fb9f3a"
            ],
            [
             0.8888888888888888,
             "#fdca26"
            ],
            [
             1,
             "#f0f921"
            ]
           ]
          },
          "colorway": [
           "#636efa",
           "#EF553B",
           "#00cc96",
           "#ab63fa",
           "#FFA15A",
           "#19d3f3",
           "#FF6692",
           "#B6E880",
           "#FF97FF",
           "#FECB52"
          ],
          "font": {
           "color": "#f2f5fa"
          },
          "geo": {
           "bgcolor": "rgb(17,17,17)",
           "lakecolor": "rgb(17,17,17)",
           "landcolor": "rgb(17,17,17)",
           "showlakes": true,
           "showland": true,
           "subunitcolor": "#506784"
          },
          "hoverlabel": {
           "align": "left"
          },
          "hovermode": "closest",
          "mapbox": {
           "style": "dark"
          },
          "paper_bgcolor": "rgb(17,17,17)",
          "plot_bgcolor": "rgb(17,17,17)",
          "polar": {
           "angularaxis": {
            "gridcolor": "#506784",
            "linecolor": "#506784",
            "ticks": ""
           },
           "bgcolor": "rgb(17,17,17)",
           "radialaxis": {
            "gridcolor": "#506784",
            "linecolor": "#506784",
            "ticks": ""
           }
          },
          "scene": {
           "xaxis": {
            "backgroundcolor": "rgb(17,17,17)",
            "gridcolor": "#506784",
            "gridwidth": 2,
            "linecolor": "#506784",
            "showbackground": true,
            "ticks": "",
            "zerolinecolor": "#C8D4E3"
           },
           "yaxis": {
            "backgroundcolor": "rgb(17,17,17)",
            "gridcolor": "#506784",
            "gridwidth": 2,
            "linecolor": "#506784",
            "showbackground": true,
            "ticks": "",
            "zerolinecolor": "#C8D4E3"
           },
           "zaxis": {
            "backgroundcolor": "rgb(17,17,17)",
            "gridcolor": "#506784",
            "gridwidth": 2,
            "linecolor": "#506784",
            "showbackground": true,
            "ticks": "",
            "zerolinecolor": "#C8D4E3"
           }
          },
          "shapedefaults": {
           "line": {
            "color": "#f2f5fa"
           }
          },
          "sliderdefaults": {
           "bgcolor": "#C8D4E3",
           "bordercolor": "rgb(17,17,17)",
           "borderwidth": 1,
           "tickwidth": 0
          },
          "ternary": {
           "aaxis": {
            "gridcolor": "#506784",
            "linecolor": "#506784",
            "ticks": ""
           },
           "baxis": {
            "gridcolor": "#506784",
            "linecolor": "#506784",
            "ticks": ""
           },
           "bgcolor": "rgb(17,17,17)",
           "caxis": {
            "gridcolor": "#506784",
            "linecolor": "#506784",
            "ticks": ""
           }
          },
          "title": {
           "x": 0.05
          },
          "updatemenudefaults": {
           "bgcolor": "#506784",
           "borderwidth": 0
          },
          "xaxis": {
           "automargin": true,
           "gridcolor": "#283442",
           "linecolor": "#506784",
           "ticks": "",
           "title": {
            "standoff": 15
           },
           "zerolinecolor": "#283442",
           "zerolinewidth": 2
          },
          "yaxis": {
           "automargin": true,
           "gridcolor": "#283442",
           "linecolor": "#506784",
           "ticks": "",
           "title": {
            "standoff": 15
           },
           "zerolinecolor": "#283442",
           "zerolinewidth": 2
          }
         }
        },
        "title": {
         "text": "8월 [다바8712] 지역 일요일 버스 승차인원"
        },
        "width": 800,
        "xaxis": {
         "anchor": "y",
         "domain": [
          0,
          1
         ],
         "showticklabels": false,
         "title": {
          "text": "x"
         },
         "visible": false
        },
        "yaxis": {
         "anchor": "x",
         "domain": [
          0,
          1
         ],
         "title": {
          "text": "RIDE_DEMAND"
         }
        }
       }
      },
      "text/html": [
       "<div>                            <div id=\"2236c9a8-3aa8-4f14-9ee5-05ad2c8c9cd3\" class=\"plotly-graph-div\" style=\"height:525px; width:800px;\"></div>            <script type=\"text/javascript\">                require([\"plotly\"], function(Plotly) {                    window.PLOTLYENV=window.PLOTLYENV || {};                                    if (document.getElementById(\"2236c9a8-3aa8-4f14-9ee5-05ad2c8c9cd3\")) {                    Plotly.newPlot(                        \"2236c9a8-3aa8-4f14-9ee5-05ad2c8c9cd3\",                        [{\"hovertemplate\":\"variable=RIDE_DEMAND\\u003cbr\\u003ex=%{x}\\u003cbr\\u003evalue=%{y}\\u003cextra\\u003e\\u003c\\u002fextra\\u003e\",\"legendgroup\":\"RIDE_DEMAND\",\"line\":{\"color\":\"#636efa\",\"dash\":\"solid\"},\"marker\":{\"symbol\":\"circle\"},\"mode\":\"lines\",\"name\":\"RIDE_DEMAND\",\"orientation\":\"v\",\"showlegend\":true,\"x\":[5,6,7,8,9,10,11,12,13,14,15,16,17,18,19,20,21,22,23,0,1],\"xaxis\":\"x\",\"y\":[12.0,41.0,43.0,60.0,71.0,74.0,61.0,66.0,84.0,62.0,79.0,82.0,63.0,54.0,45.0,42.0,38.0,23.0,5.0,0.0,0.0],\"yaxis\":\"y\",\"type\":\"scatter\"},{\"hovertemplate\":\"variable=Pred_RIDE_DEMAND\\u003cbr\\u003ex=%{x}\\u003cbr\\u003evalue=%{y}\\u003cextra\\u003e\\u003c\\u002fextra\\u003e\",\"legendgroup\":\"Pred_RIDE_DEMAND\",\"line\":{\"color\":\"#EF553B\",\"dash\":\"solid\"},\"marker\":{\"symbol\":\"circle\"},\"mode\":\"lines\",\"name\":\"Pred_RIDE_DEMAND\",\"orientation\":\"v\",\"showlegend\":true,\"x\":[5,6,7,8,9,10,11,12,13,14,15,16,17,18,19,20,21,22,23,0,1],\"xaxis\":\"x\",\"y\":[7.52984890896462,32.570003478645916,38.08843451053781,61.558999381964554,66.34298110132089,65.47863457756459,69.40685236155417,66.87792332329947,76.42206294006849,67.0297366350311,77.07455895272227,70.05612714744113,68.88066611032488,61.29087226428911,48.14411665949163,65.71790475274274,49.747384579454625,43.0380055042627,-0.34652740831739237,-1.2365302267325333,-1.2365302267325333],\"yaxis\":\"y\",\"type\":\"scatter\"}],                        {\"template\":{\"data\":{\"barpolar\":[{\"marker\":{\"line\":{\"color\":\"rgb(17,17,17)\",\"width\":0.5},\"pattern\":{\"fillmode\":\"overlay\",\"size\":10,\"solidity\":0.2}},\"type\":\"barpolar\"}],\"bar\":[{\"error_x\":{\"color\":\"#f2f5fa\"},\"error_y\":{\"color\":\"#f2f5fa\"},\"marker\":{\"line\":{\"color\":\"rgb(17,17,17)\",\"width\":0.5},\"pattern\":{\"fillmode\":\"overlay\",\"size\":10,\"solidity\":0.2}},\"type\":\"bar\"}],\"carpet\":[{\"aaxis\":{\"endlinecolor\":\"#A2B1C6\",\"gridcolor\":\"#506784\",\"linecolor\":\"#506784\",\"minorgridcolor\":\"#506784\",\"startlinecolor\":\"#A2B1C6\"},\"baxis\":{\"endlinecolor\":\"#A2B1C6\",\"gridcolor\":\"#506784\",\"linecolor\":\"#506784\",\"minorgridcolor\":\"#506784\",\"startlinecolor\":\"#A2B1C6\"},\"type\":\"carpet\"}],\"choropleth\":[{\"colorbar\":{\"outlinewidth\":0,\"ticks\":\"\"},\"type\":\"choropleth\"}],\"contourcarpet\":[{\"colorbar\":{\"outlinewidth\":0,\"ticks\":\"\"},\"type\":\"contourcarpet\"}],\"contour\":[{\"colorbar\":{\"outlinewidth\":0,\"ticks\":\"\"},\"colorscale\":[[0.0,\"#0d0887\"],[0.1111111111111111,\"#46039f\"],[0.2222222222222222,\"#7201a8\"],[0.3333333333333333,\"#9c179e\"],[0.4444444444444444,\"#bd3786\"],[0.5555555555555556,\"#d8576b\"],[0.6666666666666666,\"#ed7953\"],[0.7777777777777778,\"#fb9f3a\"],[0.8888888888888888,\"#fdca26\"],[1.0,\"#f0f921\"]],\"type\":\"contour\"}],\"heatmapgl\":[{\"colorbar\":{\"outlinewidth\":0,\"ticks\":\"\"},\"colorscale\":[[0.0,\"#0d0887\"],[0.1111111111111111,\"#46039f\"],[0.2222222222222222,\"#7201a8\"],[0.3333333333333333,\"#9c179e\"],[0.4444444444444444,\"#bd3786\"],[0.5555555555555556,\"#d8576b\"],[0.6666666666666666,\"#ed7953\"],[0.7777777777777778,\"#fb9f3a\"],[0.8888888888888888,\"#fdca26\"],[1.0,\"#f0f921\"]],\"type\":\"heatmapgl\"}],\"heatmap\":[{\"colorbar\":{\"outlinewidth\":0,\"ticks\":\"\"},\"colorscale\":[[0.0,\"#0d0887\"],[0.1111111111111111,\"#46039f\"],[0.2222222222222222,\"#7201a8\"],[0.3333333333333333,\"#9c179e\"],[0.4444444444444444,\"#bd3786\"],[0.5555555555555556,\"#d8576b\"],[0.6666666666666666,\"#ed7953\"],[0.7777777777777778,\"#fb9f3a\"],[0.8888888888888888,\"#fdca26\"],[1.0,\"#f0f921\"]],\"type\":\"heatmap\"}],\"histogram2dcontour\":[{\"colorbar\":{\"outlinewidth\":0,\"ticks\":\"\"},\"colorscale\":[[0.0,\"#0d0887\"],[0.1111111111111111,\"#46039f\"],[0.2222222222222222,\"#7201a8\"],[0.3333333333333333,\"#9c179e\"],[0.4444444444444444,\"#bd3786\"],[0.5555555555555556,\"#d8576b\"],[0.6666666666666666,\"#ed7953\"],[0.7777777777777778,\"#fb9f3a\"],[0.8888888888888888,\"#fdca26\"],[1.0,\"#f0f921\"]],\"type\":\"histogram2dcontour\"}],\"histogram2d\":[{\"colorbar\":{\"outlinewidth\":0,\"ticks\":\"\"},\"colorscale\":[[0.0,\"#0d0887\"],[0.1111111111111111,\"#46039f\"],[0.2222222222222222,\"#7201a8\"],[0.3333333333333333,\"#9c179e\"],[0.4444444444444444,\"#bd3786\"],[0.5555555555555556,\"#d8576b\"],[0.6666666666666666,\"#ed7953\"],[0.7777777777777778,\"#fb9f3a\"],[0.8888888888888888,\"#fdca26\"],[1.0,\"#f0f921\"]],\"type\":\"histogram2d\"}],\"histogram\":[{\"marker\":{\"pattern\":{\"fillmode\":\"overlay\",\"size\":10,\"solidity\":0.2}},\"type\":\"histogram\"}],\"mesh3d\":[{\"colorbar\":{\"outlinewidth\":0,\"ticks\":\"\"},\"type\":\"mesh3d\"}],\"parcoords\":[{\"line\":{\"colorbar\":{\"outlinewidth\":0,\"ticks\":\"\"}},\"type\":\"parcoords\"}],\"pie\":[{\"automargin\":true,\"type\":\"pie\"}],\"scatter3d\":[{\"line\":{\"colorbar\":{\"outlinewidth\":0,\"ticks\":\"\"}},\"marker\":{\"colorbar\":{\"outlinewidth\":0,\"ticks\":\"\"}},\"type\":\"scatter3d\"}],\"scattercarpet\":[{\"marker\":{\"colorbar\":{\"outlinewidth\":0,\"ticks\":\"\"}},\"type\":\"scattercarpet\"}],\"scattergeo\":[{\"marker\":{\"colorbar\":{\"outlinewidth\":0,\"ticks\":\"\"}},\"type\":\"scattergeo\"}],\"scattergl\":[{\"marker\":{\"line\":{\"color\":\"#283442\"}},\"type\":\"scattergl\"}],\"scattermapbox\":[{\"marker\":{\"colorbar\":{\"outlinewidth\":0,\"ticks\":\"\"}},\"type\":\"scattermapbox\"}],\"scatterpolargl\":[{\"marker\":{\"colorbar\":{\"outlinewidth\":0,\"ticks\":\"\"}},\"type\":\"scatterpolargl\"}],\"scatterpolar\":[{\"marker\":{\"colorbar\":{\"outlinewidth\":0,\"ticks\":\"\"}},\"type\":\"scatterpolar\"}],\"scatter\":[{\"marker\":{\"line\":{\"color\":\"#283442\"}},\"type\":\"scatter\"}],\"scatterternary\":[{\"marker\":{\"colorbar\":{\"outlinewidth\":0,\"ticks\":\"\"}},\"type\":\"scatterternary\"}],\"surface\":[{\"colorbar\":{\"outlinewidth\":0,\"ticks\":\"\"},\"colorscale\":[[0.0,\"#0d0887\"],[0.1111111111111111,\"#46039f\"],[0.2222222222222222,\"#7201a8\"],[0.3333333333333333,\"#9c179e\"],[0.4444444444444444,\"#bd3786\"],[0.5555555555555556,\"#d8576b\"],[0.6666666666666666,\"#ed7953\"],[0.7777777777777778,\"#fb9f3a\"],[0.8888888888888888,\"#fdca26\"],[1.0,\"#f0f921\"]],\"type\":\"surface\"}],\"table\":[{\"cells\":{\"fill\":{\"color\":\"#506784\"},\"line\":{\"color\":\"rgb(17,17,17)\"}},\"header\":{\"fill\":{\"color\":\"#2a3f5f\"},\"line\":{\"color\":\"rgb(17,17,17)\"}},\"type\":\"table\"}]},\"layout\":{\"annotationdefaults\":{\"arrowcolor\":\"#f2f5fa\",\"arrowhead\":0,\"arrowwidth\":1},\"autotypenumbers\":\"strict\",\"coloraxis\":{\"colorbar\":{\"outlinewidth\":0,\"ticks\":\"\"}},\"colorscale\":{\"diverging\":[[0,\"#8e0152\"],[0.1,\"#c51b7d\"],[0.2,\"#de77ae\"],[0.3,\"#f1b6da\"],[0.4,\"#fde0ef\"],[0.5,\"#f7f7f7\"],[0.6,\"#e6f5d0\"],[0.7,\"#b8e186\"],[0.8,\"#7fbc41\"],[0.9,\"#4d9221\"],[1,\"#276419\"]],\"sequential\":[[0.0,\"#0d0887\"],[0.1111111111111111,\"#46039f\"],[0.2222222222222222,\"#7201a8\"],[0.3333333333333333,\"#9c179e\"],[0.4444444444444444,\"#bd3786\"],[0.5555555555555556,\"#d8576b\"],[0.6666666666666666,\"#ed7953\"],[0.7777777777777778,\"#fb9f3a\"],[0.8888888888888888,\"#fdca26\"],[1.0,\"#f0f921\"]],\"sequentialminus\":[[0.0,\"#0d0887\"],[0.1111111111111111,\"#46039f\"],[0.2222222222222222,\"#7201a8\"],[0.3333333333333333,\"#9c179e\"],[0.4444444444444444,\"#bd3786\"],[0.5555555555555556,\"#d8576b\"],[0.6666666666666666,\"#ed7953\"],[0.7777777777777778,\"#fb9f3a\"],[0.8888888888888888,\"#fdca26\"],[1.0,\"#f0f921\"]]},\"colorway\":[\"#636efa\",\"#EF553B\",\"#00cc96\",\"#ab63fa\",\"#FFA15A\",\"#19d3f3\",\"#FF6692\",\"#B6E880\",\"#FF97FF\",\"#FECB52\"],\"font\":{\"color\":\"#f2f5fa\"},\"geo\":{\"bgcolor\":\"rgb(17,17,17)\",\"lakecolor\":\"rgb(17,17,17)\",\"landcolor\":\"rgb(17,17,17)\",\"showlakes\":true,\"showland\":true,\"subunitcolor\":\"#506784\"},\"hoverlabel\":{\"align\":\"left\"},\"hovermode\":\"closest\",\"mapbox\":{\"style\":\"dark\"},\"paper_bgcolor\":\"rgb(17,17,17)\",\"plot_bgcolor\":\"rgb(17,17,17)\",\"polar\":{\"angularaxis\":{\"gridcolor\":\"#506784\",\"linecolor\":\"#506784\",\"ticks\":\"\"},\"bgcolor\":\"rgb(17,17,17)\",\"radialaxis\":{\"gridcolor\":\"#506784\",\"linecolor\":\"#506784\",\"ticks\":\"\"}},\"scene\":{\"xaxis\":{\"backgroundcolor\":\"rgb(17,17,17)\",\"gridcolor\":\"#506784\",\"gridwidth\":2,\"linecolor\":\"#506784\",\"showbackground\":true,\"ticks\":\"\",\"zerolinecolor\":\"#C8D4E3\"},\"yaxis\":{\"backgroundcolor\":\"rgb(17,17,17)\",\"gridcolor\":\"#506784\",\"gridwidth\":2,\"linecolor\":\"#506784\",\"showbackground\":true,\"ticks\":\"\",\"zerolinecolor\":\"#C8D4E3\"},\"zaxis\":{\"backgroundcolor\":\"rgb(17,17,17)\",\"gridcolor\":\"#506784\",\"gridwidth\":2,\"linecolor\":\"#506784\",\"showbackground\":true,\"ticks\":\"\",\"zerolinecolor\":\"#C8D4E3\"}},\"shapedefaults\":{\"line\":{\"color\":\"#f2f5fa\"}},\"sliderdefaults\":{\"bgcolor\":\"#C8D4E3\",\"bordercolor\":\"rgb(17,17,17)\",\"borderwidth\":1,\"tickwidth\":0},\"ternary\":{\"aaxis\":{\"gridcolor\":\"#506784\",\"linecolor\":\"#506784\",\"ticks\":\"\"},\"baxis\":{\"gridcolor\":\"#506784\",\"linecolor\":\"#506784\",\"ticks\":\"\"},\"bgcolor\":\"rgb(17,17,17)\",\"caxis\":{\"gridcolor\":\"#506784\",\"linecolor\":\"#506784\",\"ticks\":\"\"}},\"title\":{\"x\":0.05},\"updatemenudefaults\":{\"bgcolor\":\"#506784\",\"borderwidth\":0},\"xaxis\":{\"automargin\":true,\"gridcolor\":\"#283442\",\"linecolor\":\"#506784\",\"ticks\":\"\",\"title\":{\"standoff\":15},\"zerolinecolor\":\"#283442\",\"zerolinewidth\":2},\"yaxis\":{\"automargin\":true,\"gridcolor\":\"#283442\",\"linecolor\":\"#506784\",\"ticks\":\"\",\"title\":{\"standoff\":15},\"zerolinecolor\":\"#283442\",\"zerolinewidth\":2}}},\"xaxis\":{\"anchor\":\"y\",\"domain\":[0.0,1.0],\"title\":{\"text\":\"x\"},\"showticklabels\":false,\"visible\":false},\"yaxis\":{\"anchor\":\"x\",\"domain\":[0.0,1.0],\"title\":{\"text\":\"RIDE_DEMAND\"}},\"legend\":{\"title\":{\"text\":\"variable\"},\"tracegroupgap\":0},\"margin\":{\"t\":60,\"l\":0,\"r\":0,\"b\":0,\"pad\":10},\"title\":{\"text\":\"8\\uc6d4 [\\ub2e4\\ubc148712] \\uc9c0\\uc5ed \\uc77c\\uc694\\uc77c \\ubc84\\uc2a4 \\uc2b9\\ucc28\\uc778\\uc6d0\"},\"width\":800},                        {\"responsive\": true}                    ).then(function(){\n",
       "                            \n",
       "var gd = document.getElementById('2236c9a8-3aa8-4f14-9ee5-05ad2c8c9cd3');\n",
       "var x = new MutationObserver(function (mutations, observer) {{\n",
       "        var display = window.getComputedStyle(gd).display;\n",
       "        if (!display || display === 'none') {{\n",
       "            console.log([gd, 'removed!']);\n",
       "            Plotly.purge(gd);\n",
       "            observer.disconnect();\n",
       "        }}\n",
       "}});\n",
       "\n",
       "// Listen for the removal of the full notebook cells\n",
       "var notebookContainer = gd.closest('#notebook-container');\n",
       "if (notebookContainer) {{\n",
       "    x.observe(notebookContainer, {childList: true});\n",
       "}}\n",
       "\n",
       "// Listen for the clearing of the current output cell\n",
       "var outputEl = gd.closest('.output');\n",
       "if (outputEl) {{\n",
       "    x.observe(outputEl, {childList: true});\n",
       "}}\n",
       "\n",
       "                        })                };                });            </script>        </div>"
      ]
     },
     "metadata": {},
     "output_type": "display_data"
    }
   ],
   "source": [
    "gid = text=x_valid_su8['gid'].unique()[120]\n",
    "text='8월 ['+gid+ '] 지역 일요일 버스 승차인원'\n",
    "\n",
    "result_fig = px.line(x_valid_su8[x_valid['gid']==gid], x=x_valid_su8[x_valid['gid']==x_valid_su8['gid'].unique()[0]]['TIME'], y=[\"RIDE_DEMAND\", \"Pred_RIDE_DEMAND\"])\n",
    "result_fig.update_layout(\n",
    "    title = text,\n",
    "    margin={\"l\":0,\"r\":0,\"b\":0,\"pad\":10},\n",
    "    template=\"plotly_dark\",\n",
    "    width= 800\n",
    ")\n",
    "result_fig.update_xaxes(\n",
    "    matches=None, showticklabels=False, visible=False\n",
    ")\n",
    "\n",
    "\n",
    "result_fig.update_yaxes(\n",
    "    title = 'RIDE_DEMAND'\n",
    ")"
   ]
  },
  {
   "cell_type": "markdown",
   "id": "1c5c668f",
   "metadata": {},
   "source": [
    "## 최종 모델 훈련"
   ]
  },
  {
   "cell_type": "code",
   "execution_count": 279,
   "id": "62f23328",
   "metadata": {
    "scrolled": true
   },
   "outputs": [
    {
     "name": "stdout",
     "output_type": "stream",
     "text": [
      "0:\tlearn: 89.3996371\ttotal: 393ms\tremaining: 5m 14s\n",
      "10:\tlearn: 38.0221676\ttotal: 4.92s\tremaining: 5m 52s\n",
      "20:\tlearn: 29.8282926\ttotal: 9.43s\tremaining: 5m 49s\n",
      "30:\tlearn: 26.2803286\ttotal: 13.7s\tremaining: 5m 39s\n",
      "40:\tlearn: 24.0389406\ttotal: 17.8s\tremaining: 5m 29s\n",
      "50:\tlearn: 22.9012203\ttotal: 22.1s\tremaining: 5m 23s\n",
      "60:\tlearn: 21.8185031\ttotal: 26s\tremaining: 5m 14s\n",
      "70:\tlearn: 21.0446259\ttotal: 29.6s\tremaining: 5m 3s\n",
      "80:\tlearn: 20.3655408\ttotal: 33.2s\tremaining: 4m 54s\n",
      "90:\tlearn: 19.8624850\ttotal: 37.1s\tremaining: 4m 49s\n",
      "100:\tlearn: 19.3675042\ttotal: 41s\tremaining: 4m 43s\n",
      "110:\tlearn: 18.7576426\ttotal: 45.1s\tremaining: 4m 39s\n",
      "120:\tlearn: 18.4676424\ttotal: 48.8s\tremaining: 4m 34s\n",
      "130:\tlearn: 18.1748989\ttotal: 52.7s\tremaining: 4m 29s\n",
      "140:\tlearn: 17.9573057\ttotal: 56.9s\tremaining: 4m 26s\n",
      "150:\tlearn: 17.6854245\ttotal: 1m\tremaining: 4m 22s\n",
      "160:\tlearn: 17.4812566\ttotal: 1m 5s\tremaining: 4m 18s\n",
      "170:\tlearn: 17.2060825\ttotal: 1m 9s\tremaining: 4m 15s\n",
      "180:\tlearn: 17.0030427\ttotal: 1m 13s\tremaining: 4m 12s\n",
      "190:\tlearn: 16.8757600\ttotal: 1m 17s\tremaining: 4m 6s\n",
      "200:\tlearn: 16.6599106\ttotal: 1m 21s\tremaining: 4m 2s\n",
      "210:\tlearn: 16.4739583\ttotal: 1m 25s\tremaining: 3m 59s\n",
      "220:\tlearn: 16.2772493\ttotal: 1m 30s\tremaining: 3m 55s\n",
      "230:\tlearn: 16.1255247\ttotal: 1m 34s\tremaining: 3m 51s\n",
      "240:\tlearn: 16.0249548\ttotal: 1m 38s\tremaining: 3m 48s\n",
      "250:\tlearn: 15.9072430\ttotal: 1m 41s\tremaining: 3m 42s\n",
      "260:\tlearn: 15.7924228\ttotal: 1m 45s\tremaining: 3m 38s\n",
      "270:\tlearn: 15.6118021\ttotal: 1m 49s\tremaining: 3m 34s\n",
      "280:\tlearn: 15.4691863\ttotal: 1m 53s\tremaining: 3m 29s\n",
      "290:\tlearn: 15.3710690\ttotal: 1m 56s\tremaining: 3m 24s\n",
      "300:\tlearn: 15.2436362\ttotal: 2m\tremaining: 3m 19s\n",
      "310:\tlearn: 15.1417090\ttotal: 2m 4s\tremaining: 3m 15s\n",
      "320:\tlearn: 15.0455524\ttotal: 2m 8s\tremaining: 3m 12s\n",
      "330:\tlearn: 14.9382983\ttotal: 2m 13s\tremaining: 3m 8s\n",
      "340:\tlearn: 14.8400929\ttotal: 2m 16s\tremaining: 3m 4s\n",
      "350:\tlearn: 14.7723911\ttotal: 2m 20s\tremaining: 2m 59s\n",
      "360:\tlearn: 14.7116215\ttotal: 2m 23s\tremaining: 2m 54s\n",
      "370:\tlearn: 14.6219654\ttotal: 2m 27s\tremaining: 2m 50s\n",
      "380:\tlearn: 14.5357548\ttotal: 2m 31s\tremaining: 2m 46s\n",
      "390:\tlearn: 14.3812598\ttotal: 2m 35s\tremaining: 2m 42s\n",
      "400:\tlearn: 14.3000395\ttotal: 2m 39s\tremaining: 2m 38s\n",
      "410:\tlearn: 14.2205117\ttotal: 2m 43s\tremaining: 2m 34s\n",
      "420:\tlearn: 14.1818039\ttotal: 2m 46s\tremaining: 2m 30s\n",
      "430:\tlearn: 14.1083988\ttotal: 2m 51s\tremaining: 2m 26s\n",
      "440:\tlearn: 14.0331356\ttotal: 2m 55s\tremaining: 2m 22s\n",
      "450:\tlearn: 13.9797092\ttotal: 2m 59s\tremaining: 2m 19s\n",
      "460:\tlearn: 13.9171063\ttotal: 3m 3s\tremaining: 2m 14s\n",
      "470:\tlearn: 13.8224149\ttotal: 3m 7s\tremaining: 2m 11s\n",
      "480:\tlearn: 13.7786143\ttotal: 3m 11s\tremaining: 2m 7s\n",
      "490:\tlearn: 13.7080632\ttotal: 3m 16s\tremaining: 2m 3s\n",
      "500:\tlearn: 13.6008865\ttotal: 3m 20s\tremaining: 1m 59s\n",
      "510:\tlearn: 13.5328546\ttotal: 3m 25s\tremaining: 1m 55s\n",
      "520:\tlearn: 13.4700305\ttotal: 3m 29s\tremaining: 1m 51s\n",
      "530:\tlearn: 13.4322419\ttotal: 3m 33s\tremaining: 1m 48s\n",
      "540:\tlearn: 13.3752971\ttotal: 3m 36s\tremaining: 1m 43s\n",
      "550:\tlearn: 13.3388114\ttotal: 3m 40s\tremaining: 1m 39s\n",
      "560:\tlearn: 13.2950649\ttotal: 3m 44s\tremaining: 1m 35s\n",
      "570:\tlearn: 13.2385199\ttotal: 3m 48s\tremaining: 1m 31s\n",
      "580:\tlearn: 13.1874983\ttotal: 3m 52s\tremaining: 1m 27s\n",
      "590:\tlearn: 13.1388487\ttotal: 3m 56s\tremaining: 1m 23s\n",
      "600:\tlearn: 13.0695003\ttotal: 4m\tremaining: 1m 19s\n",
      "610:\tlearn: 13.0361615\ttotal: 4m 3s\tremaining: 1m 15s\n",
      "620:\tlearn: 12.9842650\ttotal: 4m 7s\tremaining: 1m 11s\n",
      "630:\tlearn: 12.9179418\ttotal: 4m 11s\tremaining: 1m 7s\n",
      "640:\tlearn: 12.8780941\ttotal: 4m 15s\tremaining: 1m 3s\n",
      "650:\tlearn: 12.8292434\ttotal: 4m 18s\tremaining: 59.3s\n",
      "660:\tlearn: 12.7989485\ttotal: 4m 22s\tremaining: 55.2s\n",
      "670:\tlearn: 12.7501837\ttotal: 4m 26s\tremaining: 51.2s\n",
      "680:\tlearn: 12.7054684\ttotal: 4m 30s\tremaining: 47.3s\n",
      "690:\tlearn: 12.6751781\ttotal: 4m 34s\tremaining: 43.3s\n",
      "700:\tlearn: 12.6370570\ttotal: 4m 38s\tremaining: 39.3s\n",
      "710:\tlearn: 12.5972590\ttotal: 4m 41s\tremaining: 35.3s\n",
      "720:\tlearn: 12.5540444\ttotal: 4m 45s\tremaining: 31.3s\n",
      "730:\tlearn: 12.5135731\ttotal: 4m 49s\tremaining: 27.3s\n",
      "740:\tlearn: 12.4644617\ttotal: 4m 53s\tremaining: 23.4s\n",
      "750:\tlearn: 12.4314387\ttotal: 4m 57s\tremaining: 19.4s\n",
      "760:\tlearn: 12.4082997\ttotal: 5m\tremaining: 15.4s\n",
      "770:\tlearn: 12.3604782\ttotal: 5m 5s\tremaining: 11.5s\n",
      "780:\tlearn: 12.3240566\ttotal: 5m 9s\tremaining: 7.52s\n",
      "790:\tlearn: 12.3007597\ttotal: 5m 13s\tremaining: 3.56s\n",
      "799:\tlearn: 12.2553283\ttotal: 5m 16s\tremaining: 0us\n"
     ]
    },
    {
     "data": {
      "text/plain": [
       "<catboost.core.CatBoostRegressor at 0x286009e52e0>"
      ]
     },
     "execution_count": 279,
     "metadata": {},
     "output_type": "execute_result"
    }
   ],
   "source": [
    "# 독립 변수(X)와 종속 변수(y) 설정\n",
    "warnings.filterwarnings(\"ignore\")\n",
    "\n",
    "x_train = data[['gid', 'TIME', 'DAY','ALIGHT_DEMAND']]\n",
    "y_train = data['RIDE_DEMAND']\n",
    "\n",
    "features = [0,1,2]\n",
    "\n",
    "train_dataset = cb.Pool(x_train, y_train, cat_features = features) \n",
    "# test_dataset = cb.Pool(x_test, y_test, cat_features = features)\n",
    "\n",
    "model = cb.CatBoostRegressor(iterations=800, depth=10, learning_rate=0.2, loss_function= 'RMSE', l2_leaf_reg = 1, task_type=\"CPU\")\n",
    "\n",
    "model.fit(train_dataset, verbose_eval=10)"
   ]
  },
  {
   "cell_type": "markdown",
   "id": "0456dcc7",
   "metadata": {},
   "source": [
    "# 최종 모델 pkl 형식으로 내보내기"
   ]
  },
  {
   "cell_type": "code",
   "execution_count": 74,
   "id": "451f18d4",
   "metadata": {},
   "outputs": [],
   "source": [
    "import pickle"
   ]
  },
  {
   "cell_type": "code",
   "execution_count": 19,
   "id": "7f98a3cf",
   "metadata": {},
   "outputs": [],
   "source": [
    "pickle.dump(model, open(\"RideDemand_model_최종.pkl\", 'wb'))"
   ]
  },
  {
   "cell_type": "code",
   "execution_count": 3,
   "id": "fbf79e97",
   "metadata": {},
   "outputs": [],
   "source": [
    "# 모델을 pkl 파일로 저장\n",
    "with open('catboost_model.pkl', 'wb') as model_file:\n",
    "    pickle.dump(model, model_file)"
   ]
  },
  {
   "cell_type": "markdown",
   "id": "bc824ed0",
   "metadata": {},
   "source": [
    "## pkl 형식 모델 다시 가져와서 최종 테스트 데이터 승차인원 예측하기"
   ]
  },
  {
   "cell_type": "code",
   "execution_count": 284,
   "id": "4f3ffc6d",
   "metadata": {},
   "outputs": [],
   "source": [
    "# 독립 변수(X)와 종속 변수(y) 설정\n",
    "data_test_x = data_test[['gid', 'TIME', 'DAY','ALIGHT_DEMAND']]"
   ]
  },
  {
   "cell_type": "code",
   "execution_count": 281,
   "id": "f17669fa",
   "metadata": {},
   "outputs": [],
   "source": [
    "ride_demand_model = pickle.load(open(\"RideDemand_model_김아윤.pkl\", 'rb'))"
   ]
  },
  {
   "cell_type": "code",
   "execution_count": 285,
   "id": "3fba2da0",
   "metadata": {},
   "outputs": [],
   "source": [
    "final_pred = ride_demand_model.predict(data_test_x)"
   ]
  },
  {
   "cell_type": "code",
   "execution_count": 286,
   "id": "71259e44",
   "metadata": {
    "scrolled": true
   },
   "outputs": [
    {
     "data": {
      "text/plain": [
       "array([0.78075574, 2.23452909, 2.73750837, ..., 0.10456973, 0.07952873,\n",
       "       0.07952873])"
      ]
     },
     "execution_count": 286,
     "metadata": {},
     "output_type": "execute_result"
    }
   ],
   "source": [
    "final_pred"
   ]
  },
  {
   "cell_type": "code",
   "execution_count": 292,
   "id": "2146aaf4",
   "metadata": {},
   "outputs": [
    {
     "data": {
      "text/html": [
       "<div>\n",
       "<style scoped>\n",
       "    .dataframe tbody tr th:only-of-type {\n",
       "        vertical-align: middle;\n",
       "    }\n",
       "\n",
       "    .dataframe tbody tr th {\n",
       "        vertical-align: top;\n",
       "    }\n",
       "\n",
       "    .dataframe thead th {\n",
       "        text-align: right;\n",
       "    }\n",
       "</style>\n",
       "<table border=\"1\" class=\"dataframe\">\n",
       "  <thead>\n",
       "    <tr style=\"text-align: right;\">\n",
       "      <th></th>\n",
       "      <th>gid</th>\n",
       "      <th>DATE</th>\n",
       "      <th>TIME</th>\n",
       "      <th>ALIGHT_DEMAND</th>\n",
       "      <th>PRED_RIDE_DEMAND</th>\n",
       "    </tr>\n",
       "  </thead>\n",
       "  <tbody>\n",
       "    <tr>\n",
       "      <th>0</th>\n",
       "      <td>다마9599</td>\n",
       "      <td>2023-06-24</td>\n",
       "      <td>5</td>\n",
       "      <td>0</td>\n",
       "      <td>0.780756</td>\n",
       "    </tr>\n",
       "    <tr>\n",
       "      <th>1</th>\n",
       "      <td>다마9599</td>\n",
       "      <td>2023-06-24</td>\n",
       "      <td>6</td>\n",
       "      <td>1</td>\n",
       "      <td>2.234529</td>\n",
       "    </tr>\n",
       "    <tr>\n",
       "      <th>2</th>\n",
       "      <td>다마9599</td>\n",
       "      <td>2023-06-24</td>\n",
       "      <td>7</td>\n",
       "      <td>0</td>\n",
       "      <td>2.737508</td>\n",
       "    </tr>\n",
       "    <tr>\n",
       "      <th>3</th>\n",
       "      <td>다마9599</td>\n",
       "      <td>2023-06-24</td>\n",
       "      <td>8</td>\n",
       "      <td>1</td>\n",
       "      <td>3.175219</td>\n",
       "    </tr>\n",
       "    <tr>\n",
       "      <th>4</th>\n",
       "      <td>다마9599</td>\n",
       "      <td>2023-06-24</td>\n",
       "      <td>9</td>\n",
       "      <td>5</td>\n",
       "      <td>3.547135</td>\n",
       "    </tr>\n",
       "    <tr>\n",
       "      <th>...</th>\n",
       "      <td>...</td>\n",
       "      <td>...</td>\n",
       "      <td>...</td>\n",
       "      <td>...</td>\n",
       "      <td>...</td>\n",
       "    </tr>\n",
       "    <tr>\n",
       "      <th>161842</th>\n",
       "      <td>라바0421</td>\n",
       "      <td>2023-08-31</td>\n",
       "      <td>21</td>\n",
       "      <td>1</td>\n",
       "      <td>0.045138</td>\n",
       "    </tr>\n",
       "    <tr>\n",
       "      <th>161843</th>\n",
       "      <td>라바0421</td>\n",
       "      <td>2023-08-31</td>\n",
       "      <td>22</td>\n",
       "      <td>0</td>\n",
       "      <td>0.082919</td>\n",
       "    </tr>\n",
       "    <tr>\n",
       "      <th>161844</th>\n",
       "      <td>라바0421</td>\n",
       "      <td>2023-08-31</td>\n",
       "      <td>23</td>\n",
       "      <td>0</td>\n",
       "      <td>0.104570</td>\n",
       "    </tr>\n",
       "    <tr>\n",
       "      <th>161845</th>\n",
       "      <td>라바0421</td>\n",
       "      <td>2023-08-31</td>\n",
       "      <td>0</td>\n",
       "      <td>0</td>\n",
       "      <td>0.079529</td>\n",
       "    </tr>\n",
       "    <tr>\n",
       "      <th>161846</th>\n",
       "      <td>라바0421</td>\n",
       "      <td>2023-08-31</td>\n",
       "      <td>1</td>\n",
       "      <td>0</td>\n",
       "      <td>0.079529</td>\n",
       "    </tr>\n",
       "  </tbody>\n",
       "</table>\n",
       "<p>161847 rows × 5 columns</p>\n",
       "</div>"
      ],
      "text/plain": [
       "           gid       DATE  TIME  ALIGHT_DEMAND  PRED_RIDE_DEMAND\n",
       "0       다마9599 2023-06-24     5              0          0.780756\n",
       "1       다마9599 2023-06-24     6              1          2.234529\n",
       "2       다마9599 2023-06-24     7              0          2.737508\n",
       "3       다마9599 2023-06-24     8              1          3.175219\n",
       "4       다마9599 2023-06-24     9              5          3.547135\n",
       "...        ...        ...   ...            ...               ...\n",
       "161842  라바0421 2023-08-31    21              1          0.045138\n",
       "161843  라바0421 2023-08-31    22              0          0.082919\n",
       "161844  라바0421 2023-08-31    23              0          0.104570\n",
       "161845  라바0421 2023-08-31     0              0          0.079529\n",
       "161846  라바0421 2023-08-31     1              0          0.079529\n",
       "\n",
       "[161847 rows x 5 columns]"
      ]
     },
     "execution_count": 292,
     "metadata": {},
     "output_type": "execute_result"
    }
   ],
   "source": [
    "data_test['PRED_RIDE_DEMAND'] = final_pred\n",
    "del data_test['DAY']  # 추가했던 요일 데이터 지우기\n",
    "data_test"
   ]
  },
  {
   "cell_type": "code",
   "execution_count": 293,
   "id": "560abe23",
   "metadata": {},
   "outputs": [],
   "source": [
    "data_test.to_csv('test_data_result.csv')"
   ]
  }
 ],
 "metadata": {
  "kernelspec": {
   "display_name": "Python 3 (ipykernel)",
   "language": "python",
   "name": "python3"
  },
  "language_info": {
   "codemirror_mode": {
    "name": "ipython",
    "version": 3
   },
   "file_extension": ".py",
   "mimetype": "text/x-python",
   "name": "python",
   "nbconvert_exporter": "python",
   "pygments_lexer": "ipython3",
   "version": "3.8.17"
  }
 },
 "nbformat": 4,
 "nbformat_minor": 5
}
